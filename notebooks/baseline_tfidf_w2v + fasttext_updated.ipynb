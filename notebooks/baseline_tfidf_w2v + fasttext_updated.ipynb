{
 "cells": [
  {
   "cell_type": "code",
   "execution_count": 2,
   "id": "adbbc2c7",
   "metadata": {},
   "outputs": [
    {
     "name": "stderr",
     "output_type": "stream",
     "text": [
      "[nltk_data] Downloading package stopwords to\n",
      "[nltk_data]     /Users/xiangzairan/nltk_data...\n",
      "[nltk_data]   Package stopwords is already up-to-date!\n",
      "[nltk_data] Downloading package wordnet to\n",
      "[nltk_data]     /Users/xiangzairan/nltk_data...\n",
      "[nltk_data]   Package wordnet is already up-to-date!\n",
      "[nltk_data] Downloading package punkt to\n",
      "[nltk_data]     /Users/xiangzairan/nltk_data...\n",
      "[nltk_data]   Package punkt is already up-to-date!\n"
     ]
    },
    {
     "data": {
      "text/html": [
       "<div>\n",
       "<style scoped>\n",
       "    .dataframe tbody tr th:only-of-type {\n",
       "        vertical-align: middle;\n",
       "    }\n",
       "\n",
       "    .dataframe tbody tr th {\n",
       "        vertical-align: top;\n",
       "    }\n",
       "\n",
       "    .dataframe thead th {\n",
       "        text-align: right;\n",
       "    }\n",
       "</style>\n",
       "<table border=\"1\" class=\"dataframe\">\n",
       "  <thead>\n",
       "    <tr style=\"text-align: right;\">\n",
       "      <th></th>\n",
       "      <th>sentence</th>\n",
       "      <th>label</th>\n",
       "    </tr>\n",
       "  </thead>\n",
       "  <tbody>\n",
       "    <tr>\n",
       "      <th>0</th>\n",
       "      <td>subject take advantage low interest  rates  no...</td>\n",
       "      <td>insurance-etc</td>\n",
       "    </tr>\n",
       "    <tr>\n",
       "      <th>1</th>\n",
       "      <td>subject lowest rate us history sound  let 6000...</td>\n",
       "      <td>insurance-etc</td>\n",
       "    </tr>\n",
       "    <tr>\n",
       "      <th>2</th>\n",
       "      <td>subject application pre  approved monday oct 1...</td>\n",
       "      <td>insurance-etc</td>\n",
       "    </tr>\n",
       "    <tr>\n",
       "      <th>3</th>\n",
       "      <td>subject final offer wed  29 sep 2004 19  16  0...</td>\n",
       "      <td>insurance-etc</td>\n",
       "    </tr>\n",
       "    <tr>\n",
       "      <th>4</th>\n",
       "      <td>subject  congratulations conditional apprgm ov...</td>\n",
       "      <td>insurance-etc</td>\n",
       "    </tr>\n",
       "    <tr>\n",
       "      <th>...</th>\n",
       "      <td>...</td>\n",
       "      <td>...</td>\n",
       "    </tr>\n",
       "    <tr>\n",
       "      <th>2337</th>\n",
       "      <td>subject popular software low low prices  bury ...</td>\n",
       "      <td>software-sales</td>\n",
       "    </tr>\n",
       "    <tr>\n",
       "      <th>2338</th>\n",
       "      <td>subject clean ur computer 3 ey 85  chance comp...</td>\n",
       "      <td>software-sales</td>\n",
       "    </tr>\n",
       "    <tr>\n",
       "      <th>2339</th>\n",
       "      <td>subject software incredibly low prices  73  lo...</td>\n",
       "      <td>software-sales</td>\n",
       "    </tr>\n",
       "    <tr>\n",
       "      <th>2340</th>\n",
       "      <td>subject latest qem software available  low pri...</td>\n",
       "      <td>software-sales</td>\n",
       "    </tr>\n",
       "    <tr>\n",
       "      <th>2341</th>\n",
       "      <td>subject cnet reviews  results favorite program...</td>\n",
       "      <td>software-sales</td>\n",
       "    </tr>\n",
       "  </tbody>\n",
       "</table>\n",
       "<p>2342 rows × 2 columns</p>\n",
       "</div>"
      ],
      "text/plain": [
       "                                               sentence           label\n",
       "0     subject take advantage low interest  rates  no...   insurance-etc\n",
       "1     subject lowest rate us history sound  let 6000...   insurance-etc\n",
       "2     subject application pre  approved monday oct 1...   insurance-etc\n",
       "3     subject final offer wed  29 sep 2004 19  16  0...   insurance-etc\n",
       "4     subject  congratulations conditional apprgm ov...   insurance-etc\n",
       "...                                                 ...             ...\n",
       "2337  subject popular software low low prices  bury ...  software-sales\n",
       "2338  subject clean ur computer 3 ey 85  chance comp...  software-sales\n",
       "2339  subject software incredibly low prices  73  lo...  software-sales\n",
       "2340  subject latest qem software available  low pri...  software-sales\n",
       "2341  subject cnet reviews  results favorite program...  software-sales\n",
       "\n",
       "[2342 rows x 2 columns]"
      ]
     },
     "execution_count": 2,
     "metadata": {},
     "output_type": "execute_result"
    }
   ],
   "source": [
    "import pickle\n",
    "import pandas as pd\n",
    "import numpy as np\n",
    "import os\n",
    "import nltk\n",
    "nltk.download('stopwords')\n",
    "nltk.download('wordnet')\n",
    "nltk.download('punkt')\n",
    "from nltk.corpus import stopwords\n",
    "from nltk.stem import WordNetLemmatizer\n",
    "  \n",
    "lemmatizer = WordNetLemmatizer()\n",
    "import re\n",
    "\n",
    "\n",
    "def cleaning(sentence):\n",
    "    stop_words = set(stopwords.words('english'))\n",
    "    tokens = re.sub(r'[^\\w\\s]', '', sentence.lower()).replace(\"\\n\", \" \").split(\" \")\n",
    "    cleaned = [token for token in tokens if token not in stop_words]\n",
    "    return \" \".join(cleaned)\n",
    "\n",
    "\n",
    "labels = [\"insurance-etc\",\"investment\", \"medical-sales\", \"phising\", \"sexual\", \"software-sales\"]\n",
    "text = []\n",
    "classes = []\n",
    "# for label in labels:\n",
    "#     path = \"data/raw/spam/Annotated/\"+label\n",
    "  \n",
    "#     os.chdir(path)\n",
    "  \n",
    "#     def read_text_file(file_path):\n",
    "#         with open(file_path, 'r', encoding='ISO-8859-1') as f:\n",
    "#             return f.read()\n",
    "      \n",
    "#     for file in os.listdir():\n",
    "    \n",
    "#         if file.endswith(\".txt\"):\n",
    "#             file_path = f\"{path}/{file}\"\n",
    "#             text.append(cleaning(str(read_text_file(file_path))))\n",
    "#             classes.append(label)\n",
    "\n",
    "for cla in labels:\n",
    "    all_files = os.listdir(\"data/raw/spam/Annotated/\" + cla)\n",
    "    for fil in all_files:\n",
    "        if fil.endswith(\".txt\"):\n",
    "            file_path = \"data/raw/spam/Annotated/\" + cla + \"/\" + fil\n",
    "            with open(file_path, 'r', encoding='ISO-8859-1') as f:\n",
    "                text.append(cleaning(str(f.read())))\n",
    "                classes.append(cla)\n",
    "                        \n",
    "data = pd.DataFrame({'sentence':text, 'label':classes})\n",
    "data"
   ]
  },
  {
   "cell_type": "code",
   "execution_count": 3,
   "id": "932b7945",
   "metadata": {},
   "outputs": [],
   "source": [
    "def tfidf(word):\n",
    "    sentence = data['sentence']\n",
    "    idf = np.log(len(sentence)/sentence.str.contains(word).sum())\n",
    "    result = []\n",
    "    for i in range(len(sentence)):\n",
    "        tf = sentence.iloc[i].count(word)/(len(sentence.iloc[i]))\n",
    "        result.append(tf*idf)\n",
    "    return result\n"
   ]
  },
  {
   "cell_type": "code",
   "execution_count": 4,
   "id": "a7bf0907",
   "metadata": {},
   "outputs": [
    {
     "data": {
      "text/html": [
       "<div>\n",
       "<style scoped>\n",
       "    .dataframe tbody tr th:only-of-type {\n",
       "        vertical-align: middle;\n",
       "    }\n",
       "\n",
       "    .dataframe tbody tr th {\n",
       "        vertical-align: top;\n",
       "    }\n",
       "\n",
       "    .dataframe thead th {\n",
       "        text-align: right;\n",
       "    }\n",
       "</style>\n",
       "<table border=\"1\" class=\"dataframe\">\n",
       "  <thead>\n",
       "    <tr style=\"text-align: right;\">\n",
       "      <th></th>\n",
       "      <th>insurance-etc</th>\n",
       "      <th>investment</th>\n",
       "      <th>medical-sales</th>\n",
       "      <th>phising</th>\n",
       "      <th>sexual</th>\n",
       "      <th>software-sales</th>\n",
       "    </tr>\n",
       "  </thead>\n",
       "  <tbody>\n",
       "    <tr>\n",
       "      <th>0</th>\n",
       "      <td>0.032417</td>\n",
       "      <td>0.012053</td>\n",
       "      <td>0.000000</td>\n",
       "      <td>0.000000</td>\n",
       "      <td>0.007130</td>\n",
       "      <td>0.000000</td>\n",
       "    </tr>\n",
       "    <tr>\n",
       "      <th>1</th>\n",
       "      <td>0.057250</td>\n",
       "      <td>0.003856</td>\n",
       "      <td>0.000000</td>\n",
       "      <td>0.000000</td>\n",
       "      <td>0.000000</td>\n",
       "      <td>0.000000</td>\n",
       "    </tr>\n",
       "    <tr>\n",
       "      <th>2</th>\n",
       "      <td>0.015633</td>\n",
       "      <td>0.000000</td>\n",
       "      <td>0.001337</td>\n",
       "      <td>0.000000</td>\n",
       "      <td>0.000000</td>\n",
       "      <td>0.000000</td>\n",
       "    </tr>\n",
       "    <tr>\n",
       "      <th>3</th>\n",
       "      <td>0.012803</td>\n",
       "      <td>0.006197</td>\n",
       "      <td>0.000000</td>\n",
       "      <td>0.003688</td>\n",
       "      <td>0.000000</td>\n",
       "      <td>0.022694</td>\n",
       "    </tr>\n",
       "    <tr>\n",
       "      <th>4</th>\n",
       "      <td>0.002356</td>\n",
       "      <td>0.001836</td>\n",
       "      <td>0.000359</td>\n",
       "      <td>0.000000</td>\n",
       "      <td>0.000995</td>\n",
       "      <td>0.000902</td>\n",
       "    </tr>\n",
       "    <tr>\n",
       "      <th>...</th>\n",
       "      <td>...</td>\n",
       "      <td>...</td>\n",
       "      <td>...</td>\n",
       "      <td>...</td>\n",
       "      <td>...</td>\n",
       "      <td>...</td>\n",
       "    </tr>\n",
       "    <tr>\n",
       "      <th>2337</th>\n",
       "      <td>0.000000</td>\n",
       "      <td>0.003640</td>\n",
       "      <td>0.000000</td>\n",
       "      <td>0.000000</td>\n",
       "      <td>0.000000</td>\n",
       "      <td>0.008796</td>\n",
       "    </tr>\n",
       "    <tr>\n",
       "      <th>2338</th>\n",
       "      <td>0.000000</td>\n",
       "      <td>0.000000</td>\n",
       "      <td>0.003057</td>\n",
       "      <td>0.000000</td>\n",
       "      <td>0.000000</td>\n",
       "      <td>0.000000</td>\n",
       "    </tr>\n",
       "    <tr>\n",
       "      <th>2339</th>\n",
       "      <td>0.000000</td>\n",
       "      <td>0.003788</td>\n",
       "      <td>0.002119</td>\n",
       "      <td>0.000000</td>\n",
       "      <td>0.000000</td>\n",
       "      <td>0.009155</td>\n",
       "    </tr>\n",
       "    <tr>\n",
       "      <th>2340</th>\n",
       "      <td>0.000000</td>\n",
       "      <td>0.002512</td>\n",
       "      <td>0.000000</td>\n",
       "      <td>0.010819</td>\n",
       "      <td>0.000000</td>\n",
       "      <td>0.078401</td>\n",
       "    </tr>\n",
       "    <tr>\n",
       "      <th>2341</th>\n",
       "      <td>0.000000</td>\n",
       "      <td>0.003755</td>\n",
       "      <td>0.000000</td>\n",
       "      <td>0.002510</td>\n",
       "      <td>0.000000</td>\n",
       "      <td>0.014344</td>\n",
       "    </tr>\n",
       "  </tbody>\n",
       "</table>\n",
       "<p>2342 rows × 6 columns</p>\n",
       "</div>"
      ],
      "text/plain": [
       "      insurance-etc  investment  medical-sales   phising    sexual  \\\n",
       "0          0.032417    0.012053       0.000000  0.000000  0.007130   \n",
       "1          0.057250    0.003856       0.000000  0.000000  0.000000   \n",
       "2          0.015633    0.000000       0.001337  0.000000  0.000000   \n",
       "3          0.012803    0.006197       0.000000  0.003688  0.000000   \n",
       "4          0.002356    0.001836       0.000359  0.000000  0.000995   \n",
       "...             ...         ...            ...       ...       ...   \n",
       "2337       0.000000    0.003640       0.000000  0.000000  0.000000   \n",
       "2338       0.000000    0.000000       0.003057  0.000000  0.000000   \n",
       "2339       0.000000    0.003788       0.002119  0.000000  0.000000   \n",
       "2340       0.000000    0.002512       0.000000  0.010819  0.000000   \n",
       "2341       0.000000    0.003755       0.000000  0.002510  0.000000   \n",
       "\n",
       "      software-sales  \n",
       "0           0.000000  \n",
       "1           0.000000  \n",
       "2           0.000000  \n",
       "3           0.022694  \n",
       "4           0.000902  \n",
       "...              ...  \n",
       "2337        0.008796  \n",
       "2338        0.000000  \n",
       "2339        0.009155  \n",
       "2340        0.078401  \n",
       "2341        0.014344  \n",
       "\n",
       "[2342 rows x 6 columns]"
      ]
     },
     "execution_count": 4,
     "metadata": {},
     "output_type": "execute_result"
    }
   ],
   "source": [
    "import json\n",
    "\n",
    "f = open(\"data/out/seedwords.json\")\n",
    "seeds = json.load(f)\n",
    "\n",
    "# f = open('/Users/lorraine/Desktop/Spam_Filter_old/seedwords.json')\n",
    "# seeds = json.load(f)\n",
    "result = pd.DataFrame()\n",
    "for key, value in seeds.items():\n",
    "    df = pd.DataFrame()\n",
    "    for w in value:\n",
    "        df[w] = tfidf(w)\n",
    "    result[key] = df.sum(axis = 1)\n",
    "result\n"
   ]
  },
  {
   "cell_type": "code",
   "execution_count": 5,
   "id": "80c53b1f",
   "metadata": {},
   "outputs": [
    {
     "data": {
      "text/html": [
       "<div>\n",
       "<style scoped>\n",
       "    .dataframe tbody tr th:only-of-type {\n",
       "        vertical-align: middle;\n",
       "    }\n",
       "\n",
       "    .dataframe tbody tr th {\n",
       "        vertical-align: top;\n",
       "    }\n",
       "\n",
       "    .dataframe thead th {\n",
       "        text-align: right;\n",
       "    }\n",
       "</style>\n",
       "<table border=\"1\" class=\"dataframe\">\n",
       "  <thead>\n",
       "    <tr style=\"text-align: right;\">\n",
       "      <th></th>\n",
       "      <th>sentence</th>\n",
       "      <th>label</th>\n",
       "      <th>prediction</th>\n",
       "    </tr>\n",
       "  </thead>\n",
       "  <tbody>\n",
       "    <tr>\n",
       "      <th>0</th>\n",
       "      <td>subject take advantage low interest  rates  no...</td>\n",
       "      <td>insurance-etc</td>\n",
       "      <td>insurance-etc</td>\n",
       "    </tr>\n",
       "    <tr>\n",
       "      <th>1</th>\n",
       "      <td>subject lowest rate us history sound  let 6000...</td>\n",
       "      <td>insurance-etc</td>\n",
       "      <td>insurance-etc</td>\n",
       "    </tr>\n",
       "    <tr>\n",
       "      <th>2</th>\n",
       "      <td>subject application pre  approved monday oct 1...</td>\n",
       "      <td>insurance-etc</td>\n",
       "      <td>insurance-etc</td>\n",
       "    </tr>\n",
       "    <tr>\n",
       "      <th>3</th>\n",
       "      <td>subject final offer wed  29 sep 2004 19  16  0...</td>\n",
       "      <td>insurance-etc</td>\n",
       "      <td>software-sales</td>\n",
       "    </tr>\n",
       "    <tr>\n",
       "      <th>4</th>\n",
       "      <td>subject  congratulations conditional apprgm ov...</td>\n",
       "      <td>insurance-etc</td>\n",
       "      <td>insurance-etc</td>\n",
       "    </tr>\n",
       "    <tr>\n",
       "      <th>...</th>\n",
       "      <td>...</td>\n",
       "      <td>...</td>\n",
       "      <td>...</td>\n",
       "    </tr>\n",
       "    <tr>\n",
       "      <th>2337</th>\n",
       "      <td>subject popular software low low prices  bury ...</td>\n",
       "      <td>software-sales</td>\n",
       "      <td>software-sales</td>\n",
       "    </tr>\n",
       "    <tr>\n",
       "      <th>2338</th>\n",
       "      <td>subject clean ur computer 3 ey 85  chance comp...</td>\n",
       "      <td>software-sales</td>\n",
       "      <td>medical-sales</td>\n",
       "    </tr>\n",
       "    <tr>\n",
       "      <th>2339</th>\n",
       "      <td>subject software incredibly low prices  73  lo...</td>\n",
       "      <td>software-sales</td>\n",
       "      <td>software-sales</td>\n",
       "    </tr>\n",
       "    <tr>\n",
       "      <th>2340</th>\n",
       "      <td>subject latest qem software available  low pri...</td>\n",
       "      <td>software-sales</td>\n",
       "      <td>software-sales</td>\n",
       "    </tr>\n",
       "    <tr>\n",
       "      <th>2341</th>\n",
       "      <td>subject cnet reviews  results favorite program...</td>\n",
       "      <td>software-sales</td>\n",
       "      <td>software-sales</td>\n",
       "    </tr>\n",
       "  </tbody>\n",
       "</table>\n",
       "<p>2342 rows × 3 columns</p>\n",
       "</div>"
      ],
      "text/plain": [
       "                                               sentence           label  \\\n",
       "0     subject take advantage low interest  rates  no...   insurance-etc   \n",
       "1     subject lowest rate us history sound  let 6000...   insurance-etc   \n",
       "2     subject application pre  approved monday oct 1...   insurance-etc   \n",
       "3     subject final offer wed  29 sep 2004 19  16  0...   insurance-etc   \n",
       "4     subject  congratulations conditional apprgm ov...   insurance-etc   \n",
       "...                                                 ...             ...   \n",
       "2337  subject popular software low low prices  bury ...  software-sales   \n",
       "2338  subject clean ur computer 3 ey 85  chance comp...  software-sales   \n",
       "2339  subject software incredibly low prices  73  lo...  software-sales   \n",
       "2340  subject latest qem software available  low pri...  software-sales   \n",
       "2341  subject cnet reviews  results favorite program...  software-sales   \n",
       "\n",
       "          prediction  \n",
       "0      insurance-etc  \n",
       "1      insurance-etc  \n",
       "2      insurance-etc  \n",
       "3     software-sales  \n",
       "4      insurance-etc  \n",
       "...              ...  \n",
       "2337  software-sales  \n",
       "2338   medical-sales  \n",
       "2339  software-sales  \n",
       "2340  software-sales  \n",
       "2341  software-sales  \n",
       "\n",
       "[2342 rows x 3 columns]"
      ]
     },
     "execution_count": 5,
     "metadata": {},
     "output_type": "execute_result"
    }
   ],
   "source": [
    "data[\"prediction\"] = result.idxmax(1)\n",
    "data"
   ]
  },
  {
   "cell_type": "code",
   "execution_count": 6,
   "id": "6ba42050",
   "metadata": {},
   "outputs": [],
   "source": [
    "# micro and macro F1 using tf-idf\n",
    "from sklearn import metrics"
   ]
  },
  {
   "cell_type": "code",
   "execution_count": 7,
   "id": "b013429c",
   "metadata": {
    "scrolled": true
   },
   "outputs": [
    {
     "data": {
      "text/plain": [
       "0.6874466268146883"
      ]
     },
     "execution_count": 7,
     "metadata": {},
     "output_type": "execute_result"
    }
   ],
   "source": [
    "metrics.f1_score(data[\"label\"], data[\"prediction\"], average=\"micro\")"
   ]
  },
  {
   "cell_type": "code",
   "execution_count": 8,
   "id": "1f00df97",
   "metadata": {},
   "outputs": [
    {
     "data": {
      "text/plain": [
       "0.6618372754126397"
      ]
     },
     "execution_count": 8,
     "metadata": {},
     "output_type": "execute_result"
    }
   ],
   "source": [
    "metrics.f1_score(data[\"label\"], data[\"prediction\"], average=\"macro\")"
   ]
  },
  {
   "cell_type": "code",
   "execution_count": null,
   "id": "8bb39d4c",
   "metadata": {},
   "outputs": [],
   "source": []
  },
  {
   "cell_type": "code",
   "execution_count": 10,
   "id": "4ef2f1fd",
   "metadata": {},
   "outputs": [],
   "source": [
    "import gensim\n",
    "from gensim.test.utils import common_texts\n",
    "from gensim.models import Word2Vec\n",
    "\n",
    "def preprocessing(sentence):\n",
    "    tokens = sentence.split(\" \")\n",
    "    return [token for token in tokens if token!=\"\" and token != \" \"]\n",
    "features = data[\"sentence\"].apply(preprocessing)\n",
    "model = Word2Vec(sentences=features, vector_size=110, window=5, min_count=1, workers=8)\n",
    "#features"
   ]
  },
  {
   "cell_type": "code",
   "execution_count": 11,
   "id": "600ed801",
   "metadata": {},
   "outputs": [
    {
     "data": {
      "text/plain": [
       "(270776739, 274806400)"
      ]
     },
     "execution_count": 11,
     "metadata": {},
     "output_type": "execute_result"
    }
   ],
   "source": [
    "model.save(\"word2vec.model\")\n",
    "model = Word2Vec.load(\"word2vec.model\")\n",
    "model.train(features, total_examples=len(data), epochs=800)\n",
    "#vector = model.wv[\"atheism\"]\n",
    "#vector"
   ]
  },
  {
   "cell_type": "code",
   "execution_count": 12,
   "id": "3dd44e34",
   "metadata": {},
   "outputs": [],
   "source": [
    "def get_vectors_per_label(filename):\n",
    "    f = open(filename)\n",
    "    seeds = json.load(f)\n",
    "    vector_per_label = []\n",
    "    for key, value in seeds.items():\n",
    "        lst = []\n",
    "        for w in value:\n",
    "            lst.append(model.wv[w])\n",
    "        arr = np.asarray(lst)\n",
    "        total = np.average(arr, axis=0)\n",
    "        vector_per_label.append(total)\n",
    "    return vector_per_label\n",
    "\n",
    "vector_per_label = get_vectors_per_label('data/out/seedwords.json')"
   ]
  },
  {
   "cell_type": "code",
   "execution_count": null,
   "id": "2f18640f",
   "metadata": {},
   "outputs": [],
   "source": []
  },
  {
   "cell_type": "code",
   "execution_count": 13,
   "id": "2e7bcc16",
   "metadata": {},
   "outputs": [],
   "source": [
    "def get_vector_per_doc(feature):\n",
    "    vector_per_doc = []\n",
    "    for feat in feature:\n",
    "        lst = []\n",
    "        for w in feat:\n",
    "            lst.append(model.wv[w])\n",
    "        arr = np.asarray(lst)\n",
    "        total = np.average(arr, axis=0)\n",
    "        vector_per_doc.append(total)\n",
    "    return vector_per_doc\n",
    "vector_per_doc = get_vector_per_doc(features)"
   ]
  },
  {
   "cell_type": "code",
   "execution_count": 14,
   "id": "988a06a3",
   "metadata": {},
   "outputs": [
    {
     "data": {
      "text/plain": [
       "2342"
      ]
     },
     "execution_count": 14,
     "metadata": {},
     "output_type": "execute_result"
    }
   ],
   "source": [
    "len(vector_per_doc)"
   ]
  },
  {
   "cell_type": "code",
   "execution_count": null,
   "id": "8a89c5b7",
   "metadata": {},
   "outputs": [],
   "source": []
  },
  {
   "cell_type": "code",
   "execution_count": 15,
   "id": "d97daeb5",
   "metadata": {},
   "outputs": [],
   "source": [
    "f = open('test/seedwords.json')\n",
    "seeds = json.load(f)\n",
    "from numpy.linalg import norm\n",
    "def predict_word2vec(vector_per_doc, vector_per_label):\n",
    "    predictions = []\n",
    "    labels = list(seeds.keys())\n",
    "    for doc in vector_per_doc:\n",
    "        cosine = []\n",
    "        for label in vector_per_label:\n",
    "            cosine.append(np.dot(doc,label)/(norm(doc)*norm(label)))\n",
    "        max_value = max(cosine)\n",
    "        max_index = cosine.index(max_value)\n",
    "        predictions.append(labels[max_index])\n",
    "    return predictions   \n",
    "prediction_word2vec = predict_word2vec(vector_per_doc, vector_per_label)"
   ]
  },
  {
   "cell_type": "code",
   "execution_count": 16,
   "id": "9e804645",
   "metadata": {},
   "outputs": [
    {
     "data": {
      "text/html": [
       "<div>\n",
       "<style scoped>\n",
       "    .dataframe tbody tr th:only-of-type {\n",
       "        vertical-align: middle;\n",
       "    }\n",
       "\n",
       "    .dataframe tbody tr th {\n",
       "        vertical-align: top;\n",
       "    }\n",
       "\n",
       "    .dataframe thead th {\n",
       "        text-align: right;\n",
       "    }\n",
       "</style>\n",
       "<table border=\"1\" class=\"dataframe\">\n",
       "  <thead>\n",
       "    <tr style=\"text-align: right;\">\n",
       "      <th></th>\n",
       "      <th>sentence</th>\n",
       "      <th>label</th>\n",
       "      <th>prediction</th>\n",
       "      <th>prediction_word2vec</th>\n",
       "    </tr>\n",
       "  </thead>\n",
       "  <tbody>\n",
       "    <tr>\n",
       "      <th>0</th>\n",
       "      <td>subject take advantage low interest  rates  no...</td>\n",
       "      <td>insurance-etc</td>\n",
       "      <td>insurance-etc</td>\n",
       "      <td>insurance-etc</td>\n",
       "    </tr>\n",
       "    <tr>\n",
       "      <th>1</th>\n",
       "      <td>subject lowest rate us history sound  let 6000...</td>\n",
       "      <td>insurance-etc</td>\n",
       "      <td>insurance-etc</td>\n",
       "      <td>insurance-etc</td>\n",
       "    </tr>\n",
       "    <tr>\n",
       "      <th>2</th>\n",
       "      <td>subject application pre  approved monday oct 1...</td>\n",
       "      <td>insurance-etc</td>\n",
       "      <td>insurance-etc</td>\n",
       "      <td>insurance-etc</td>\n",
       "    </tr>\n",
       "    <tr>\n",
       "      <th>3</th>\n",
       "      <td>subject final offer wed  29 sep 2004 19  16  0...</td>\n",
       "      <td>insurance-etc</td>\n",
       "      <td>software-sales</td>\n",
       "      <td>insurance-etc</td>\n",
       "    </tr>\n",
       "    <tr>\n",
       "      <th>4</th>\n",
       "      <td>subject  congratulations conditional apprgm ov...</td>\n",
       "      <td>insurance-etc</td>\n",
       "      <td>insurance-etc</td>\n",
       "      <td>software-sales</td>\n",
       "    </tr>\n",
       "    <tr>\n",
       "      <th>...</th>\n",
       "      <td>...</td>\n",
       "      <td>...</td>\n",
       "      <td>...</td>\n",
       "      <td>...</td>\n",
       "    </tr>\n",
       "    <tr>\n",
       "      <th>2337</th>\n",
       "      <td>subject popular software low low prices  bury ...</td>\n",
       "      <td>software-sales</td>\n",
       "      <td>software-sales</td>\n",
       "      <td>medical-sales</td>\n",
       "    </tr>\n",
       "    <tr>\n",
       "      <th>2338</th>\n",
       "      <td>subject clean ur computer 3 ey 85  chance comp...</td>\n",
       "      <td>software-sales</td>\n",
       "      <td>medical-sales</td>\n",
       "      <td>software-sales</td>\n",
       "    </tr>\n",
       "    <tr>\n",
       "      <th>2339</th>\n",
       "      <td>subject software incredibly low prices  73  lo...</td>\n",
       "      <td>software-sales</td>\n",
       "      <td>software-sales</td>\n",
       "      <td>medical-sales</td>\n",
       "    </tr>\n",
       "    <tr>\n",
       "      <th>2340</th>\n",
       "      <td>subject latest qem software available  low pri...</td>\n",
       "      <td>software-sales</td>\n",
       "      <td>software-sales</td>\n",
       "      <td>software-sales</td>\n",
       "    </tr>\n",
       "    <tr>\n",
       "      <th>2341</th>\n",
       "      <td>subject cnet reviews  results favorite program...</td>\n",
       "      <td>software-sales</td>\n",
       "      <td>software-sales</td>\n",
       "      <td>software-sales</td>\n",
       "    </tr>\n",
       "  </tbody>\n",
       "</table>\n",
       "<p>2342 rows × 4 columns</p>\n",
       "</div>"
      ],
      "text/plain": [
       "                                               sentence           label  \\\n",
       "0     subject take advantage low interest  rates  no...   insurance-etc   \n",
       "1     subject lowest rate us history sound  let 6000...   insurance-etc   \n",
       "2     subject application pre  approved monday oct 1...   insurance-etc   \n",
       "3     subject final offer wed  29 sep 2004 19  16  0...   insurance-etc   \n",
       "4     subject  congratulations conditional apprgm ov...   insurance-etc   \n",
       "...                                                 ...             ...   \n",
       "2337  subject popular software low low prices  bury ...  software-sales   \n",
       "2338  subject clean ur computer 3 ey 85  chance comp...  software-sales   \n",
       "2339  subject software incredibly low prices  73  lo...  software-sales   \n",
       "2340  subject latest qem software available  low pri...  software-sales   \n",
       "2341  subject cnet reviews  results favorite program...  software-sales   \n",
       "\n",
       "          prediction prediction_word2vec  \n",
       "0      insurance-etc       insurance-etc  \n",
       "1      insurance-etc       insurance-etc  \n",
       "2      insurance-etc       insurance-etc  \n",
       "3     software-sales       insurance-etc  \n",
       "4      insurance-etc      software-sales  \n",
       "...              ...                 ...  \n",
       "2337  software-sales       medical-sales  \n",
       "2338   medical-sales      software-sales  \n",
       "2339  software-sales       medical-sales  \n",
       "2340  software-sales      software-sales  \n",
       "2341  software-sales      software-sales  \n",
       "\n",
       "[2342 rows x 4 columns]"
      ]
     },
     "execution_count": 16,
     "metadata": {},
     "output_type": "execute_result"
    }
   ],
   "source": [
    "data[\"prediction_word2vec\"] = prediction_word2vec\n",
    "data"
   ]
  },
  {
   "cell_type": "code",
   "execution_count": 17,
   "id": "2f8b4d40",
   "metadata": {},
   "outputs": [
    {
     "data": {
      "text/plain": [
       "0.7045260461144321"
      ]
     },
     "execution_count": 17,
     "metadata": {},
     "output_type": "execute_result"
    }
   ],
   "source": [
    "# micro and macro F1 using word2vec\n",
    "metrics.f1_score(data[\"label\"], data[\"prediction_word2vec\"], average=\"micro\")"
   ]
  },
  {
   "cell_type": "code",
   "execution_count": 18,
   "id": "96cbe228",
   "metadata": {},
   "outputs": [
    {
     "data": {
      "text/plain": [
       "0.7187069493140096"
      ]
     },
     "execution_count": 18,
     "metadata": {},
     "output_type": "execute_result"
    }
   ],
   "source": [
    "metrics.f1_score(data[\"label\"], data[\"prediction_word2vec\"], average=\"macro\")"
   ]
  },
  {
   "cell_type": "code",
   "execution_count": 19,
   "id": "163c1c5c",
   "metadata": {},
   "outputs": [
    {
     "data": {
      "text/plain": [
       "0.7045260461144321"
      ]
     },
     "execution_count": 19,
     "metadata": {},
     "output_type": "execute_result"
    }
   ],
   "source": [
    "sum(data[\"prediction_word2vec\"] == data[\"label\"])/len(data)"
   ]
  },
  {
   "cell_type": "code",
   "execution_count": null,
   "id": "e5a5b785",
   "metadata": {},
   "outputs": [],
   "source": []
  },
  {
   "cell_type": "code",
   "execution_count": null,
   "id": "9e0819f3",
   "metadata": {},
   "outputs": [],
   "source": []
  },
  {
   "cell_type": "code",
   "execution_count": null,
   "id": "a7559151",
   "metadata": {},
   "outputs": [
    {
     "name": "stderr",
     "output_type": "stream",
     "text": [
      "Read 0M words\n",
      "Number of words:  11296\n",
      "Number of labels: 9\n",
      "Progress:  53.8% words/sec/thread:  101025 lr:  0.023100 avg.loss:  2.772606 ETA:   0h 3m41s5.7% words/sec/thread:  115967 lr:  0.047141 avg.loss:  6.393805 ETA:   0h 6m33s  8.3% words/sec/thread:  114374 lr:  0.045845 avg.loss:  6.525591 ETA:   0h 6m27s 29.5% words/sec/thread:  102861 lr:  0.035237 avg.loss:  4.737868 ETA:   0h 5m31s 103240 lr:  0.031819 avg.loss:  4.075275 ETA:   0h 4m58s 43.5% words/sec/thread:  102914 lr:  0.028235 avg.loss:  3.420052 ETA:   0h 4m25s"
     ]
    }
   ],
   "source": [
    "import fasttext\n",
    "from sklearn.model_selection import train_test_split\n",
    "train_set, test_set = train_test_split(data, test_size=0.4)\n",
    "with open('spam-train.txt', 'w', encoding=\"utf-8\") as f:\n",
    "    for idx, row in train_set.iterrows():\n",
    "        f.write(\"__label__\" + row.label + \" \" + row.sentence + \"\\n\")\n",
    "model = fasttext.train_unsupervised(input='spam-train.txt', epoch=600, lr=0.05, wordNgrams=4, loss='hs', dim=40)\n",
    "def get_vectors_per_label_fasttext(filename):\n",
    "    f = open(filename)\n",
    "    seeds = json.load(f)\n",
    "    vector_per_label = []\n",
    "    for key, value in seeds.items():\n",
    "        lst = []\n",
    "        for w in value:\n",
    "            lst.append(model.get_word_vector(w))\n",
    "        arr = np.asarray(lst)\n",
    "        total = np.average(arr, axis=0)\n",
    "        vector_per_label.append(total)\n",
    "    return vector_per_label\n",
    "vector_per_label = get_vectors_per_label_fasttext('test/seedwords.json')\n",
    "def get_vector_per_doc_fasttext(feature):\n",
    "    vector_per_doc = []\n",
    "    for feat in feature:\n",
    "        lst = []\n",
    "        for w in feat:\n",
    "            lst.append(model.get_word_vector(w))\n",
    "        arr = np.asarray(lst)\n",
    "        total = np.average(arr, axis=0)\n",
    "        vector_per_doc.append(total)\n",
    "    return vector_per_doc\n",
    "vector_per_doc = get_vector_per_doc_fasttext(features)\n",
    "def predict_fasttext(vector_per_doc, vector_per_label):\n",
    "    predictions = []\n",
    "    labels = list(seeds.keys())\n",
    "    for doc in vector_per_doc:\n",
    "        cosine = []\n",
    "        for label in vector_per_label:\n",
    "            cosine.append(np.dot(doc,label)/(norm(doc)*norm(label)))\n",
    "        max_value = max(cosine)\n",
    "        max_index = cosine.index(max_value)\n",
    "        predictions.append(labels[max_index])\n",
    "    return predictions   \n",
    "prediction_fasttext = predict_fasttext(vector_per_doc, vector_per_label)\n",
    "data[\"prediction_fasttext\"] = prediction_fasttext"
   ]
  },
  {
   "cell_type": "code",
   "execution_count": 52,
   "id": "9e2abd17",
   "metadata": {},
   "outputs": [
    {
     "name": "stdout",
     "output_type": "stream",
     "text": [
      "['subject', 'company', 'statements', '_', 'com', 'information', 'may', 'please', '2', 'email', 'within', '1', 'http', 'e', 'forward', 'us', 'money', 'price', 'time', '3', 'securities', '0', 'get', '</s>', '000', 'new', '5', 'news', 'stock', 'account', 'one', 'looking', 'business', 'investment', 'report', 'number', 'inc', 'home', 'act', 'next', 'security', 'international', 'future', 'part', 'r', '00', 'software', 'million', 'need', 'based', '2004', 'mail', 'advice', 'made', 'oo', '6', 'c', 'l', 'bank', 'also', 'lottery', 'could', 'use', '10', '4', '7', 'contact', 'professional', 'online', 'adobe', 'name', 'performance', 'b', 'best', 'go', 'section', 'address', 'due', 'events', 'products', 'results', 'mr', 'www', 'companies', 'funds', 'free', 'order', 'stocks', 'shares', 'expectations', 'want', 'fact', 'program', 'make', 'day', 'claim', '8', 'save', 'p', 'service', 'current', 'net', 'market', 'stop', 'th', 'would', 'numbers', 'today', 'interest', 'world', 'office', 'like', 'newsletter', '2005', 'u', 'two', '20', 'year', 'must', 'without', 'provided', 'site', 'system', 'prize', 'meaning', 'differ', 'since', 'message', '100', 'x', 'transaction', '21', 'winning', 'country', 'services', 'material', 'risks', 'windows', 'offer', 'agent', 'ooking', 'phone', 'n', 'private', 'see', 'many', '95', 'investing', 'lauraan', 'take', 'registered', 'dollars', 'fund', 'reply', 'days', 'look', 'states', 'projections', 'first', 'technology', 'prices', 'softwares', 'position', 'send', 'uncertainties', 'xp', 'quality', 'terms', 'united', 'know', 'g', '50', 'read', 'info', 'low', 'certain', 'express', 'internet', 'sum', 'cialis', '15', 'v', '30', 'microsoft', 'brand', 'claims', 'estimates', 'dear', 'soon', 'notice', 'cause', 'release', 'computer', 'st', 'trade', 'thousand', '25', 'note', 'file', 'good', 'total', 'process', 'paid', 'regards', 'party', 'de', 'shall', 'exchange', '27', 'high', 'assumptions', 'pro', '12', '500', 'thank', 'industry', 'even', 'last', '70', 'sent', 'well', 'voip', 'every', 'readers', 'years', 'product', 'cash', 'believe', 'kin', 'family', 'category', 'back', 'buy', 'congratulations', 'full', '60', '1933', 'help', 'soft', 'keep', 'government', 'wish', 'co', 'promotional', 'avoid', 'hundred', 'fax', 'php', 'africa', 'remember', 'place', 'great', 'transfer', 'systems', 'way', 'corporation', 'customers', 'names', 'including', 'inherent', 'reference', 'review', 'available', 'winners', '99', 'oil', 'batch', 'subscribers', 'viagra', 'prescription', 'seek', 'pay', 'participants', 'award', 'involve', 'third', 'download', 'going', 'click', 'manager', 'receive', 'revenue', '17', 'limited', '1934', 'come', 'kind', 'might', 'wi', 'popular', '80', 'deposit', 'action', 'five', 'customer', 'foreign', 'work', 'inform', 'top', 'provide', 'super', 'meds', 'much', 'publisher', 'date', 'generic', 'contains', 'mentioned', 'range', 'watch', 'thanks', 'necessary', 'sell', 'check', 'approved', '24', 'selected', 'projects', 'factors', '9', 'shipping', 'long', 'provider', 'featured', 'week', 'late', 'promotions', 'notification', 'life', 'expect', 'give', 'announced', 'prior', 'web', 'assistance', '31', 'south', 'months', 'press', 'anticipated', 'lucky', 'jan', 'choose', 'words', 'set', 'financial', 'gas', 'lose', 'details', 'right', 'find', 'per', 'ever', 'representative', 'immediately', 'move', 'solutions', 'hello', '40', 'form', 'source', 'pills', 'target', 'uk', '14', 'rm', 'herein', 'respect', 'technoiogy', 'three', 'occur', 'past', 'safe', 'mobile', 'medications', 'possible', 'month', 'q', 'normal', 'national', 'include', 'real', 'via', 'confidential', 'aware', 'nothing', 'growth', 'list', 'medical', 'line', 'se', 'risk', 'sincerely', 'europe', 'newsietter', 'easy', 'wide', 'programs', 'hours', 'needed', 'expects', 'plans', 'huge', 'therefore', 'yahoo', '11', 'breaking', 'ms', 'html', 'predictions', 'rate', 'travel', 'draw', 'represent', 'identified', 'energy', 'materia', 'always', 'none', 'j', 'currently', 'publication', 'presently', 'public', 'used', 'edition', 'never', '75', 'agreement', 'drugs', 'attention', 'term', 'al', 'less', 'objectives', 'emai', 'indicating', 'held', 'ref', '2003', 'worldwide', 'discussions', 'corel', 'visit', 'advisor', 'receiving', 'feel', 'double', '18', 'wiil', 'letter', 'coupon', 'broker', 'conflict', 'tabs', 'notes', 'ticket', 'couid', 'say', 'regarding', 'pertaining', 'hope', 'management', 'try', 'expected', 'recent', 'understood', 'state', 'increase', 'construed', 'medication', 'profile', 'china', 'mnei', 'resuits', 'org', 'actual', 'january', 'pc', 'america', 'deciding', 'upon', 'later', 'result', 'advised', 'got', 'finance', 'positive', 'let', 'intend', 'personal', 'major', 'change', 'mrs', 'ur', 'able', 'actions', 'cheap', 'wil', 'nds', 'president', 'materially', 'symbol', 'sir', 'application', 'link', 'live', 'required', 'instant', 'foresee', 'second', 'said', 'anticipates', 'sales', '19', 'department', 'rs', 'group', 'share', 'health', 'ge', 'deposited', 'mix', 'still', 'believes', 'wa', 'event', 'f', 'pain', 'director', 'trust', 'members', 'sec', 'special', 'view', 'photoshop', 'god', 'quick', 'start', 'understands', 'k', 'response', 'el', 'otc', 'various', 'opinion', 'website', 'mind', 'unclaimed', 'man', 'partner', 'ready', 'continue', '13', 'solicitation', 'advises', 'interested', 'attached', 'voice', 'door', 'team', 'people', 'mx', 'control', 'entertainment', 'wor', 'among', 'profit', 'getting', 'released', 'speculative', 'cd', 'invest', 'legal', 'friday', '90', 'little', 'urgent', 'guarantee', 'kno', 'quote', 'includes', 'telephone', 'addresses', 'acquire', 'forth', 'nigeria', 'bra', 'macromedia', 'point', 'given', 'decided', 'ail', 'assist', '2000', 'write', 'takes', 'ld', 'marketing', 'half', 'wn', 'itec', 'person', 'husband', 'ooo', 'georgia', 'credit', 'better', 'operating', 'final', 'contents', 'saave', 'end', 'documents', 'invoive', 'processing', 'server', 'music', 'payment', 'fee', 'tel', 'media', 'protocol', 'found', 'drew', 'revenues', 'pians', 'hard', 'mortgage', 'power', 'really', 'potential', 'cost', 'important', 'doctor', 'acceptance', 'canada', 'simple', 'trading', 'lot', 'homes', 'similar', 'serial', 'claiming', 'acrobat', 'bring', '36', 'dr', 'remitted', 'throughout', 'father', 'known', 'compliance', 'weeks', 'sysiync', 'directly', 'ballot', 'video', 'died', 'percent', 'around', 'advantage', 'suite', 'size', 'resulting', 'stand', 'amount', 'drawn', 'secure', 'alert', 'accounts', 'general', '300', 'works', 'intent', 'es', 'officer', 'utf', 'fast', 'yo', 'staff', 'completed', 'investors', 'hi', 'goals', 'historical', 'match', 'ask', 'thousands', 'unsubscribe', 'financing', 'minutes', 'sexual', 'reliable', 'hot', 'extra', 'using', 'complete', 'filings', 'h', 'w', 'design', 'processed', 'access', 'enable', 'reform', 'reasons', 'death', 'ltd', 'symantec', 'cs', 'success', 'ce', 'titles', 'proposal', 'ago', 'neither', 'consequently', 'offers', 'projected', 'vocalscape', 'case', 'acquisition', 'retail', 'experience', 'entire', 'direct', 'pleased', 'leading', 'regalis', 'call', 'house', '28', 'development', 'expenses', 'rx', 'markets', 'norton', 'sex', '1995', 'big', 'beliefs', 'mi', 'official', 'deal', 'winner', 'ne', 'websites', '04', 'agreements', 'owned', 'sources', 'men', 'create', 'sold', 'investor', 'acquisitions', 'opinions', 'area', 'natural', 'litigation', 'nationa', 'emerging', 'piease', '23', 'constitute', 'anything', 'reports', 'additional', 'syslync', 'rates', 'attorney', 'request', 'small', 'reiease', '01', 'show', '35', 'automation', 'complications', 'billion', 'cautioned', 'dose', 'operation', 'undue', 'package', 'meant', 'treated', 'lump', 'sale', 'shared', 'requirements', 'raise', 'ship', 'value', 'ebay', 'choice', 'data', '22', 'problem', 'individual', 'con', 'twa', 'ability', 'sports', 'draws', 'ca', 'search', 'ado', 'tiscali', 'body', 'six', 'client', 'confidentiality', 'present', 'lowest', 'vcsc', 'dia', 'equity', 'affordable', 'several', 'cannot', 'pr', 'undervalued', 'majordomo', 'existing', 'volume', 'beneficiary', 'law', 'kernel', 'sh', 'reliance', 'shop', 'technologies', 'correspondence', 'nero', 'unnecessary', 'trave', 'successful', 'require', 'drug', 'delays', 'stated', 'working', 'worth', 'delivery', 'chance', 'claimed', 'red', 'furthermore', 'according', 'code', 'friend', 'exvg', 'id', 'things', 'coordinator', 'facts', 'love', 'however', 'reach', 'matter', 'pubiisher', 'banking', 'box', 'age', 'support', 'judge', 'statement', 'spur', 'holding', 'acts', 'board', 'hence', 'problems', 'following', 'quarter', 'nd', 'begin', 'corporate', 'madam', 'fill', 'away', 'wel', 'ceo', 'offering', 'netscape', 'close', 'needs', 'foreigner', 'promotion', 'disclose', 'ph', 'euros', 'care', 'ck', 'confirm', 'confiict', 'tax', 'history', 'conditions', 'pill', 'confirmation', 'already', 'inciuding', 'communication', 'assurance', 'weight', 'large', 'beiieves', 'gains', 'highly', '150', 'average', 'short', 'think', 'project', 'lower', 'soiutions', 'accuracy', 'unwarranted', '45', 'invitation', 'biz', 'times', 'become', 'contained', 'opportunity', 'simply', 'dealer', 'confidence', 'witer', 'pleasure', 'arm', 'june', 'interpretation', 'till', 'ks', 'sa', '05', 'cum', 'formula', 'australia', 'beiieve', 'ars', 'clients', 'asia', 'absolutely', 'alias', 'october', 'announces', 'receipt', 'concern', 'database', 'compensation', 'graphics', 'multiple', 'ant', 'serious', 'premium', 'miss', 'te', 'broadband', 'twenty', 'firm', 'options', 'tournament', 'xual', 'research', 'affiliated', 'opportunities', 'deceased', 'relief', 'penis', 'ec', 'remove', 'effort', 'behalf', 'active', 'bad', 'another', 'left', 'gua', 'yourseif', 'pinnacle', 'achievements', 'unique', 'store', 'european', '16', 'tongue', 'oft', 'monday', 'yet', 'weekend', 'quark', 'wife', 'timing', 'si', 'wit', 'ion', 'nat', 'wee', 'fro', 'tablets', 'executive', 'advanced', 'longer', '02', 'ee', 'shouid', 'others', 'accounting', 'des', 'designated', 'lon', 'usd', 'hin', 'techlite', 'expe', 'ilan', 'nloa', 'pharmacy', 'july', 'exclusive', 'avai', 'operations', 'spe', 'currentiy', 'anybody', 'higher', 'pubiication', 'ses', 'oniy', 'wanted', 'maya', 'strong', 'cor', 'mult', 'making', 'cli', 'key', '200', 'sp', 'owner', 'inciude', 'entered', 'male', 'netherlands', 'mg', 'wait', 'negative', 'included', 'users', 'mic', 'countries', 'sym', 'partnership', 'either', 'erections', 'done', 'pk', 'lea', 'global', 'immediate', 'four', 'something', 'ros', 'abuse', 'head', 'status', 'enhanced', '44', 'capital', 'subsidiary', 'gathered', 'reas', 'network', 'verge', 'constitutes', 'ects', 'borland', 'rien', 'manage', 'purchase', 'bankruptcy', 'former', 'perfect', 'releases', 'est', '29', 'flash', 'xanaax', 'ng', 'tras', 'therein', 'open', 'placed', 'add', 'businesses', 'advertisement', 'eight', 'negotiations', 'shipped', '2002', 'charge', 'mailings', 'tim', 'vol', 'dow', 'expires', 'thr', 'grow', 'non', 'increased', 'hou', 'cap', 'drvgs', 'happy', 'morning', 'card', 'providing', '229', 'along', 'update', 'ppin', 'north', 'saf', 'ire', 'play', 'situation', 'american', '42', 'inches', 'corp', 'nice', 'amended', 'discovered', 'loss', 'everything', 'specuiative', 'inciudes', 'membership', 'single', 'sel', 'acy', 'ger', 'son', 'omit', 'pick', 'penny', 'ume', 'lotto', 'tell', 'eff', 'war', 'issue', 'ural', '49', 'millennium', 'member', 'crystal', 'deliver', 'published', 'street', 'shiip', 'drive', 'quickly', 'involving', 'maker', 'shi', 'white', 'loan', 'center', 'distribution', 'rea', 'rock', 'ble', 'desk', 'xanax', 'affiliate', 'sof', 'understand', 'device', '315', 'selling', 'fixed', 'othe', 'provides', 'welcome', 'movies', 'communications', 'manner', 'nee', 'pounds', 'select', 'piaced', 'ten', 'oe', 'ivvo', 'usa', '299', '47', 'deli', 'imme', 'designed', '249', 'remittance', 'discount', 'aiso', 'strictly', 'seven', 'impotence', 'professiona', 'hat', 'record', 'anytime', '321', 'cruise', 'length', 'usage', 'reviews', '349', 'prnewswire', 'learn', 'certicom', 'content', 'meet', 'vger', 'em', '65', 'proven', 'put', 'rel', 'tuesday', 'webmail', 'rank', 'beach', 'oi', 'mc', 'heart', 'building', 'credited', 'waste', 'verify', 'tadalafil', 'came', 'holdings', 'holidays', 'contract', 'licensed', 'potentia', 'plus', 'indicative', 'vicodin', 'running', 'shareholder', 'transferred', 'recently', 'diligence', 'internationa', 'moving', 'autodesk', 'iaagra', 'availability', 'additiona', 'actua', 'production', 'addition', 'studios', 'fre', 'liquidation', 'eogi', 'alium', 'individuals', 'vi', 'middle', 'anti', 'consumer', 'ed', 'john', 'en', 'uauthorize', 'stake', 'magazine', 'items', 'treatment', 'prescriptions', 'microcap', 'appointments', 'records', 'impact', 'ejaculation', '69', '449', 'safety', 'rom', 'early', 'whole', 'resources', 'lo', 'mac', 'income', 'consider', 'attn', 'properties', 'children', 'arrangement', 'roxio', 'touch', 'user', 'completeness', 'expensive', 'consultation', 'campaign', 'texas', 'riverdeep', 'etc', 'far', 'powerquest', 'dec', 'experienced', 'seen', 'version', 'min', '32', 'crash', 'developing', 'geec', 'refinance', 'thing', 'kept', 'finally', 'level', '34', 'intuit', 'breach', 'effects', 'countrieswe', 'reporting', 'overnight', 'happening', 'la', 'ook', 'returned', 'imited', 'vmware', 'starting', 'strategic', 'environment', 'turn', 'providers', 'medicine', 'macrmedia', 'materialiy', 'waiting', 'david', 'crazy', 'charity', 'decision', 'across', 'winnings', 'air', 'deals', 'allow', 'central', 'supply', 'soma', 'participate', 'ine', 'packaging', 'though', 'federal', 'shlpp', 'cheaap', 'blood', 'girl', 'old', 'december', 'car', 'bias', 'abiiity', 'near', 'hour', 'self', 'clear', 'ordering', 'august', 'thorough', 'pre', 'powerful', 'spain', 'euro', 'extraordinary', 'desire', 'rd', 'secret', 'features', 'answer', 'accept', 'fat', 'changes', 'tion', 'relatives', 'makes', 'thirty', 'owns', 'prom', 'locate', 'guaranteed', 'refill', 'tried', 'east', 'india', 'knew', 'organizations', 'costs', 'women', 'run', 'agencies', 'london', 'gain', 'illustrator', 'proprietary', 'orders', 'job', 'strategy', 'march', 'city', 'dvd', '68', 'fully', 'premiere', 'cancer', 'taken', 'follow', 'local', '0800', 'joint', 'er', 'atlanta', 'aiert', 'powered', 'hear', 'achieve', 'introduce', 'beiiefs', 'rest', 'reason', 'install', 'minute', 'hands', '55', 'revolutionary', 'misleading', 'ensure', 'california', 'tennis', 'specific', 'investigation', 'networks', 'ejaculate', 'build', 'unscrupulous', '03', 'symbo', 'stage', 'attempts', 'vacations', 'ambieen', 'miilion', 'approval', 'agents', 'gem', 'added', 'insured', 'discreet', 'means', 'saving', 'copy', 'bottom', 'premier', 'asked', 'payments', 'automatically', 'comes', 'rr', 'effect', 'mother', 'valid', 'sites', 'different', 'almost', 'trial', 'accessories', 'ennium', 'cialiis', 'construction', 'emerson', 'operates', 'join', 'gold', 'everyone', '400', 'referenced', 'course', 'compieted', 'ise', 'commercial', 'orgasms', 'profitable', 'cheapest', 'officers', 'harbor', 'honest', 'goais', 'qualify', 'materiaily', 'presentiy', 'night', 'purposes', 'hottest', 'competitive', 'branch', 'compiiance', 'legitimate', 'track', 'atp', 'removal', 'book', 'nuke', 'maiiings', 'nl', 'contracts', 'patented', 'else', 'paying', 'nationwide', 'venture', 'ciick', 'sign', 'factual', 'ar', 'coming', 'demand', '52', 'contacting', 'digital', 'flights', 'annual', 'rocket', 'stores', 'rights', 'doctors', '08', 'union', 'obtain', 'technoiogies', 'goes', 'pharmaceutical', 'itc', 'parties', 'sunncomm', 'largest', 'talking', 'promo', 'eye', 'stakes', 'ground', 'lst', '96', 'abroad', 'audio', 'post', 'stoc', 'james', 'miilennium', 'alternative', 'brochures', 'greater', 'tv', 'soiicitation', 'shal', 'estimate', 'sha', 'worid', 'sky', 'significant', 'cds', 'prlce', 'medicines', 'side', 'dormant', '26', 'growing', '85', 'alone', 'disqualification', 'ahead', 'custom', 'common', 'enough', 'fifty', 'extender', 'pull', 'disqualified', 'related', 'homeowner', 'linux', 'economic', 'questions', 'games', 'enterprise', 'called', 'manufacturer', 'vision', 'political', 'offered', 'nobody', 'taking', 'willing', 'abacha', 'burst', 'kindly', 'dont', 'hey', 'subsidiaries', 'met', 'effective', 'oem', 'vlagra', 'lagos', 'et', '175', 'developed', 'associated', 'comprehensive', 'community', 'yes', 'agreed', 'fortune', 'andmanyother', 'contacted', 'west', 'iso', 'homeowners', 'compared', 'fw', 'priced', 'nigerian', 'industries', 'chairman', '250', 'antidote', 'pink', 'protect', 'anywhere', 'mission', 'acni', 'boy', 'solution', 'offshore', 'systemworks', 'sure', 'jump', 'atianta', 'property', 'creative', 'grp', 'preferred', 'expressed', 'comtex', 'operate', 'bundle', 'received', 'tiger', 'variety', 'recognized', 'together', 'human', 'prepare', 'millions', 'easily', 'sidebacks', 'drinks', 'urge', 'became', 'miliion', 'ownership', 'scmi', 'budget', 'vnbl', 'hand', 'connection', 'wrongfu', 'highest', 'leader', 'friends', 'expanding', 'disease', 'purpose', 'type', 'il', 'behind', 'regular', 'involved', 'named', 'reduce', 'profiled', 'residential', 'privacy', 'plan', '43', 'correspondences', 'original', 'although', '33', 'valium', 'ingredient', 'premature', 'specially', 'ra', 'outstanding', 'historica', '0200', 'fda', 'surprise', 'worked', 'ip', 'undervaiued', 'builder', 'november', 'bill', 'cwtd', 'advise', 'contractor', 'relationship', 'commission', 'requires', 'alcohol', 'bought', 'broadcasting', 'circulation', 'equipment', 'exciusive', 'talk', 'simiiar', 'paul', 'anticipate', 'announcement', 'least', 'nature', 'timely', 'audience', 'enters', 'smith', 'zealand', '120', 'protection', 'specials', 'limit', 'monitor', 'organization', 'examples', 'vocaiscape', 'enjoy', 'young', 'strategies', 'investments', 'latest', 'land', 'sharing', 'assets', 'word', 'keeping', 'inside', 'robert', 'describe', 'awarded', 'manual', 'materials', 'payout', 'van', 'lasts', 'jack', 'miliennium', 'basis', 'centers', 'yap', 'exact', 'resuiting', 'boost', 'plc', 'sector', 'otcbb', 'assure', 'noting', 'handle', 'speed', 'agency', 'siteguaaranteed', 'annually', 'delay', 'reieased', 'weekly', 'versionsfeatures', 'sponsored', 'chief', 'informed', 'issued', 'imagine', 'valued', 'await', 'perceived', 'killed', 'relation', 'approximately', 'sperm', 'emails', 'satisfied', 'quaiity', 'apple', 'sit', '07', 'enhancement', 'base', 'increasing', 'reiiance', 'september', 'instead', 'delray', 'ambien', 'agree', 'colleagues', 'commence', 'creating', 'text', 'kingdom', 'monthly', 'edge', 'sat', 'hardware', 'policy', 'profiie', 'streams', 'step', 'television', 'question', 'mining', 'ministry', 'girls', 'pet', 'belize', 'game', '64', 'positioned', 'ave', 'twelve', 'bless', '600', 'digsound', 'promoted', 'patient', '59', 'expressions', 'african', 'sees', 'writing', 'experts', 'efforts', 'deficit', 'wireless', 'tools', 'champion', 'convenient', 'treat', 'earth', 'gratis', 'shiiip', 'multi', 'carry', 'committed', 'files', 'nominal', 'hold', 'proved', 'affiiiated', 'eyes', 'madrid', 'studio', '139', 'comfort', 'charges', 'databases', 'wall', 'reading', 'standard', 'ill', 'anxiety', 'whatever', 'adult', 'explosive', 'created', 'unsuccessful', 'freeman', 'sierra', 'leone', 'insta', 'took', 'residentia', 'expert', 'told', 'portfolio', 'greatest', 'division', 'gone', 'mailing', 'republic', 'continued', 'actually', 'extended', 'enter', 'faster', 'hearing', 'depression', 'summer', 'cover', 'headed', 'aa', 'softtabs', 'possibly', 'whether', 'apply', 'page', 'invoiving', 'rich', 'fiduciary', 'distribute', 'true', 'pop', 'luck', 'vaiue', 'critical', 'offices', 'reduction', 'seil', 'condition', 'measure', 'shail', 'understanding', 'cooperation', 'recurring', 'fun', 'moment', 'zone', 'complementary', 'officials', 'outside', 'indicated', 'senior', 'subsequently', 'hoiding', 'bonus', 'watson', 'paypal', 'ft', 'stay', 'optl', 'stuff', 'buiiders', 'youcheckk', 'oniine', 'fit', 'plane', 'amongst', 'difference', 'applications', '66', 'lots', 'child', 'hiv', 'idea', 'charles', 'balance', 'medium', 'videos', '48', 'acheive', 'allows', 'oh', 'modalities', 'ment', '09', 'mb', 'penetration', 'incurred', 'mark', 'association', 'buying', 'officia', 'mai', 'gioba', 'contain', 'eading', 'sister', 'savings', 'accident', 'previous', 'anyone', 'shops', 'compare', 'faq', 'face', 'transforming', 'partners', 'shlpplng', 'fiiings', 'fancy', 'utmost', 'projecting', 'began', 'unfortunately', 'piace', 'selection', 'exercise', 'brown', 'disclaimer', 'lou', 'developer', 'massive', 'lost', 'woman', 'sheets', 'soid', 'excite', 'art', 'inexpensive', 'executed', 'movie', 'cross', 'clips', 'truly', 'longhorn', 'approximateiy', 'smooth', 'incredible', 'manufacturers', 'reg', 'anymore', 'successfully', 'started', 'aol', 'vest', 'environmental', 'road', 'electronic', '8859', 'gg', 'sectionl', 'assisting', 'integrated', 'substantial', 'arms', 'johannesburg', 'paper', 'ut', 'someone', 'imer', 'theater', 'giving', 'married', 'segments', 'tux', 'main', 'lkml', 'explode', 'thought', 'bigger', 'happen', 'steady', 'bit', 'bait', 'assured', 'hdpe', 'identification', 'ksb', 'joseph', 'aerofoam', 'dollar', '41', 'heard', 'calendar', 'secured', 'index', 'possibe', 'sleeping', 'targer', 'questioning', 'consumers', 'improved', 'grapevine', 'servicing', 'respond', 'custody', 'plll', 'negotiated', 'homebuyers', 'win', 'lois', 'clalls', 'print', 'versions', 'improve', 'prescripiton', 'carefully', 'dc', 'visits', 'z', 'pubiic', '79', '37', 'independent', 'closing', 'advertising', 'shot', 'document', 'guaranteee', 'decade', 'york', 'aside', 'hit', 'builders', 'focus', 'vallum', 'sash', 'randomly', 'earlier', 'accordance', 'develop', 'model', 'grand', 'mine', 'buiiding', 'sun', 'genera', 'especially', 'porn', 'amsterdam', 'cheaper', 'water', 'patch', 'rfid', 'bargain', 'generated', 'pizza', 'spend', 'diversified', 'auto', 'prescribed', 'ou', 'reduced', 'directors', 'loo', 'um', 'century', 'categories', 'ls', 'shoppes', 'prlces', 'engr', 'da', 'banks', 'wrongfully', 'seeking', 'seiected', 'thursday', 'audioaudit', 'whose', 'serve', 'solicit', 'eyewear', '123', 'ratio', 'profits', 'tip', 'competition', 'healthcare', 'february', 'fraction', 'ci', 'numerous', 'uses', 'rem', 'mon', 'med', 'announce', 'prove', 'considered', 'conducted', 'social', 'allowed', 'nominated', 'extremely', 'storage', 'discuss', 'comparison', 'checked', 'merchant', 'poised', 'computers', 'areas', 'commerce', 'environmenta', 'kong', 'eve', 'ok', 'verification', 'identity', 'likely', 'fwd', 'speak', '87', '2001', '72', 'ose', 'hoidings', 'method', 'leave', 'lega', 'rating', 'generate', 'lighting', 'regret', 'treasury', 'transferring', 'zimbabwe', 'doubt', 'period', 'benefit', 'king', 'ways', 'percentage', 'managing', 'fear', 'falls', 'plant', 'overseas', 'generating', 'emerged', 'lives', 'ow', 'finding', 'primarily', 'bv', 'updated', 'freeware', 'cents', '98', 'dysfunction', 'meeting', 'activity', 'efficient', 'estimated', 'ord', 'went', 'devices', 'tm', 'russia', 'ing', 'ice', 'rules', 'ideal', 'transmission', 'remaining', 'annua', 'affiiiate', 'citibank', 'focused', 'gohere', '169', 'stronger', 'hong', 'undiscovered', 'peace', 'applicant', 'forget', 'front', 'steel', 'stoxo', 'favorable', 'brief', 'micro', 'opt', 'hair', 'majority', 'facilitate', 'mutual', 'pass', 'mo', 'southern', 'produce', 'definite', 'wire', '06', 'equivalents', 'estate', 'interface', 'disolve', 'forces', 'muscle', 'consortium', 'brought', 'prefer', 'discovery', 'green', 'shareware', 'flake', 'prozac', 'thus', '39', 'return', 'authority', 'momentum', 'dept', 'khodorkovsky', 'steps', 'habits', 'trip', '2006', 'notifications', 'iquidation', 'channel', 'pl', 'lawyer', 'taylor', 'escrow', 'military', 'officially', '76', 'force', 'auditor', 'americans', 'ha', 'interests', 'interactive', 'stream', 'browse', 'die', 'teievision', 'faith', 'password', 'sound', 'dating', 'extensive', '74', 'adams', 'subsequent', 'detaiis', 'sweepstakes', 'dreamwaver', 'soar', 'blue', 'aggressive', 'wouid', 'johnson', 'sashok', 'producing', 'collection', 'prescri', 'hospital', 'cholesterol', 'pres', 'wealth', 'amazing', 'convenience', 'relevant', 'signed', 'ption', 'locations', 'acquiring', 'wholly', 'square', 'shipment', 'appreciate', 'civil', 'fiake', 'automated', 'danger', 'vl', 'vibrator', 'reminder', 'discioses', 'debt', 'liberia', 'deaier', 'faithfully', 'contacts', 'decide', 'yoursite', 'light', 'consultant', 'failure', 'mouth', 'associates', 'wants', 'patches', 'gives', 'fifteen', 'nine', 'lived', 'ning', 'degree', 'accumulated', 'built', 'wlndows', 'remedies', 'fire', 'sensitive', 'ey', 'taablets', 'pbx', 'captain', 'benefits', 'break', 'thinking', 'ypil', 'ordinator', 'confiscated', 'wonderful', 'shiiping', 'pm', 'exciting', 'adsl', 'medssno', 'gister', 'spyware', 'shippiing', 'handling', 'picture', 'living', 'fine', 'eise', 'bed', 'star', 'continues', 'sense', 'diabetes', 'physical', 'sponsor', 'sole', 'sharehoider', 'sending', 'platform', 'smal', '54', 'attract', 'ega', 'op', 'otherwise', 'der', 'gen', 'wednesday', 'afford', 'staying', 'favor', 'incredibly', 'conclusion', 'urgently', '700', 'silver', '92', 'avert', 'written', 'loans', 'declared', 'ering', 'onl', 'iagra', 'transactions', 'piils', '61', 'stomach', 'wont', 'bear', 'richard', 'bacteria', 'asylum', '56', 'rose', 'forwarding', 'gra', 'homeland', 'egal', 'distance', 'applies', 'williams', 'protoco', 'space', 'sponsors', 'excess', 'class', 'description', 'followed', 'communicate', 'impressive', 'count', 'youth', 'glass', 'trace', 'cell', 'declare', 'compensated', 'earn', 'cription', 'example', 'diverse', 'caiifornia', 'biilion', 'mohammed', 'suggest', 'enlargement', 'advance', 'adipren', 'servants', 'removemeplease', 'weightloss', 'thlt', 'sniffex', 'books', 'scientific', 'movement', 'footage', 'round', 'looks', 'buiider', 'filled', 'doubie', 'ces', 'guide', 'producers', 'circuiation', 'wrong', 'ighting', 'greatly', 'task', 'exactly', 'role', 'unbeatable', 'ti', 'abie', 'michael', 'numbered', 'worn', 'canadian', 'valuable', 'diiigence', 'glad', 'lls', 'entities', 'revealed', 'ialis', 'po', 'personally', 'proposition', 'rapid', 'vital', 'petroleum', 'location', 'var', 'says', 'innovative', 'branded', 'favorabie', 'black', 'consignment', 'sorry', 'clearance', 'eligible', 'pilis', 'guenter', 'chinese', 'shows', 'hurry', 'ciose', 'maybe', 'depth', 'erection', 'expiration', 'todays', 'pius', 'hut', 'newsletters', 'levitra', 'lists', 'indicate', 'ag', 'disorder', 'laws', 'expecting', 'los', 'copyright', 'pray', 'pricing', 'ob', 'whiie', 'goods', 'firstcall', 'instruction', 'attempt', 'reached', 'sugar', 'license', 'homebuilders', 'led', '720', 'miles', 'ahmed', 'female', 'farmers', 'antivirus', 'continuing', 'smoking', 'mikhail', 'sterling', 'accredited', 'dog', 'series', 'wrongfuily', 'washington', 'un', 'established', 'reputable', 'regard', 'poor', 'strange', 'channe', 'capable', 'rabbit', 'pubiished', 'publishing', 'helps', 'consummated', 'ones', 'fresh', 'donald', 'clicck', 'countriies', 'pocket', 'telecom', 'permission', 'marketer', 'le', 'patients', 'enhancing', 'particularly', 'favour', '0031', 'belgium', 'weil', '0600', 'cnn', 'mm', 'viruses', 'aiarms', 'pornostars', 'overall', 'identify', 'cl', '88', 'pictures', 'frank', 'amblen', 'pex', 'retrofit', 'ast', 'deem', 'picks', 'telecommunications', 'george', 'hitch', '46', 'hundreds', 'longest', 'greetings', 'remains', 'fr', 'impress', 'aids', 'test', 'sdfuoisduf', '97', '978987', 'golden', 'avaiiabie', 'im', 'attache', 'companys', 'possession', 'consumption', 'monitoring', 'clal', 'education', 'matters', 'smart', 'erhc', 'heartstat', 'convergence', 'supplies', 'removes', 'object', 'evening', 'interaction', '82', 'factua', 'ammunition', 'mor', 'distributed', 'court', 'apwl', 'priority', 'woridwide', 'sooner', 'collect', 'reward', 'afraid', 'llc', 'tue', 'approach', 'visiting', 'generation', 'expanded', 'fight', 'charset', 'notify', 'roster', 'servers', 'barrister', 'ac', 'discl', 'bruce', 'raw', 'finest', 'causing', 'adware', 'manufacturing', 'involvement', 'lodged', 'victoria', 'revert', 'food', 'reiate', 'argue', 'somebody', 'awards', 'british', 'knows', 'rxmeds', 'lines', 'bridge', 'rapidly', 'precautionary', 'peter', 'pe', 'helping', 'wine', 'dreamweaver', 'diamond', 'nbc', 'industrial', 'impiied', 'passport', 'installer', 'item', 'profitabiiity', 'cable', 'discloses', 'reieases', 'appear', 'laid', 'courier', 'lead', 'resource', 'explain', 'impotent', '011', 'florida', 'training', 'except', 'ongoing', '234', 'removed', 'absorbed', 'pending', 'diseases', 'painter', 'unless', 'max', 'seconds', 'booklet', 'particular', 'cared', 'leaves', 'sleep', 'drop', 'cox', 'shooting', 'budweiser', 'libido', 'dead', 'discounts', 'assistant', 'dosage', 'mugabe', 'recommended', 'satisfaction', 'conduct', 'adlpex', 'agrra', 'happened', 'bulletin', 'erectile', 'quicker', 'vivo', 'analysis', 'trying', 'awaiting', '289', 'capita', 'feb', 'senegal', 'traded', 'connected', 'execution', 'scan', 'urgency', 'christ', 'ipd', 'happily', 'portfoiio', 'issues', 'annuaiized', 'russian', 'favorite', 'upcoming', 'produced', 'allas', 'analyze', 'constant', 'nfl', 'floor', 'maturity', 'internal', 'wners', 'lis', 'dedicated', 'clalis', 'specia', 'title', 'webcam', 'science', 'france', 'physicians', 'integrate', 'disciose', 'wholiy', 'exampies', 'increases', 'appointment', 'refugee', 'doliars', 'completely', 'broadcast', 'modern', 'finalize', 'economy', 'mega', 'commercia', 'daughters', 'fail', 'fourteen', 'daily', 'kills', 'lnterest', 'seeing', 'lord', 'lying', 'threat', 'consent', 'eighty', 'skin', 'fees', 'luckyday', 'personnel', 'absolute', 'truth', 'complimentary', 'consolation', 'excellent', 'concluded', 'spent', 'instantly', 'extracted', 'postal', 'printed', 'dealing', 'dribbled', 'acquired', 'bonded', 'minimum', 'plnnacle', 'jones', '38', 'radar', 'returns', 'intense', 'containers', 'photos', 'colorado', 'cheating', 'prospects', 'globe', 'dial', 'quite', 'monthiy', 'contracted', 'lenders', 'henry', 'park', 'eariy', 'pretty', 'pllls', 'avid', 'featuring', 'asp', 'horny', 'reasonable', 'coreldraw', 'sizes', 'forms', 'paperwork', 'observe', 'integration', 'remain', 'school', 'fiducial', 'directiy', 'signs', 'procedure', 'turned', 'processes', 'inception', 'asset', 'significantly', 'identifiable', 'hang', 'pagemaker', 'towards', 'player', 'busy', 'ticker', 'arge', 'fly', 'embarrassment', 'easier', 'cures', 'island', 'exports', '219', 'synergy', 'sometimes', 'formulated', 'germany', 'leaving', 'unlimited', 'shopping', 'dissolvable', 'stress', 'introducing', 'smail', 'fri', 'delphi', 'ocations', 'arrested', 'ho', 'holds', 'mary', 'maximum', 'suspended', 'aid', 'arrest', 'apr', 'bye', '750', 'rule', 'potent', 'reducing', 'bio', 'feeling', 'sweepstake', 'knowledge', 'continuous', 'methods', 'indiana', 'bodies', 'stands', 'congratulation', 'hospitals', 'locating', 'probate', 'mid', 'footprint', '86', 'doilars', 'promoters', 'depot', 'investigations', 'preferences', 'widow', 'ch', 'mistake', 'enlarge', 'upside', 'personals', 'simpiicity', 'proceed', 'measures', 'consult', 'warning', 'tracking', 'sponsorship', 'deveioper', 'ttmt', 'assuring', 'prepared', 'ndows', '51', 'table', 'bi', 'guys', 'ontario', 'facilities', 'visual', 'ong', 'mention', 'diagnostics', 'hop', 'acquires', 'prime', 'chat', 'therapy', 'novak', '19560', 'tech', 'ciear', '180', 'relate', 'implied', 'entering', 'discussion', 'totally', 'suspension', 'compiete', 'wishes', 'permanent', 'nyse', 'daughter', 'availabie', 'vioxx', 'sixty', 'beyond', 'heavy', 'gross', 'story', 'discussed', 'agra', 'positions', 'flight', '199', 'misieading', 'biliion', 'gave', 'untapped', 'proof', 'chose', 'shortly', 'fitness', 'elements', 'completion', 'feelings', 'bulk', '78', 'proper', 'occurs', 'superior', 'planning', 'li', 'thomas', 'booked', 'fraud', 'coca', 'vary', 'option', 'cold', 'que', '888', 'establish', 'block', 'dream', 'candidate', 'xaanax', 'referred', '1000', 'pharmaceuticals', 'nomina', 'drivers', 'soul', 'compliant', 'pound', 'applied', 'qualified', 'relations', 'exclusively', 'cut', 'ver', 'fall', 'compieteness', 'beautiful', 'specialist', 'administration', 'certainly', 'detection', 'presence', 'vineyards', 'receives', 'practice', 'comprehension', 'dubai', 'arrange', 'finished', 'nighthawk', '67', 'bergwater', 'delivered', 'dtoi', 'discreetly', 'nascar', 'lpga', 'pt', 'bloodstream', 'istorage', 'pga', 'failed', 'pornstars', 'wm', 'ovens', 'sfx', 'img', 'genuine', 'blocks', 'xana', 'baker', 'levels', 'nt', 'infrastructure', 'viacom', 'graphite', 'promoter', 'sea', 'viking', 'infinity', 'warned', 'crease', 'louisiana', 'calls', 'accurate', 'verizon', 'sho', 'spirits', 'foreman', 'episodes', 'remained', 'embassy', 'lonely', 'intercourse', 'val', 'eyefontm', 'softphone', 'virus', 'itsps', 'nearly', 'trustworthy', 'guarantees', 'professionais', 'globally', 'wisdom', 'switzerland', 'leverage', 'caalls', 'sells', 'engaged', 'classic', 'traditional', 'aluum', 'overview', '57', 'respective', 'holder', 'llgra', 'fu', 'url', 'april', 'relative', 'quo', 'stats', 'loraazepam', 'levltrra', 'dribbling', 'chronic', 'cumshot', 'intuitive', 'tramadool', 'traders', 'belongs', 'foremost', 'depressant', 'merldlla', 'boss', 'moved', 'democratic', 'ambllen', 'messaging', 'ay', 'prison', 'lifestyle', 'shining', 'boxes', 'belonging', 'philip', 'singie', 'bruceg', 'alprazzolam', '279', 'deadly', 'pressure', 'deveiopment', 'discounted', 'lu', 'sql', 'freee', 'influenza', 'outbound', 'magnitude', 'medica', 'window', 'tri', 'planned', 'maturing', 'forwardlooking', 'reaches', 'coffee', 'dakar', 'andrew', 'responsible', 'generally', '113', 'farms', 'opened', 'avaiiable', 'orgasm', 'medsall', '134', 'feet', 'walks', 'calling', 'seem', 'foot', 'located', 'superviagra', 'responsibility', 'employers', 'erectlons', 'previously', 'inte', 'margin', 'lnstant', 'rockhard', 'pakistan', 'rob', 'mandated', 'â', 'places', 'sma', 'profiles', '2007', 'trouble', 'professionals', 'promote', 'strongly', 'caused', 'portion', 'wrigley', 'properly', '800', 'chosen', 'club', 'holiday', 'oriented', 'ronn', 'cease', 'seiect', 'zoloft', 'catch', 'ess', 'town', 'discrete', 'handset', 'wang', 'coverage', 'room', '71', 'institution', 'appreciated', 'interview', 'mailto', 'clean', 'br', 'gift', 'ple', 'biggest', 'lay', 'soie', 'usually', 'additionally', 'offlce', 'om', 'nursing', 'pi', 'phentermine', 'cutting', 'remote', 'lucrative', 'lh', 'suspense', 'saw', 'accepted', 'nomad', 'eric', 'medz', 'gateway', '62', 'europa', 'christian', 'infection', 'onto', 'raised', 'nations', 'sectors', 'buyers', 'donated', 'proceeds', 'foward', 'thu', 'photosh', 'tips', 'solid', 'sanctioned', '849', 'handed', 'illness', 'patent', 'requiring', 'furthered', 'wise', 'bid', 'introduction', 'beginning', 'severe', 'consolidation', 'arrive', 'edward', 'dvds', 'regarded', 'ricardo', 'older', 'vince', 'spadea', 'oceania', 'extreme', '20032', '20046', 'defending', 'employ', 'jiri', 'contro', 'xavier', 'hardness', '73', '1999', 'czech', 'gotten', 'eleven', 'superb', 'calm', 'speedy', 'bush', 'ibrahim', 'myway', 'entirely', 'profession', 'color', 'refine', 'moves', 'pics', 'algeria', 'directed', 'progress', 'described', 'fixtures', 'reflnance', '110', 'effectiveness', 'bills', 'powerball', 'oans', 'ninety', 'film', 'accomplish', 'chambers', 'random', 'listed', 'hrs', 'german', 'clearly', 'piant', 'willingness', 'cat', 'equal', 'wnbra', 'prothrombin', 'capitalize', 'subscription', 'physician', 'sars', 'wrongfuliy', 'england', 'surgery', 'concerning', 'transcription', 'untill', 'routine', 'lately', 'train', 'relaxants', 'fields', 'famous', 'manipulation', '319', 'recovery', 'afro', 'dvisor', 'curvature', 'inch', 'projection', 'concept', 'announcements', 'limitation', 'recieve', 'forever', 'spam', 'analysts', 'disappoint', 'tons', 'maintain', 'qin', '81', 'operator', 'broadcasters', 'wanting', 'interact', 'stamp', 'deveioping', 'knowing', 'tool', 'bc', 'gatekeeper', 'gateways', 'piatform', 'brother', 'qualifies', 'su', 'fiie', '125', 'wed', 'certified', 'softswitches', 'meridia', 'pbxs', 'piay', 'instructions', 'remedy', 'simplicity', 'strive', 'artists', 'recommendation', 'recycling', 'suffering', 'excitement', 'avenue', 'angel', 'bulgaria', 'fellow', 'sup', 'photo', 'implementer', 'conclude', 'metabolic', 'farmer', 'stable', 'stones', 'highiy', 'unserviceable', 'heaven', 'exposure', 'starbucks', 'papers', 'maximize', 'ghost', 'background', 'principle', 'lt', 'seriously', 'underway', 'cc', 'apprehensive', 'dieting', 'refused', 'metals', 'ash', 'dynamic', 'appetite', 'soliciting', 'thompson', 'earliest', 'vice', 'attacks', 'fertility', 'sudden', 'trusted', 'estrada', 'bucks', 'language', 'morris', 'bringing', 'presented', 'theft', 'les', 'cow', 'ambiien', 'realiy', 'unit', 'spirit', 'william', 'quotes', 'auditing', 'workflow', 'guaranty', 'enhance', 'disc', 'ventures', 'fell', 'aiways', 'wastes', 'softabs', 'aug', 'sti', '320', 'britain', 'often', 'ears', '140', 'itseif', 'identifiabie', 'tricks', 'instal', 'eshopping', 'exp', 'sing', 'attracts', '12500', 'authorized', 'flow', 'boyfriend', 'unknown', 'xan', 'hairy', 'patents', 'suggested', 'expansion', 'firstcail', 'signings', 'stops', 'corporations', 'checking', 'frustration', 'cal', 'biank', 'optout', 'invoiced', 'piil', 'purchases', '245', 'boat', 'generlc', 'accountant', 'tc', 'telegeography', 'goal', 'abidjan', 'hippa', 'av', 'telling', 'staffs', 'screen', 'electrical', 'accepting', 'aione', 'gap', 'pack', 'muitipie', 'xml', 'ea', 'fia', 'filed', 'personalized', 'vãlium', 'operational', 'intimate', 'japan', 'sultan', 'finaiist', 'study', 'deserves', 'annualized', 'sincerity', 'reiated', 'licensing', 'chair', '91', 'terrible', 'shtml', 'wid', 'quickest', 'speciaily', 'powerpack', 'permit', 'cool', 'bobbie', 'expand', 'pour', 'kenya', 'eyo', 'extend', 'expedite', 'constantly', 'fiorida', 'ranked', 'launch', 'ui', 'insurance', 'bounce', 'requested', 'button', '498', 'asking', 'western', 'reserved', 'caribbean', 'dusked', 'null', 'girlfriend', 'san', 'generous', 'precise', '217', 'uy', 'grab', 'honesty', 'participation', 'diplomatic', 'wives', 'owe', 'faced', 'appeal', 'realize', 'intended', 'ideas', 'samuel', 'wheel', '1956', 'certificate', 'tastes', 'sweeter', 'cases', 'dissolve', 'toys', 'teiecom', 'deserve', 'deemed', 'showing', 'marketplace', 'smile', 'rather', 'appiications', 'slowly', 'grant', 'worthy', 'cure', 'spring', 'globa', 'commitment', 'seventeen', 'ad', 'snfx', 'dea', '149', 'transfered', '130', 'precious', 'rush', 'tears', 'split', 'usb', 'primariiy', 'oyl', 'netfone', 'plastic', 'ease', 'iraq', 'hate', 'delete', 'wood', 'registration', 'expiode', 'residence', 'instruct', '1998', 'utilize', 'colleague', 'murdered', 'handled', 'donate', 'kids', 'principal', 'automobile', 'bishop', 'stephen', 'stories', 'minister', 'coast', 'searching', 'blake', 'thereby', 'allergies', 'biotech', 'roxxy', '189', 'yukos', 'igts', 'mediamax', 'vãagra', 'powerline', 'ocal', 'nic', 'breakdown', 'lies', 'obtained', '83', 'wavefrontl', '899', '830', 'eytl', 'upgrades', 'arrangements', 'bmg', 'provision', 'lips', 'mariam', 'irm', 'fastest', 'wizards', 'preformatted', '768', 'intelligence', 'encrypt', 'firstcal', 'rewarded', 'beiow', 'iogn', 'managed', 'folders', 'changed', '220', 'ations', 'vlagrra', 'customized', 'stood', '868', 'ancient', 'rotating', 'obliged', 'industrys', 'journal', 'ziya', 'shaft', 'driving', '025', 'cgc', 'core', 'bazhayev', 'governments', 'pharm', 'dyndns', 'conversion', 'spots', 'pioneer', 'recyciing', 'tall', 'chase', 'beloved', 'toolset', 'packages', 'downloadable', 'northern', 'familiar', 'keeps', 'rebels', 'endeavor', 'zyban', 'parts', 'reiiable', 'dark', 'allied', 'slp', 'essential', 'logo', 'attack', 'suggestion', 'seng', 'esteem', 'northeast', 'mlcrosoft', 'entry', 'shaped', 'ct', 'facility', 'prompt', 'ni', 'safely', 'contractors', 'lbs', 'nuevo', 'burns', 'wins', '117', 'secretly', 'mit', 'betray', 'hoping', 'protects', 'disasters', 'season', 'grown', 'calif', 'piastic', 'context', 'instaliations', 'confirmed', 'governor', 'hoids', 'deputy', 'fuily', 'ciaiis', 'diet', 'onlinegenericshop', 'controlled', 'pls', 'external', 'discomforts', 'teens', 'por', 'rescue', 'mcallister', 'lasting', 'propecia', 'consulting', 'ate', 'commit', 'mass', 'dealsprice', 'titleprice', 'fl', 'substantia', 'sideeffects', 'appropriate', 'equivilent', 'nineteen', 'jeremy', 'leveis', 'groups', 'influence', 'partied', 'playing', 'players', 'disk', 'sellersl', 'luvu', 'arose', 'studying', 'proud', 'aiready', 'structure', 'branches', '93', 'auctions', 'exponential', 'eminent', 'pp', 'esoft', 'davis', 'barr', 'saying', 'yol', 'catalogue', 'abandoned', 'utilities', 'nonparticipants', 'passwords', 'targeted', 'distant', '63', 'bonanza', 'loteria', 'unwanted', 'kill', 'las', 'inheritance', 'error', 'costly', 'arrival', 'programme', 'reported', 'pa', 'mercy', 'tiny', 'houston', 'interesting', 'rid', 'leve', 'becoming', 'va', 'ive', 'slow', 'heya', 'direction', 'citizens', 'seemed', '77', 'bb', 'funding', 'taxes', 'cent', 'rat', 'virgin', 'enormous', 'aslg', 'utility', 'practices', 'clinical', 'trademarks', 'ebitda', 'session', 'persona', 'electricity', 'blank', 'engine', 'warrant', 'requests', 'closed', 'church', '147', 'intelligent', 'spot', 'housewife', 'ani', 'edit', 'image', 'explore', 'listing', 'awesome', 'eur', 'virtual', 'improvement', 'bonuses', 'arizona', 'deveiopments', 'primezone', 'enquiries', 'brands', 'extent', 'dissemination', 'matrix', 'beauty', 'toronto', 'fix', 'seventy', 'basic', 'bomb', 'revolving', 'lopez', 'calorized', 'latinmail', 'quoted', 'opening', 'destroy', 'downloading', 'awareness', 'bird', 'indeed', 'bodywrap', 'olusegun', 'koolrx', 'nhvp', 'abdominal', 'ex', 'purchasing', 'plot', 'wonder', 'vehicle', 'sick', 'nb', 'creek', 'confide', 'mike', 'engineer', 'mobility', 'ntelx', 'committee', 'suppresses', 'anna', '499', 'burkina', 'na', 'clicking', 'accumuiated', 'cdgt', 'financia', 'ai', 'ups', 'affordabie', 'seeherefeelsee', 'port', 'parents', 'zonal', 'label', 'transport', 'alliance', 'unheard', 'moussa', 'preparation', 'tremendous', 'aof', 'universal', 'invested', 'ih', 'carried', 'adverse', 'stockholder', 'clock', 'strength', 'slopy', '109', 'believed', 'ifestyle', 'testing', 'retails', 'mrtgg', '1149', 'rait', 'carl', '1997', 'updates', 'pharma', 'calottery', 'paris', 'ghastly', 'saved', 'sincere', 'implementing', 'diagnostic', 'shari', '188', 'quietly', 'deep', 'evel', 'straight', 'bp', 'opposite', 'measurement', 'profitability', '221', 'corner', 'advantages', 'accompiish', 'dispute', 'penile', 'lack', 'humble', 'born', 'helped', 'targeting', 'confidentiaiity', 'relationships', 'stox', 'performing', 'accrued', 'medsrealcheap', 'trials', 'beg', 'tionlimited', 'balloting', 'qualities', 'tags', 'overwhich', 'calle', 'initial', 'transmissions', 'pfizer', 'brazil', 'recommend', 'sharp', 'perhaps', 'maiisse', 'cbn', 'eventually', 'bpl', 'mn', 'stupid', 'vs', 'etter', 'beverage', 'reynolds', 'mode', 'curative', 'normally', 'author', 'resume', 'freetown', 'ns', 'ties', 'specialiy', 'negotiable', 'collective', 'successfull', 'lrcj', 'phones', 'sav', 'whoily', 'corresponding', 'delivers', 'carries', 'studies', 'register', '2010', 'reliabie', 'cast', 'benifits', 'etoge', 'documentation', 'ã', 'tedow', 'joe', 'infected', 'bleforimme', 'quicken', 'puts', 'reiiabie', 'blvd', 'jose', '118', 'owen', 'giant', 'persons', 'furnish', 'ny', 'freeze', 'ckher', 'discover', 'tfre', 'viastar', '0500', 'littie', 'ddeli', 'affair', 'descend', 'combine', 'dtowa', 'quantity', 'duck', 'friendly', 'moments', 'mrel', 'runs', 'crisis', 'ksforc', 'sender', 'titie', 'od', 'nonee', 'streaming', 'covered', 'ua', 'locally', 'outrageous', 'dsl', 'geoe', 'significantiy', 'teach', '247', 'inherited', 'critica', 'forced', 'compietion', 'ii', 'warm', 'ldkno', 'unreserved', 'sufficient', 'cgi', 'forwarded', 'function', 'empty', 'eim', 'informations', 'effectively', '645', 'alarms', 'clubs', 'procedures', 'fruitless', 'emotion', 'army', 'exile', 'claal', 'alluum', 'watched', 'brain', 'fo', 'shadak', 'airlines', 'ambleen', 'coiorado', 'tussl', '56475600545', 'nax', 'civilian', 'cardiovascular', 'retailers', 'biosphere', 'bonnie', 'angry', 'discretion', 'caiendar', 'nex', 'thy', 'koko', 'martin', 'vault', 'obesity', 'brave', 'bluish', 'conjunction', 'alex', 'lnl', 'liverpool', 'serving', '1010', 'soaring', 'determine', 'msof', 'spending', 'mbe', 'eland', 'wear', 'orphanages', 'comm', 'excelled', 'diagnosed', 'sv', 'att', 'stimulation', 'lets', 'sharehoiders', 'optizen', 'owens', 'institutions', 'feature', 'ofothe', 'images', 'capabiiities', 'maintained', 'dangerous', 'optimizes', 'ic', 'bu', 'bridging', 'economical', 'involves', 'proposed', 'vlgr', 'solves', 'wasting', 'viagr', 'mwor', 'cookie', 'tests', 'daniels', '640', 'hazardous', 'trips', 'eighteen', 'goback', 'cousin', 'worlds', 'du', 'curious', 'yh', 'alms', 'manda', 'restores', 'shakespeare', 'muehistein', 'willed', 'produces', 'vancouver', 'ower', 'considering', 'eat', 'ordered', 'emirate', 'oy', 'bent', 'load', 'answered', 'sta', 'perform', 'cleansweep', 'revoiutionizing', 'deeds', 'atleast', 'fiim', 'damn', 'disposa', 'rise', 'uar', 'skills', 'philosophy', 'directory', 'perfected', 'severa', 'respected', 'cola', 'igent', 'namely', 'lady', 'possibility', 'suffer', 'dispatched', '141', 'deveiop', 'blonde', 'formed', '703', 'indicator', 'anderson', 'correct', 'italian', '155', 'reynoids', 'raymond', 'coliform', 'accordingly', 'earning', 'nowbuy', '905', 'miami', 'teiecommunications', 'firstly', 'mines', 'morgan', 'cobs', 'independence', 'jail', 'sy', 'master', 'safer', 'kevin', 'eds', 'ei', 'guilty', 'banked', 'devoted', 'advertisers', 'rewards', '847', '007', 'tensions', 'affairs', '751', 'tail', 'bottle', 'affinity', 'citizen', 'odo', 'occasion', 'gmbh', 'bicycle', 'domestic', 'austin', 'survey', 'recommendations', 'beng', 'workers', 'erm', 'complex', 'camp', '428', 'college', 'dogs', 'rebel', 'sexually', 'submission', 'headquarters', 'abdul', 'scale', 'detail', 'enabled', 'nal', 'dual', 'duty', 'assigned', 'ultimately', 'atkins', 'lcd', 'iraqi', 'vendor', 'forest', 'mall', 'frequent', 'disbursement', 'indesign', 'vibrating', 'purple', 'adds', 'taste', 'mp', 'ist', 'appearance', 'region', 'introductory', 'companion', 'treasure', 'alchemy', 'zy', 'uncle', 'corrupt', 'ell', 'ships', '138', 'airs', 'unusual', 'saies', 'mlcros', 'pingchuan', 'mt', 'portable', 'friendship', 'cabie', 'continents', 'melissa', 'builds', 'pursuant', 'encourage', 'axle', 'goodbye', 'pursue', 'breakthrough', 'gloria', 'marriage', 'buyer', 'seizure', 'fortunes', '115', 'vote', 'tasks', 'disclosure', 'christmas', 'repubiic', 'rickards', 'definition', 'duncan', 'industria', 'miracle', 'ended', 'whereby', 'combined', 'bodisen', 'del', 'font', 'activities', 'incentive', 'matt', 'swiss', 'vea', 'temperature', 'enables', 'requesting', 'invstment', 'securitiesact', 'trusting', 'casting', 'foliowing', 'frozen', 'dress', 'terry', 'oretech', 'binding', 'vast', 'premiums', 'hell', 'stuffthatworkd', 'audit', 'login', 'acceptable', 'legally', 'regional', 'creature', 'mcaliister', 'gage', 'ere', 'command', 'guidelines', 'tension', 'passed', 'appointed', 'starts', 'sweet', 'shoot', 'revoiutionary', 'cry', 'herbal', 'crosoft', 'showed', 'saturday', 'miiiion', 'defendant', 'hassan', '711', 'continuously', 'sialkot', 'intention', 'beck', 'changing', 'laugh', 'irvin', 'dayzers', 'entertain', 'philippines', 'bramble', 'mails', 'rf', 'generaily', 'deiiver', 'maintenance', 'expense', 'grief', 'suited', 'instruments', 'river', 'swkd', 'baltic', 'spoken', 'healthy', 'deiray', '457', 'urse', 'promised', 'salesman', 'arab', 'imperial', 'ignite', 'promoting', 'brutal', 'integrity', '263', 'obligation', 'performances', 'landscape', 'representing', 'ieading', 'emerge', 'developments', 'seeks', 'detailed', 'regulates', 'figures', 'cz', 'argument', 'french', 'entitled', 'floating', 'usual', 'conversation', 'traffic', 'english', 'fame', 'twice', '429', 'barrier', 'amex', 'explicit', 'ney', 'nasd', 'malaysia', 'emboss', 'biake', 'semen', 'expertise', 'pathway', 'congratulate', 'extraction', 'imaging', 'berghart', 'olsom', 'languages', 'heree', 'deposits', 'cardiac', 'instalier', 'recharge', 'contribution', 'sva', 'faciiities', 'eraser', 'profess', 'confident', 'watching', 'consideration', 'denture', 'finish', 'loading', 'anita', 'toxic', 'chemicals', 'lmg', 'concerns', 'desired', 'animal', 'piayers', 'hotmail', 'ciaaliis', 'heinz', 'fruit', 'turning', 'sight', 'distaff', 'forum', 'resolve', 'pleasant', 'stone', 'library', 'counter', 'associations', 'aliuum', 'forty', '26510460037', 'onward', 'wiidcards', '9023118308', 'ktu', 'moscow', 'undergoing', 'values', 'aircraft', 'stroke', 'concierge', 'guiding', 'arise', 'entireiy', 'selections', 'sort', '301', 'noisy', '369', 'someday', 'shoes', 'zimbabwean', 'coward', 'talked', 'crediting', 'hav', 'served', 'bob', 'decisions', 'equally', 'tonight', 'pllis', 'commissions', 'worried', 'crime', 'agaln', 'esophageal', 'preference', 'concerned', 'ambl', 'router', 'cunfingham', 'climb', 'sensors', 'materiais', '450', 'reserve', 'keystone', 'pages', 'replying', 'defiled', 'noticed', 'esq', 'wizard', 'spelled', 'brady', 'dove', 'pride', 'farm', 'establishing', 'petrochemical', 'cia', 'alongside', 'tussioneex', 'expire', 'speech', 'affiliates', 'harder', 'donations', 'constantiy', 'loca', 'hostile', 'strict', '541', '340', 'regardless', 'resellers', 'nnpc', 'natura', 'cole', 'combination', 'chamber', 'desperate', 'stars', 'organisation', 'tired', 'stored', 'selecting', 'factor', 'adopt', 'ring', 'dependent', 'tenure', 'format', 'columbus', 'franklin', 'ky', 'ireland', 'motility', 'pussy', 'infact', 'deteriorated', 'blend', 'adam', 'llo', 'lod', 'secrecy', 'ford', 'era', 'transmit', 'owners', 'accomplished', 'guidance', 'commitments', 'sport', 'explosion', 'badly', 'formerly', 'gates', 'possibilities', 'cups', 'killer', 'worst', 'bbc', 'correction', 'christians', 'suddenly', 'popt', 'acting', 'ia', 'opillsl', 'virtue', 'impossible', 'awhile', 'surface', 'alive', 'introduced', 'loow', '040', 'foundation', 'secondary', 'ons', 'cipro', 'blackout', 'vinobie', 'containing', 'affect', 'sanook', 'charitable', 'vinoble', 'ought', 'technical', 'seils', 'justice', 'missing', 'pressing', 'feels', 'watches', 'ocated', 'uss', 'younger', 'accumulate', 'anax', 'clause', 'picked', 'achieved', 'agony', 'firewall', 'spark', 'approvals', 'stipulates', 'calgary', 'unsecured', 'advancing', 'yrs', 'redhat', 'figure', 'contradistinction', '00319', 'viewers', 'minerals', 'percentages', 'au', 'prince', 'fuliy', 'mario', 'niche', 'furnishing', 'netherland', 'barclays', 'labor', 'settle', 'creator', 'everyday', 'seize', 'solicitor', 'crude', 'appiication', 'modem', 'display', 'darpa', 'inconvenience', 'hague', 'plils', 'winfax', '246663', 'culture', 'bel', 'compendia', 'artificial', 'muehlstein', 'fantastic', 'enforcement', 'employees', 'needy', 'affected', 'forfeited', 'violation', '259', 'drama', 'nepenthaceous', 'guess', 'hr', 'zinester', 'managers', 'ztop', 'aolmember', 'partially', 'subscribe', 'signing', '411', 'ore', 'medlcat', 'negotiate', 'stil', 'pinnacie', 'aiming', 'ejaculaton', 'lncreased', 'paxil', '261', 'erctions', '21556', 'modular', 'partnerships', 'stat', 'meets', 'protea', 'secrets', 'barry', 'pgpu', 'bound', 'breast', 'rms', 'binocyles', 'almighty', 'encarta', 'ak', 'almedz', 'alhaji', 'encyclopedia', 'psf', 'evil', 'dynamite', 'sistema', 'aforementioned', 'connect', 'addressing', 'wireiess', 'sitting', 'promise', 'strike', 'neuro', 'privileged', 'mins', '001', 'hassle', 'cream', 'ata', 'giobal', 'submitted', 'shape', 'commotion', 'arafat', 'fireworks', 'michae', 'guilt', 'larry', 'revolutionizing', 'consultancy', 'ware', 'homebuiiders', 'demanding', 'leaders', 'bro', 'yhe', 'doy', 'identiaiity', 'oua', 'conf', 'painfull', 'cooperate', 'shipplng', 'profiling', 'upgrade', 'asap', 'tocks', 'grants', 'han', 'ike', 'walls', 'aile', 'airmail', 'circumstances', 'nuys', 'discountrx', 'politics', 'battery', 'mvsn', 'gtb', 'nwani', 'smells', 'heads', 'submit', 'wind', 'stem', 'inter', 'dare', 'pau', 'ss', 'steve', 'worl', '195', 'dwide', 'vladimir', '790', 'schoois', 'perfectiy', 'happens', '033', 'inquiries', 'ranged', 'chms', 'cialls', 'ber', 'assume', 'adding', 'stamina', 'hidden', 'journey', 'excel', 'laptop', '994', 'grade', 'expenditures', 'fibrously', 'contended', 'flying', 'liquid', 'putting', 'ifsl', 'elimination', 'monster', 'ports', 'export', 'ladies', 'rooms', 'speaking', 'phentermlne', 'organic', 'driven', 'tablet', 'impactions', '9420', 'lyfdad', '074', '5368', 'occupants', 'unions', 'epa', 'celebrex', 'extremeiy', 'leveraging', 'alcmena', 'grateful', 'ity', 'cheeap', 'ciall', 'stricken', 'todayworldwide', 'adiprenl', 'pri', 'brunei', 'ithe', 'mhz', 'jitter', 'bright', 'secretary', 'pearls', 'csdn', 'copies', 'lift', 'types', 'agricultural', 'oc', 'unpaid', 'pope', 'breakout', 'ws', 'okaro', 'allegra', 'reflect', 'samiel', 'tickets', 'fearing', 'pharmacybymail', 'teiecommunication', 'machinery', 'proceeded', 'rockky', 'worry', 'miniaturized', 'compay', 'buried', 'bulwarking', 'akin', 'ibc', 'leadership', 'trailers', 'brow', 'chicken', 'marina', 'doff', 'criteria', 'htm', 'boo', 'blind', 'launching', 'disposal', 'swelling', 'questionaire', 'xenlcal', 'losses', 'dication', 'suitable', 'safeguard', 'walla', '171', 'woodland', 'deliveries', 'satisfy', 'guy', 'norm', 'curdle', 'highlights', 'reviewed', '209015', 'cotta', 'indications', 'loop', 'restricted', 'ongest', 'parker', 'election', 'invited', 'degeneracy', 'mean', 'headlines', 'motion', 'rl', 'accused', 'surprised', 'constitutive', 'replied', 'wt', 'noise', 'okay', 'clitoris', 'wished', 'entirety', 'personalities', 'sandmanyother', 'programming', 'valley', 'prop', 'emma', 'als', 'sessions', 'communities', 'dispatch', 'ema', 'viiagrra', 'compatible', 'tissue', 'chivalry', 'guaaraantees', 'haarder', 'holders', 'lloyd', '529', 'outsource', 'meanwhile', 'execute', 'rectiions', 'collaboration', 'magnetic', 'surveyed', 'cllick', '211', 'icense', 'traveling', 'lling', 'lisst', 'jury', 'walk', 'reserves', 'tom', 'hosting', 'anachronism', 'depreciable', '777', 'earnings', 'optimal', 'ht', '999', 'katchemack', '132', 'fervent', 'protected', 'commerciais', 'useful', 'bestddeals', 'securely', 'relocate', 'iho', 'mistress', 'chemist', 'compromised', 'gaining', 'doors', 'toward', 'challenged', 'gained', 'render', 'forecast', 'couple', 'putin', 'confidenti', 'legalized', 'dreams', 'beat', 'presenting', 'dee', 'blessed', 'muitiple', 'columbia', 'confided', 'encoding', 'col', 'isp', 'formation', 'albert', 'bronco', 'delegate', 'everybody', 'shook', 'lieu', 'catherine', 'ashamed', 'tga', 'capacity', 'dragon', 'sunday', 'pert', 'district', 'gov', 'merciful', 'insight', 'eda', 'song', 'iess', '270', 'rental', 'interferes', 'revoiving', 'causes', 'screens', 'hormonal', 'organs', 'universe', 'nope', 'plays', 'stiil', 'erect', 'jp', 'float', 'revetments', 'muiti', 'bestow', '352', 'gaming', 'ensuring', 'fla', 'fiash', 'miilenniums', 'holland', 'martins', 'ents', 'student', 'gets', 'retirement', 'glory', 'domain', 'presents', 'flagler', 'tune', 'cup', 'elizabeth', 'orphans', 'counterflow', 'realtor', 'input', 'ds', 'utilizes', 'readiness', 'terror', 'swung', 'unable', 'coquina', 'estrange', 'hits', 'affiiiates', 'dignity', 'arhat', 'compliments', 'definitely', 'segment', 'conscience', 'setting', 'hotel', 'platinum', 'stipulate', 'spanish', '160', 'outpick', 'employee', 'ga', 'specifically', 'mechanism', 'society', 'reviewing', 'approve', '129', 'maria', 'doorstep', 'fourty', 'jo', 'duly', '871', 'exam', 'heid', 'bar', 'prof', 'informationto', 'eliable', 'swift', 'latin', 'anne', 'louisa', 'belly', 'establishment', 'contribute', 'pal', 'obstacle', 'ignore', 'incorruptible', 'instailer', 'armm', 'restaurant', 'ray', 'eyefon', 'hydrocodone', 'encription', 'transmitted', 'happiness', 'creditcards', 'arive', 'doses', 'brothers', 'portal', 'machine', 'din', 'sheet', '825', 'oca', 'wavefront', 'initia', 'dozen', 'refer', 'cottonwood', 'seems', 'inherit', 'workstation', '410', 'retrieve', 'bond', 'sara', 'fred', 'enjoying', 'films', 'broken', 'kuwait', 'proves', 'fm', 'digging', 'concealed', 'millenium', 'famiiiar', 'instructed', 'chemical', 'filter', 'hole', 'competitors', 'gray', 'pennsylvania', 'anthony', 'gerald', '416', 'experiences', 'cheapst', 'unlike', 'medlcatlons', 'apologize', '704', 'utterly', 'widows', 'vlcodln', '127', 'stockspromoter', 'sandra', 'endocrine', 'garden', 'lasted', 'latter', 'stick', 'dfbeky', 'successfu', 'draft', 'wr', 'vestment', 'faces', 'nebulaeroad', 'tin', 'medicnes', 'bonsay', 'regulatory', 'deposition', '174', 'wondrous', 'nights', 'defunct', 'personaiized', 'hardcore', 'carriage', 'verified', 'bono', 'gear', 'eternal', 'babes', 'charged', 'robe', 'faso', 'para', 'curite', 'loyal', 'odors', 'wsmi', 'ghana', 'julie', 'crumb', 'igor', 'birth', 'rewardsgateway', 'dirty', 'glide', 'eco', 'servant', 'choir', 'inquire', 'warez', 'dionysus', 'bankofamerica', 'relinquish', 'jonah', 'pad', 'engines', 'exposing', 'rxdrugs', '181', 'violent', '537', 'micros', 'allen', 'carolyn', 'cautions', 'shorts', 'soap', 'cla', 'manufactures', 'andy', 'karma', 'machines', 'defined', 'collecting', 'crosswalk', 'penumbra', 'multilanguage', 'icq', 'xpress', 'chimique', 'tgage', 'employing', 'coax', 'beneath', 'haag', '630', 'noah', 'glucophage', 'dearly', 'royal', 'placing', 'doug', 'samson', 'expulsion', 'pointing', 'recess', 'franz', 'kaixo', 'succeed', 'mort', 'ful', 'lab', 'trunk', 'liquidate', 'deiivery', 'kamara', 'hyewon', 'anaplasmosis', 'metais', 'educational', 'reaily', 'quarters', 'veveca', 'procure', 'nam', 'transform', 'mere', 'orte', 'specialty', 'yard', 'wirelessly', 'packaged', 'sleeps', 'engaging', 'mapped', '4249859609', '1990', 'calms', 'eldest', 'backdrop', 'stares', 'jackpot', 'elephant', 'revealing', 'standing', 'determined', 'popup', 'sani', 'grave', 'brings', 'chalienging', 'blast', 'terrorist', 'den', 'vprofiles', 'ron', 'cabinet', 'franchise', 'cock', '438', 'entries', 'alternatively', 'subjectlike', 'forbid', 'anticipation', 'react', 'rxrocks', '474', 'itaiian', 'dupe', 'oversea', 'amatuer', 'pneumotomy', 'arrived', 'topic', '157', 'reimburse', 'stranger', 'particulars', 'solve', 'aimost', 'represents', 'perscription', 'sf', '526', 'bum', 'burn', 'augend', 'penls', 'tbs', 'clls', 'offset', 'blouse', 'harris', 'uche', 'ldnl', 'clarification', 'demise', 'moore', 'daniel', 'individua', 'communicated', 'divide', 'wild', 'chain', 'thereafter', 'dry', 'boyar', 'conciliatory', 'ments', 'dobbin', 'melhor', 'finalized', 'fetal', 'scrawny', 'convert', 'nts', 'symanntec', 'afield', 'avail', 'heathenish', 'conway', 'pian', 'anaheim', 'confirms', 'economia', 'biweekly', 'roundup', 'busca', 'wite', 'somewhat', 'depositor', 'messages', 'ummah', 'depending', 'employed', 'links', '853', 'push', 'xllwj', 'aiternative', 'obasanjo', 'temporarily', 'honestly', 'prevent', 'possibie', 'piu', '644', 'heat', '119', 'firstca', 'pur', 'pha', 'recipient', 'blatant', 'copying', 'authorization', 'emirates', 'reader', 'liable', 'teen', 'taiwan', 'path', 'chau', 'lly', 'incidental', 'rebecca', 'alaska', 'eap', 'uol', 'cail', 'phrm', 'radaruol', 'polar', 'metal', 'logos', 'emover', 'nm', 'operated', 'makers', 'terminated', 'phase', 'compensate', 'manuel', 'aging', 'continent', 'gbns', 'quicknet', 'legacy', 'reaching', '305', 'aromatic', 'catholic', 'pat', 'perfectly', 'climate', 'acknowledge', 'femi', 'ost', 'unhcr', 'nation', 'moneyback', 'mwnf', 'mobutu', 'rev', '910', 'eggs', 'barrel', 'smuggling', 'ean', 'cial', 'ellen', 'upland', 'installation', 'simpliest', 'businessman', 'molecular', 'cavern', 'shlpped', 'enabied', 'families', 'lnfo', 'organized', 'viewing', 'thruway', 'controls', 'dodge', 'ngw', 'host', 'mis', 'billing', 'native', 'stud', 'university', 'thinks', 'crm', 'bender', 'rare', 'eh', 'regulations', 'loves', 'lipitor', '441', 'whenever', 'benin', 'conservator', 'quantum', 'enemy', 'dropped', 'channels', 'explained', 'fiow', '265', 'nominate', 'criminal', 'reliably', 'courage', 'eme', 'takeoff', 'ophthalmic', 'cranny', 'prospect', 'triple', 'brokers', 'salary', 'moon', 'resolution', 'funny', 'customize', 'hangzhou', 'thee', 'payouts', 'kirk', 'ya', 'frree', 'followings', 'bread', 'letters', 'castro', 'ultram', 'shoulder', 'iscsi', 'loses', '210', 'harry', 'berlin', 'illegal', 'alis', 'decree', 'economist', 'mig', 'bullish', 'executing', 'gw', '472', 'objective', 'spun', 'recommends', 'ran', 'claudio', 'incorporated', 'elsewhere', 'geographic', 'wholesale', 'susan', 'broaden', 'fn', 'diplomat', 'ivory', 'lease', 'representatives', '133', 'productive', 'lion', 'imprecision', 'throwing', 'postcondition', 'affusion', 'thesecurities', 'yak', 'oluchi', 'embracing', 'rook', 'trends', 'gr', 'indicates', 'linda', 'lava', 'cyber', 'woodwork', 'asistance', 'hookup', 'dad', 'invite', 'stating', 'reasonably', 'partial', 'bradshaw', 'temple', 'imi', 'sunsweetwin', 'howard', 'zyrtec', 'pharmacies', 'flanagan', 'demonstrate', 'lifestyie', 'traore', 'guaranteeed', 'prilosec', 'md', 'conditioning', 'disaster', 'activate', 'phd', 'garrisonian', 'boyish', 'dell', 'buck', 'zero', 'ight', 'lick', 'zoning', 'escos', 'cairo', 'comfortable', 'dinner', 'jamie', 'religiously', 'encompassing', 'centrifugate', 'shown', 'develops', 'sisters', '517', 'ope', 'prettier', 'brigadier', 'sanni', 'wearing', 'blow', 'exceeding', 'jr', 'zocor', 'profound', 'antibiotics', 'practical', 'satisfactory', '212', 'arnold', 'filing', 'frigi', 'felt', 'calibale', 'mexico', 'emb', 'cornmeal', 'bougar', 'retain', 'specialized', 'circus', 'ther', 'caught', 'purger', 'structured', 'oam', 'dgsu', 'zap', 'blond', 'downloads', 'competitor', 'sigma', 'marketers', '101', 'astounding', 'redi', 'dlscreet', 'jurisdiction', 'foriegn', 'techniques', 'divine', 'requirement', 'anvil', '165', 'ible', 'ocean', '51310', 'buoy', 'entrusting', 'darkle', 'vìagra', 'steadily', 'efficiency', '665', '653', 'moneytv', 'rumor', 'loose', 'boolean', 'demerit', '675', 'versus', 'discontinue', '495', 'finger', 'reality', 'donation', 'conglomerates', 'chummy', 'cotton', 'mississauga', 'morrissey', 'nwanijoel', 'contingent', 'miller', 'interim', 'dis', '275', 'targets', 'pair', 'tens', 'initially', 'concentration', 'messenger', 'capabilities', 'terra', 'totai', 'aiity', 'girth', 'sofftwaares', 'dealers', 'explosives', 'existent', 'browser', 'tie', 'hill', 'hajia', 'primitiva', 'eiectronic', '135', 'coded', 'billions', 'liberal', 'eaasl', 'curiosity', 'recognition', 'flesh', '941', 'oyi', 'loving', 'eleanor', 'chandler', 'protecting', 'ursula', 'bernard', 'grid', 'sixteen', 'boris', 'coincidental', 'eto', 'eiectricity', 'tolerancy', 'orde', 'baby', '112', 'vida', 'shore', 'passion', 'station', 'chancery', 'disappointed', 'royalty', 'webcams', 'shipp', 'hayward', 'tock', 'lightning', 'representation', 'undergone', 'browbeaten', 'begun', 'amounts', 'sri', 'lao', 'relieve', 'dither', 'bunsen', 'transparency', 'heir', 'assign', 'belong', 'ici', 'apology', 'sbp', 'armenian', '599', 'menatep', 'margins', 'architect', 'poem', 'ions', 'apex', 'albrecht', 'occurred', 'eastern', 'paramount', 'difficult', 'professi', 'revolution', 'bone', 'emit', 'missy', 'ts', 'monetary', 'wildcards', 'gambi', 'grace', 'suha', 'encounter', 'doc', 'exxonmobil', 'richest', 'dimple', 'fuel', 'conflicted', 'freedom', 'sk', 'joins', 'certificates', 'bigfen', 'panel', 'hills', 'beacon', 'diabolarch', 'cathode', 'retire', 'bamaiyi', 'approached', 'apparel', 'coia', 'honey', 'cadent', 'probiem', 'widespread', 'revaccinations', 'autotransfusion', 'experiencing', 'accusation', 'lediesnight', 'khumalo', 'cordial', 'oney', 'bell', '654', 'witness', 'clark', 'apologise', 'competent', 'sheep', 'nght', 'ation', 'exit', 'joining', 'embryonic', 'predicted', 'hangman', 'bothers', 'influential', 'recentiy', 'foothill', 'manageable', 'belie', 'cryogenic', 'tender', 'motorcycle', 'monica', 'odd', 'colonel', 'hoteis', 'durable', 'hel', 'camera', 'desktop', 'departure', 'novo', 'prompted', 'fiscal', 'creates', '233', 'joan', 'colossi', 'unquestionably', 'vindictive', 'streets', '9080118308', 'aeronautic', 'networked', 'walpole', 'extravaganza', 'suppiy', 'amherst', 'scrutiny', 'prcc', 'numvette', 'pil', 'menus', 'finalist', 'adolescent', 'olkusz', 'mixed', 'oval', 'disburse', 'artist', 'johnowen', 'continuity', 'allowing', 'instaliation', 'duff', 'producer', '142', 'citizenry', 'resolved', 'sto', 'pui', 'cheung', 'chigger', 'ecti', 'lifo', 'bade', 'nj', 'alexei', 'despite', 'obtains', '443', 'confront', 'betatron', 'buiid', 'settled', 'abraham', 'collins', 'gps', 'controller', 'utilizing', 'beware', 'afterward', 'expired', 'dreadnought', 'bath', 'healing', 'sunny', 'argest', 'dapple', 'tomorrow', 'autocrat', 'jocelyn', 'duffield', 'cards', 'gambil', 'regions', 'closure', 'suncomm', 'unclaimable', 'rely', 'untimely', 'drunkard', 'pumice', 'newest', 'butadiene', 'choices', 'focuses', 'xl', 'cadet', 'bombast', 'financier', 'commercials', 'loved', 'absentminded', 'cytgf', 'cot', 'prisoner', 'badinage', 'quaiified', 'clip', 'leads', 'contestant', 'sg', 'sub', 'bolivia', 'anglo', 'buteo', 'carpet', 'ceil', 'thin', 'beds', 'dwelt', 'commerciaiized', 'voiume', 'pin', 'brahmsian', 'surgical', 'heritage', 'wndows', 'prce', 'conducting', 'unbeleivable', '58', 'bean', 'embrace', 'buggy', 'surviving', 'contaminates', 'hans', '745', 'shortest', 'lucia', '198', 'danieis', 'endeavour', 'plate', 'dust', 'articles', 'uacp', 'controversial', 'inexpnsive', 'domicile', 'acquaintance', 'stopping', 'ouagadougou', 'annualiy', 'calamus', 'foppish', '6000', 'milienniums', 'burrow', 'vveight', 'motor', 'calculable', 'log', 'guarantãe', 'mischievous', 'curio', 'hopes', 'coercible', 'maisonette', 'pronunciation', 'timothy', 'sailor', 'expioration', 'transference', 'forefront', 'advances', 'electrica', 'bakersfield', 'trend', 'medianly', 'arcane', 'gl', 'emotional', 'kid', 'cried', 'althea', 'fascinate', 'icon', '245928', 'reub', 'sip', 'nelsen', 'map', 'conveniences', 'resident', 'alice', 'attacked', 'csl', '25003127', 'episode', 'epsl', 'frequency', 'radio', 'lg', '245610', 'patrick', 'brokerage', '108', 'oficial', 'covering', 'supersavings', '00218', 'egypt', 'apologia', 'gangling', '36510460037', 'snow', 'sharply', '202', '611', 'ponce', 'seltzer', 'conrad', 'economists', 'trustee', 'derrick', 'survival', 'periods', 'lp', 'mend', 'appall', 'weils', 'deterring', 'este', 'bowl', 'marry', 'keyword', 'guei', 'novelty', 'maintaining', 'brian', 'havetherefore', 'meilo', 'michigan', 'improving', '312', '52600', 'coffeecup', 'bronx', 'areawide', 'aches', 'dewey', 'belt', 'knauer', 'alterate', 'stupidity', 'arthur', 'crate', 'arroyo', 'sample', 'treasonous', 'sealed', 'tickle', 'omprella', 'apt', 'rural', 'outperforming', 'fidgeting', 'williamson', 'escalate', 'indexes', 'timed', 'elected', 'aloft', 'fathers', 'stinks', 'croydon', 'residing', 'detect', 'adheres', 'chalcocite', 'enabie', '1996', 'detention', '27522465896', '6453', 'crafted', 'surpass', '3772', 'vaiuable', 'pyongyang', 'jeftha', 'soonest', 'spit', 'dumps', 'xãnax', 'flora', 'probiems', 'endstr', 'bedroom', 'koenigsberg', 'borneo', 'wokomah', 'catalog', 'compulsive', 'zealot', 'scoring', 'ohio', 'billy', 'softgoeshome', 'basket', 'adelaide', '860', 'worker', 'kiev', 'sweetish', 'dutton', 'medicamento', 'reliability', 'beit', 'basically', 'viper', 'mca', 'prvb', 'verna', 'ister', 'efectos', 'tab', 'bartok', 'sobre', 'sprl', 'youour', 'climbs', 'fisher', '580', 'mcailister', 'argentina', 'stoxmarkets', 'reme', 'alerting', 'ignorance', 'infantile', 'bells', 'italy', 'primrose', '650', 'sludge', 'cindy', 'gel', '3000', 'dissociate', 'centum', 'andrews', 'skiff', 'doreen', 'lands', 'bossier', 'parish', 'discretionary', 'identifying', 'sankho', 'sins', 'surfing', 'nurse', 'depends', 'maximal', '162', 'hall', 'ection', 'directorate', 'isv', 'mile', 'crotch', 'ba', 'fino', 'width', 'viewpoint', 'oliver', 'walking', 'organ', 'di', 'rnedicals', 'touched', 'areaway', '3733', '33131', 'wealthy', 'turk', 'adviser', 'gt', 'compendium', 'predicament', 'lasalle', 'risky', 'scanned', 'televisions', 'hdtv', '84', 'partnering', 'dang', 'redundancy', 'exploration', 'county', 'drawing', 'environments', '9000', 'certification', 'certifications', 'fieid', 'excited', 'licenses', 'stuck', 'realistic', 'paired', 'liability', 'translates', 'peak', 'population', 'practically', '828', 'locale', 'blessing', 'provinces', 'specal', 'ridge', '459', 'lineup', 'hgkkdc', 'oui', 'stabile', 'article', 'precedent', 'blessings', 'cfin', 'fragile', 'daley', 'alfalfa', 'police', 'enemies', '617', 'vaye', 'instructs', 'nuhan', 'besides', 'cheerful', 'giga', 'ez', 'santa', 'labels', 'mone', 'speeds', 'eating', 'gifted', 'immigration', 'destination', 'microsoftchoose', 'amtk', 'adobechoose', 'despot', 'baxter', 'smallcap', 'optimistic', 'xinhua', 'congrats', 'sleeper', '420', 'filling', 'prestigious', 'thou', 'founded', 'harmful', 'priicee', 'primary', 'masters', 'bunch', 'doctorate', 'chesterton', 'diameter', 'crania', 'doi', 'elliot', 'excluded', 'lesser', 'verifications', 'seekers', 'bn', 'footer', 'poweriine', 'dramatically', 'inv', 'wal', 'aff', 'cleaner', 'diatribe', 'ecagra', 'respectfully', '206', 'supplier', 'prayed', 'oin', 'cask', 'audition', 'stationery', 'treason', 'stadium', 'murder', 'fullpage', 'dragoon', '241', 'participating', 'dashboard', 'agriculture', 'viable', 'cholesterin', 'colette', 'affects', 'distributors', 'cos', 'dilution', 'bartlett', 'lending', 'trailer', 'sus', 'lq', 'barnes', 'und', 'baltimore', 'osseously', 'spy', 'surely', 'abhorrent', 'inequity', 'cycling', 'caw', 'played', 'asian', 'ittle', 'searches', 'larger', 'congress', 'mature', 'gauntries', 'occasioned', 'retains', 'tommed', 'metabole', 'verbascose', 'superorganize', 'cardroom', 'millie', 'ravisher', 'aboard', 'carrier', 'belonged', 'thrity', 'killers', 'harley', 'asetar', 'jaeger', 'priicewe', 'mvern', 'harvey', 'afforrdable', 'expeditious', 'glow', 'expedia', 'horses', 'debit', 'listings', 'engineering', 'unauthorized', 'amazon', 'productions', 'deletion', 'int', 'football', 'equilibria', 'repatriating', 'tyson', 'chailenging', 'bebop', 'candlewick', 'ajar', 'mcafee', 'jude', 'indubitable', 'procaine', 'autocad', 'cr', 'bible', 'ings', 'destine', 'kajeta', 'lynn', 'inflicter', 'walter', 'airfoil', 'cowan', 'dadaism', '309', 'zigzagging', 'impotency', '579', 'wings', 'decrease', 'judgment', 'makume', 'pie', 'giveaway', 'elbow', 'dubuque', 'ye', 'crashed', 'fatah', 'hash', '116', 'kamil', 'antoine', 'cognitive', 'hatem', 'uxury', 'lock', 'sandwich', 'definitive', 'bermuda', 'tlot', 'genus', 'keyhole', 'addison', 'blunder', 'dirge', 'iaiity', 'hd', 'salers', 'aim', 'swamp', 'zodiac', 'empower', '489', 'belvidere', 'dowlnoad', 'jesus', 'movles', 'layers', 'capstone', '010', 'denigrate', 'lit', 'doiiar', 'berkeiey', 'pactive', 'duris', 'mbabane', 'solitary', 'operationa', 'onal', 'funeral', '245932', 'notarized', 'saie', 'crowberry', '680', 'charities', 'restructure', 'depreciate', 'wpl', 'hype', 'interrupted', 'staatsloterij', 'rachel', 'oakdale', 'ciients', 'hydroxylate', 'defocus', 'obi', 'sarah', 'synthetic', 'thiink', 'nearest', 'hacienda', '698', 'hepburn', 'grades', 'angola', 'publi', 'paln', 'reverse', 'suck', 'ml', 'recipe', 'dick', 'inves', 'oeruw', 'cars', 'transportation', 'intends', 'pure', 'edgar', '004', 'sn', '765', 'fyi', 'lyrics', 'meters', 'bang', 'hymnarium', 'poot', 'cm', 'wrap', 'soothing', 'contours', 'cleanses', 'helpful', 'rejuvenates', 'stretch', 'posted', 'candace', 'aunt', 'capability', 'absoluteiy', 'lastly', 'lan', 'impiementer', 'tejan', 'cushman', 'nov', 'replies', 'publicly', 'protein', '486', 'keys', 'nevada', '128', 'dozes', 'climbing', 'juliet', 'yesmeds', 'logistic', 'neck', 'charter', 'versicolor', 'tenia', 'collaborate', 'everaging', 'filmworks', 'medsgalore', 'canterelle', 'summary', 'thread', '247040', 'separate', 'accessible', 'zenegra', 'nexium', 'smallcapreview', 'imitrex', 'intentions', 'desmond', 'doggone', 'bmxg', 'lipiitor', 'majesty', 'automate', 'trapped', 'dynamics', '877', 'libya', 'courts', 'niece', 'brussels', 'obsessive', 'cockcrow', 'addle', 'chert', 'penetrate', 'tylenol', 'procurement', 'wells', 'cliffhang', 'unfortunate', '575', '911', 'alexander', 'oct', 'torino', 'ev', 'imfd', 'earned', 'attentive', 'marital', 'rder', 'duplicity', 'microcosm', 'counterproductive', 'abate', 'pietism', 'initiate', '9318', 'ends', 'eariier', 'vers', 'freelotto', 'parent', 'scene', 'bracket', 'scruple', 'azalea', 'band', 'learning', 'medcom', 'drove', 'chris', 'harm', 'algorithm', 'hays', 'boosting', 'surprising', 'propose', 'harrison', 'inbox', 'backup', 'shareholders', 'disciplinary', 'alleviations', 'amen', 'otcreporter', 'ter', 'thick', 'curse', 'absorption', '273', 'boyle', 'shehane', 'importantly', 'wellbeing', 'earnest', 'cats', 'soothsayer', 'thereof', 'prosaic', 'temporary', 'ruie', 'inciuded', 'plain', 'caliber', 'catskill', 'commonplace', '546', 'pont', 'chalkline', '954', 'zenith', 'biology', 'persistent', 'ecclesiastic', 'amputate', 'circumcision', 'awoke', 'refills', 'baghdad', 'belief', 'prosecuted', 'kinds', 'concede', '900', 'propounded', 'juncture', 'shadow', 'christine', 'acyclic', 'druid', 'deveioped', '741', 'crown', 'consistent', 'pseudomorph', 'powdery', 'sunset', 'astound', 'enquire', 'antony', 'wooler', 'proffessional', 'banister', 'lube', 'standalone', 'statesmen', 'knobby', 'nautical', 'scrap', 'frigate', 'burton', 'berate', 'hailstone', 'muon', 'vacancies', 'malicious', 'orderind', '1663800', 'arava', 'mixup', 'canoe', 'liquidated', 'arc', 'vt', 'asphalt', 'rewarding', 'yield', 'invasive', 'parcel', 'burdock', 'tube', 'edmonton', '515', 'disposable', 'pulse', 'cylinder', 'dawson', 'comply', 'cravings', 'subscriber', 'chink', 'armature', 'coaxial', 'exaggerate', 'heine', 'biddy', 'nervous', 'google', 'communicable', 'constrictor', 'counterpart', 'darling', 'adventurers', 'stays', 'aback', 'ifestyie', 'hobbes', '811', 'dutch', 'notarization', 'lambert', 'cheapsoftshop', 'katonah', '94', 'archives', 'valerie', 'reduces', 'illuminate', '339', 'compromise', '671', '469', '345', 'ellipsoid', 'bullet', '908', 'garrett', '623', 'earns', 'uncommon', 'molten', 'fa', 'medals', 'void', 'afternoon', 'mutilate', 'eliminate', 'carcinogenic', 'drawbridge', 'benson', 'prompting', 'escape', 'aruba', 'oz', 'uncles', 'ordinance', 'lubricant', 'genex', 'carla', 'brash', 'genitive', 'bin', 'polemic', 'elizabethan', 'closest', 'dahlia', 'beacons', 'sacrifice', 'sewage', 'converts', 'dolly', 'sas', 'roll', 'performers', 'cotonou', 'trophy', 'chorus', 'grey', 'fair', 'astray', '721', 'stockpromoter', 'leased', 'cady', 'sustained', 'abernathy', 'bequeath', 'adipic', 'fourth', 'batchelder', 'executives', 'calhoun', 'differences', 'listo', 'catnip', 'contrata', 'pandasoftware', 'tienda', 'idpers', '13920', 'smalicapreview', 'cunningham', 'cloudburst', 'viewed', 'updating', 'banque', 'xo', 'fuil', 'safeharbor', 'policies', 'amazed', 'precios', 'injuries', 'nudge', 'balletic', 'iceberg', 'cloudy', 'punky', 'beman', 'croft', 'hanukkah', 'corruption', 'danzig', 'markham', 'defecate', 'missionary', 'granulate', 'blym', 'household', 'chisholm', 'bookbind', 'adore', 'centric', 'tennessee', 'career', 'arctan', 'glitch', 'crowfoot', 'puerto', 'headsets', 'bois', 'recipients', 'wan', 'alike', 'lane', 'coop', 'mayor', 'suppliers', 'circular', 'ri', 'ta', 'aaa', 'styo', 'xualpow', 'retrieved', 'seyo', 'cockpit', 'urplea', 'rfuler', 'mental', 'epowe', 'capture', 'molybdenite', 'copenhagen', 'flat', 'schoolroom', 'montgomery', 'viiagra', 'asymptote', 'arcade', 'debauch', 'algorithmic', 'whoever', 'stanley', 'xylem', 'glasses', 'clothier', 'discredited', 'dumpy', 'calculates', 'plundered', 'azimuthal', 'aden', '43085', 'ultimateiy', 'cape', 'portfolios', 'arrives', 'reverend', 'manufacture', 'lordship', 'allum', 'deiivers', 'apogee', 'enterprises', 'coffin', 'furnace', 'inance', 'resulted', 'atlantis', 'field', 'battle', 'ronald', 'troops', 'anonymous', 'printing', 'dickinson', 'kennedy', 'tour', 'ap', 'enabies', 'conciusion', 'entro', 'destroyed', 'rlces', 'reins', 'judgments', 'rub', 'abbonati', 'recieving', 'chemisorption', 'aujobs', 'specialize', 'pharmaceut', 'carol', 'sotware', 'indeterminable', 'digression', 'brent', 'cyclic', 'repeated', 'feed', 'ram', 'logical', 'conscript', 'mrrefinancing', 'beige', 'fingers', 'db', 'innocent', 'luggage', 'refid', 'contracting', 'offerings', 'departments', 'lioudmila', 'supporting', 'decisive', 'jelly', 'berkowitz', 'believing', 'sour', 'delilah', 'miscellaneous', 'bonnet', 'wade', 'fullest', 'oking', '344', '266', 'stopped', 'bother', 'reputation', 'memberships', 'hershey', 'ineffective', 'perforate', 'becomes', 'fioat', 'tulsa', 'enabling', 'alliances', 'equate', 'fest', 'hereto', 'barrett', 'immediateiy', 'symptoms', 'andover', 'declamation', 'arboreal', 'noxiously', 'exisiting', 'allegheny', 'deer', 'celia', 'residue', 'administer', 'dexter', 'decomposition', 'diffusible', 'comedy', 'corcoran', 'electronics', 'slim', 'edison', 'convention', 'bite', 'goldman', 'ol', 'burning', 'mont', 'sailfish', 'embarrass', 'handicraft', 'braggart', 'expose', 'dime', 'wellington', 'loft', '5388', 'attachment', 'bridesmaid', 'ames', 'australis', 'emergency', 'collapse', 'eva', '714', 'teacher', 'allure', 'doherty', 'habit', 'alipennystocks', 'arabia', 'thirteen', 'backward', 'squash', 'chargeless', 'propagating', 'invisible', 'deeply', 'dovekie', 'xxx', 'mcginnis', 'specificaily', 'expnmail', 'expn', 'buenos', 'afterwards', 'ozma', 'craftsmen', 'duties', '491', 'purchased', 'huntley', 'tries', 'ang', 'roy', 'chang', '365', 'mba', 'bachelors', 'brendan', 'bleed', 'enviado', 'desde', 'tsang', 'painkillers', 'equivalent', 'biota', 'theres', 'airline', '990', 'integrating', 'tailor', 'responding', 'kelly', 'abnormal', 'behaviour', 'spontaneous', 'noble', 'crescent', 'convinced', 'ass', '114', 'defect', '865', 'fails', 'radical', 'secures', 'inextricable', 'stairway', 'interrupt', '609', 'collected', 'progs', '0148', 'listening', 'higgs', 'confidently', 'admiral', 'nos', 'completes', 'allergy', 'imitation', 'indication', 'iens', 'probably', 'employment', 'awsuits', 'consultations', 'detaiied', 'merge', 'chinastar', '61934', 'lawrence', 'ery', 'gratification', 'stability', 'responce', 'regrads', 'associate', 'buspar', 'pains', 'appian', 'messieurs', 'caring', 'eidetic', 'anthology', 'clarify', 'trades', 'ps', 'heartfelt', 'haste', 'nw', 'ru', 'medicinal', 'handbag', 'difficulties', 'ication', 'instail', 'angeles', 'berenices', 'brenda', 'cufflink', 'collinear', 'intending', 'sunrise', 'palestine', 'samue', 'dixieland', '168', 'twit', 'ugly', 'thrown', 'standpoint', 'binomial', 'torture', 'sums', 'beset', 'penitentiary', 'corduroy', 'dreamt', 'banach', 'authentic', 'hurt', 'environmentally', 'elmira', 'peniss', 'ove', 'calorie', '0034', 'randomnameisgood', 'constitution', 'carlos', 'memory', 'ah', 'veteran', '111', 'jealous', 'fling', 'instailations', 'hydrocod', '49000', 'usn', '031500', '240', 'amarillonet', 'fled', 'consultants', 'irremovable', 'promptly', 'rested', 'burnett', 'dallas', 'emission', 'highway', 'defensive', 'underground', 'afflictions', 'wooden', 'emphases', 'jlc', 'greek', 'downpour', 'hosted', '646', '148', 'wilson', 'multilingual', 'accommodating', 'gb', 'brandon', 'opposing', 'cartel', 'alphanumeric', 'gidado', 'kano', 'nemtsov', 'yabloko', 'allot', 'crane', 'gregor', 'yavlinsky', 'poses', 'campaigns', 'voeux', 'wo', 'donor', 'tx', 'agone', 'wave', 'demagnify', 'silent', 'shove', 'electrolysis', 'binuclear', 'idc', 'transition', 'coachmen', 'script', 'antwerp', 'heavily', 'wrote', 'murmur', 'elp', 'amely', 'lenght', 'roduct', 'gazette', 'skyrocket', 'melbourne', 'conductor', 'wallstreet', 'suppose', 'retired', 'plants', 'piastics', 'adequately', 'peaceful', 'stern', 'honeywe', 'pd', 'succesfu', 'washing', 'tea', 'whelp', 'boatload', 'explanation', 'neccessary', 'importation', 'mostly', 'mammoth', 'bromley', 'ruling', 'penelope', 'elves', 'punctual', 'ecole', 'cannery', 'brazzaville', 'elution', 'drops', 'ambulate', 'reviving', 'dessert', 'visa', 'noted', 'transact', 'bearing', 'envy', 'egalitarian', 'aspect', 'downloaded', 'succeeded', 'binge', 'cohomology', 'ellipsometer', 'gatekeep', 'af', 'accent', 'victor', 'seed', 'colourful', 'pedagogues', 'cornbird', '625', 'condemnate', 'undisinherited', 'tearlike', 'invulnerability', 'purse', 'gratifies', 'frab', 'glycerophosphoric', 'abram', 'countrify', 'sheldrake', 'daubs', 'legitim', 'moonset', 'str', 'repacks', 'stippler', 'interpolater', 'bosom', 'standards', 'unto', 'sudan', 'victims', 'liberian', 'chapter', 'schenectady', 'azure', 'quorum', 'myspyerase', 'archer', 'beatnik', 'candela', 'codeine', 'bitten', 'nod', 'periodic', 'fatigue', 'rogers', 'embolden', 'nguyen', 'kenneth', 'province', 'anton', 'walgreen', 'gigabyte', 'cornet', 'clinic', 'gedanken', 'shovvroom', 'porto', 'medzone', 'mei', 'pey', 'shiipping', 'fatal', 'troubles', 'fletcher', 'partiaily', 'overnlght', 'bothersome', 'ball', 'hydrae', 'dinnertime', 'paain', 'airports', 'demands', 'antibiotic', 'ust', 'candy', 'replace', 'khis', 'adjunct', 'lunch', 'cradle', 'candidates', 'leninist', 'kreeps', 'aagrra', 'alilum', 'bronzy', 'bravery', 'ous', 'encompasses', 'finalizing', 'anticoagulation', 'strokes', 'heretofore', 'oyo', 'inverness', 'virgules', 'macy', 'innovations', 'gate', 'fil', 'students', 'anaysis', 'wentworth', 'enhancer', 'outlook', 'pregnancy', 'council', 'impiementing', 'additionaily', 'gym', 'pulled', 'seliing', 'complain', 'leakage', 'evans', 'occident', '008', 'anal', 'helix', 'philanthropic', 'whistles', 'officexp', 'taskpane', 'badge', 'zwallet', '520', 'windowsxp', 'computing', 'hunter', 'delighted', 'powering', 'workgroup', 'deploy', 'fav', 'personne', 'casino', 'wu', 'offfer', 'dublin', 'pickup', 'cowry', 'protective', 'shaw', 'likewise', 'echoes', 'straightening', 'evaluate', 'greenbelt', 'militarist', 'continental', 'victorigor', 'fi', 'assembled', 'ironside', 'mazafaka', 'fdcservers', 'checkerberry', 'bayreuth', 'stamps', 'abominable', 'skimmed', 'harsh', 'refining', 'ignorant', 'regalls', 'banal', 'slip', 'amygdaloid', 'salaried', 'vicodln', 'buiit', 'reversible', 'slb', 'defiant', 'darn', '850', 'charterone', 'decline', 'ies', 'commodities', 'preservation', 'hamated', 'fuels', 'cheapsoft', 'qq', 'rugs', 'evolving', 'chinaman', 'antennae', 'covariant', 'tratamiento', 'diversion', 'balcony', 'una', 'karim', 'resultados', 'blanc', 'handler', 'veronica', 'playability', 'weather', 'mãdicos', 'charismatic', 'nonartistic', 'readily', 'demostrado', 'tumores', 'transit', 'flinty', 'contextual', 'chisom', 'crib', 'casos', 'chuka', 'mãs', 'claimant', 'opportune', 'dominic', 'liquids', 'rhythm', 'clayton', 'kl', 'everson', 'negro', 'caine', 'innovate', 'leonardo', 'linden', 'communion', 'arequipa', 'sailors', 'fogarty', 'injunction', 'laurent', 'confid', '2104', 'entiaiity', 'kenney', 'dpu', 'mustard', 'hilarious', 'iss', 'relaxation', 'lineman', 'checkthis', 'edoingw', 'citicorp', '823622669', 'torpor', 'browsing', 'mavis', 'pace', 'basicaliy', 'hsta', 'ab', 'grew', 'myloaniq', '341', 'kick', 'connections', 'brahms', 'covers', 'markings', 'beverly', 'conferrable', 'anathema', 'warehouse', 'mil', 'santiago', 'macrovision', 'nasdaqnm', 'saffron', 'stan', 'committeemen', 'spouses', 'potentially', 'paste', 'holy', 'ascl', 'tolerant', 'grail', 'bondholder', 'strained', 'cycad', '619', 'weave', 'olu', 'brazi', 'grandmother', 'insomnia', 'alumnus', 'inability', 'exploded', 'buiids', 'inteliigence', 'observingly', 'exponentia', 'staggering', 'wolves', 'compound', 'baptismal', 'mustapha', 'lausanne', 'vertical', 'junior', 'malibu', 'drives', 'ablution', 'aftermath', 'kylie', 'tested', 'spu', 'onger', 'ewe', 'fortin', 'dthe', 'nba', 'monstrosity', 'reject', 'reggie', 'theus', 'incident', 'yof', 'chest', 'escaped', 'xualdes', 'commander', 'spin', 'umeby', 'zoznam', 'shipments', 'sections', 'sai', 'regulation', 'logging', 'volatility', 'bergstrom', '89', 'mpb', 'ireand', 'bunkering', 'unsubscription', 'dolan', 'oneself', 'rmvol', 'conquer', 'corei', 'uraland', 'faciiity', 'basketbail', 'durrell', 'blackburn', 'misappropriate', 'perpetrators', 'tutory', 'muhammad', 'aggregate', 'bedside', 'crimson', 'ceq', 'bal', 'anthem', 'csnet', 'lieutenant', 'enron', 'boom', 'goodwin', 'arena', 'dyer', 'redhead', 'ytterbium', 'deeff', 'archibald', 'khalil', 'familiarly', 'glacier', 'corollary', 'capitalization', 'canopy', 'ski', 'asterisk', 'vaughn', 'pule', 'dominican', 'onlinepharmacy', 'incon', 'ttowel', 'swarm', 'hefted', 'dysentery', 'clot', 'passionate', '020', 'basemen', 'votes', 'freehand', 'delux', 'datacenter', 'baboon', 'chechnya', 'carboxy', 'ptp', 'nosi', '333', 'cethr', 'pbl', 'huang', 'truely', 'evident', 'helene', 'snores', 'whites', '2202', 'rolled', 'pensil', 'cluster', 'fruits', 'purchas', 'affidavits', 'drafting', 'autumn', '661', 'armco', 'squeeze', 'portsmouth', 'caroline', 'meddz', 'offr', 'zulu', 'newton', 'moreover', 'raff', '637', 'steroid', 'paolo', 'oklahoma', 'angelina', 'ecosystem', 'banca', 'piso', 'ent', 'advi', 'ered', 'sourceforge', 'obligations', 'statutory', 'ipping', 'calve', 'eslon', 'freakish', 'spoke', 'choral', 'brighton', '550', 'asc', 'eetim', 'jerky', 'geror', 'basidiomycetes', 'cybershop', 'sterile', 'beatrice', 'bullets', 'thi', 'appeared', 'coven', 'highs', 'professors', 'cord', 'malisse', 'simon', 'mdt', 'deshi', 'ordinal', 'medtronic', 'bax', 'malta', 'iterate', 'shinbone', 'gwit', 'interviewer', 'hopewell', 'hiding', 'compression', 'dozed', 'paracorolla', 'irving', 'gotta', 'intesa', 'assessing', 'apprehend', 'ldwi', 'hesse', 'brag', 'ik', 'cook', 'okpara', '816', 'cultivate', 'buchi', 'parls', 'postcard', 'ude', 'locales', 'informing', 'scotsman', 'shocking', '945', 'machineries', 'ayo', 'oranjestad', 'afore', 'tous', 'edo', '1200', 'valuables', 'functionaries', 'smack', 'tolerate', 'woodward', 'idaho', 'cession', 'dx', 'slave', 'amnesia', 'wireiessiy', 'cam', 'incidents', 'araby', '642', 'homeiand', 'etol', 'watts', 'challenge', 'ssy', 'excperience', 'canvas', 'yourpres', 'disolves', 'prescrlption', 'charley', 'forrester', 'launched', 'investigated', 'tone', 'boutique', '775', 'kinesic', 'ced', 'remem', 'drastic', 'wing', 'consequences', 'anchor', 'shebanow', 'orwell', 'bendix', 'needham', 'duane', 'checkbook', 'reattain', 'duffy', 'manuals', '5555', 'olive', 'julieth', 'pilot', 'ello', 'electric', 'bridgetown', 'argv', 'perceive', '\\x85', 'emphasis', 'avenge', 'lineal', 'windowleft', 'aliied', 'scription', '63054112933246002', 'benefactor', 'jumping', 'stint', 'deanna', 'windowtop', 'stockbrokers', 'clink', 'hotpicks', 'fed', 'abels', 'michelson', 'larvae', 'windowheight', 'windowwidth', '009', 'sordid', 'lmb', 'circumvent', 'rahim', 'haddock', 'provisions', 'bitterroot', 'castor', 'spinal', 'giganticneeds', 'chws', 'rep', 'kr', '659150', 'mauricio', 'disclosed', 'deliberate', 'authorisation', 'cookiename', 'attractive', 'cruelty', 'bull', 'spectroscope', 'controversia', 'introduces', 'peters', 'vdg', 'vlcodin', 'faye', 'batchnumbers', 'redit', 'abudu', 'steep', 'motorcycles', 'dereference', 'hockey', 'presswire', 'whereas', 'feedback', 'lowered', 'confidentiai', 'evaluated', 'dtomi', 'lncrease', 'relaxed', 'vics', 'futile', 'kamokai', 'lisva', 'anheuser', 'village', 'diplomacy', 'norris', 'exceptional', 'claire', 'aproudpenis', 'xanex', 'facing', 'apart', 'koch', 'rivulet', 'houses', 'solitude', 'aso', 'wondered', 'fountain', 'sagittarius', 'unbelivable', 'negotiates', 'vanish', 'xiguan', 'earphone', 'owning', 'eyeware', 'opills', 'actquote', 'bustard', 'perspective', 'anglican', 'hurdle', 'angelica', 'arbitrage', 'guangdong', 'runshi', 'huaguang', 'owing', 'decemberl', 'bench', 'je', 'nv', 'phosgene', 'prototypes', 'conduce', 'minibike', 'pompano', 'dey', 'silence', 'parentage', 'balletomane', 'sono', 'consumi', 'confidentiaiit', 'pointer', 'incumbent', 'therapist', 'coy', 'allocating', 'pertinent', 'wearers', 'crest', 'abode', 'firefighters', 'decompress', 'beam', 'percussive', 'compost', 'ruies', 'taught', 'arachnid', 'spike', 'vanity', 'dpa', 'ibori', 'gaseous', 'advisory', 'radiation', 'baron', 'anabaptist', 'bantu', 'plng', 'creak', 'charon', 'igottohavethisnow', 'generc', 'activation', 'ladi', 'lawal', 'toothpaste', 'loud', 'fiiing', 'chariotway', 'optical', 'subverter', 'fuscescent', 'straightway', 'trichophore', 'surreptitiously', 'curdled', 'orbitary', 'copperfield', 'pete', 'artemis', 'conferring', 'slay', 'shlp', 'trustees', 'lw', 'downheartedness', '907686', 'intensive', 'commissionship', 'recommendable', 'inoperable', 'flask', 'politicians', 'psychoanalytical', 'bluestocking', 'plavix', 'devilish', 'resorbent', 'depressants', 'figureheads', 'speciaiized', 'relaxant', 'bavaria', 'puma', 'reproductive', 'painstaking', 'inasmuch', 'builtin', 'astral', 'pantherish', 'emerges', 'torahs', 'boeotian', 'suntan', 'marksman', 'cotoneaster', 'aprication', 'harvestman', 'adex', 'imperforate', 'simplicidentate', 'follows', 'affinities', 'catface', 'alveolus', 'govern', 'glebous', 'spacecraft', 'photogenic', 'branding', 'sulphoazotize', '2113', 'carpocephalum', 'syllabled', 'theandric', 'pocketbook', 'ages', 'reuters', 'intensified', 'insatisfactorily', 'vibracular', 'sigmund', 'dearborn', 'dinero', 'abel', 'rebates', 'junk', 'businessmen', '271', 'contest', 'breastplate', '239', 'febuary', 'curricula', '28081', 'lima', 'oro', 'smiles', 'patience', '761', 'ancestor', 'cellulose', 'drub', 'investigate', 'sofa', 'entrust', 'refugees', 'deliv', 'dismissal', 'blaaz', 'conscription', 'richards', '4132', 'offended', 'robust', 'cocky', 'suppression', 'detract', 'merchandise', 'annul', 'priviieges', 'curry', 'oriental', 'egocentric', 'exclaimed', 'preparing', 'researched', 'soda', 'za', 'watchmen', 'accession', 'levin', 'vaiues', 'forbidden', 'complaisant', 'sergeant', 'getaway', 'wc', 'alternate', 'gawab', 'asata', 'sleepingaids', 'infusion', 'byword', 'delimit', 'consuit', 'fedex', 'ale', 'shedir', 'colander', 'hypoactive', 'shawstakers', 'drink', 'junction', 'ito', 'rebated', 'zeus', 'custer', 'repose', 'predetermined', 'rdernow', 'percy', 'bookings', 'soddenness', 'vendetta', 'rising', 'omission', '817', 'loyalty', 'showroom', 'questry', 'hyannis', 'intestine', 'kwashiorkor', 'mock', 'aiberta', 'cattlemen', 'ke', 'cheyenne', 'fastsize', 'incubate', 'wherein', 'inbreed', 'digram', 'insufficient', 'insulates', 'shift', 'railing', 'garrick', 'devil', 'shocks', 'cocoons', 'afar', 'catalytic', 'tomb', 'evade', 'asthma', 'robbers', 'draped', 'toll', 'dult', 'academic', 'cuba', 'despondent', '3351255002', 'financed', 'soutane', 'belate', 'pitt', 'supersic', 'chromatic', 'publications', 'township', 'hoodia', 'caigary', 'successfuily', 'arkana', 'cadbury', 'nutrahoodia', 'broomcorn', 'udo', 'stages', 'hovering', 'discerning', 'jane', 'peliets', 'tarzan', 'gladesin', 'vera', 'whispering', 'sockeye', 'saves', 'ths', 'fiyer', 'freeservers', 'wholesaie', 'cashflo', '652', '4011', 'lourdes', 'washbasin', 'hopeful', 'tempe', 'ied', 'booking', 'inquires', 'tripple', 'russell', 'admixture', 'oiivier', 'sides', 'aldermen', 'crowd', 'orange', 'cams', 'fx', 'sese', 'ison', 'dominos', 'conferencing', 'thursdays', 'tempecvb', 'cargo', 'perminantly', 'seko', 'deteriorating', 'upward', '518', 'dockside', 'poincare', 'interval', 'desert', 'captious', 'medically', 'odysseys', 'sw', 'oral', 'annoying', 'inroad', 'jinan', 'secretion', 'aggressively', 'kabbah', '209318', 'chip', '103', 'hme', 'mpeg', 'capitalizing', 'feeble', '173', 'babyhom', 'wifi', 'comprising', 'kbps', 'amaze', 'ican', 'tw', 'clothes', 'colleaguesherein', 'percents', 'skype', 'whats', 'proxy', 'plotting', 'vanguard', 'remunerate', 'miiestones', 'icai', 'astute', 'broderick', 'noneedl', 'guarantée', 'vat', 'suzana', 'hook', 'derivative', 'dans', 'yost', 'proiific', 'lent', 'dcpi', 'buildup', 'fighting', 'discrepant', 'installed', 'phot', 'enforce', 'icodiin', 'backscatter', 'fanfare', 'onyeike', 'acrimony', 'philips', 'mantrap', 'formal', 'evels', 'sexy', 'calendrical', 'xenical', 'boasts', 'clobber', 'holocaust', 'bide', 'cater', 'paths', 'amaziing', 'rderdrugs', 'proficient', 'amtrak', 'devolution', 'fool', 'fabricate', 'geometrician', 'capillary', 'uitimately', 'nooo', 'birefringent', 'caiman', 'clitoral', 'notch', 'atlas', 'separately', 'stimulator', 'tickling', 'massaging', 'fallen', 'vibrates', 'rotates', 'pearled', 'sculpted', 'labour', 'realistically', 'auerbach', 'pliant', 'anyim', 'einsteinian', 'invoice', 'untyred', 'fnytqua', 'formatting', '0919', 'dyke', '0199', 'majors', 'magnus', 'precipitate', 'hummel', 'pricepowerful', 'originalbut', 'horoscope', 'leon', 'editions', 'merges', 'senate', 'indexed', 'solidified', 'sunk', 'accessibie', 'anyway', 'womans', 'invaluable', 'hbo', 'uruguay', 'velocall', 'allegations', 'darren', 'jackrabbit', 'minded', 'bold', 'akili', 'sc', 'noll', 'spruce', 'ungodly', 'prosopopoeia', 'zonder', 'demo', 'latinworld', 'lousy', 'directive', 'probable', '747', 'cruises', 'mediz', 'ultimate', 'explaining', 'â\\x85', 'gender', 'occupation', 'adventure', 'pander', 'fgc', 'tanya', 'disbursed', 'humbly', 'actualize', 'cyberspace', 'vp', 'barrels', 'spence', 'realitytvauditions', 'graphic', 'adobbe', 'confisicated', 'cruising', 'treasurer', 'potency', 'bundie', 'gallery', 'iilustrator', 'albuquerque', 'annuaily', 'ipl', 'renew', 'participant', 'rough', 'arsenal', 'stockmailer', 'gari', 'agribusiness', 'baltia', 'bail', 'delinquent', 'entrance', 'tan', 'sur', 'wolny', 'repetition', 'restrained', 'medzplace', '190', 'kittenish', 'gecko', 'plz', 'jen', 'inventories', 'affecting', 'cofactor', 'mari', 'mel', 'expiosive', 'clinician', 'besotted', '688', 'cyanate', 'aliows', 'eccentric', 'famiiiarization', 'patriot', 'cheney', 'ambitious', 'milton', 'modest', '641', 'concertina', '144', 'cotty', 'grass', 'contiguity', 'structura', 'cranium', 'shut', 'ot', 'grievous', 'caliph', 'chippendale', 'catalyst', 'arithmetic', 'hotwire', 'baltiacapital', 'olympic', 'byers', 'biochemic', 'confusion', 'intransigent', 'therxshop', 'wth', 'raoul', 'fits', 'survived', 'achieving', 'wkng', 'gothic', 'dud', 'zolpdm', 'nsomn', 'demultiplex', 'cn', 'starwood', 'baptistery', 'applymed', 'rico', 'lawful', 'medicaments', 'overwt', 'cant', 'arraign', 'jumpy', 'inheritor', 'punitive', 'remainder', 'dahomey', 'forecasted', 'bba', 'confucianism', 'incapable', '444125680216', 'piazza', 'nape', 'augmentation', 'wet', '034', 'norwich', 'berman', 'doramail', 'elucidate', 'perfectvgr', 'nationallottery', 'garry', 'resorts', 'ratify', 'referee', 'crew', 'yk', 'passenger', 'francisco', 'mortgages', 'careful', 'whirlwind', 'worse', 'derby', 'cosmos', 'glits', 'marriott', 'warn', '145', 'hiiton', 'lb', 'gasms', 'essence', 'fraught', 'flatulent', 'dub', 'nibbled', 'gonzalez', 'quickbooks', 'inn', 'weaver', 'dropping', 'disagreeable', 'primer', 'encore', 'snifter', 'privilege', '885', 'astronomer', 'arpeggio', 'sud', 'widely', 'wicked', 'cougar', 'austere', 'bespeak', 'toy', 'amelia', 'aliphatic', 'palisade', 'athena', 'vagra', 'mayst', 'filmed', 'polaron', 'safest', 'bettor', 'icensing', 'bedtime', 'bufflehead', 'sps', 'grownup', 'pledge', 'calculated', 'culbertson', 'monkeys', 'imitates', 'wiggle', 'prefix', '396', 'inairhxb', 'grape', 'whiplash', 'odogu', 'expenditure', 'marks', 'absence', 'highiighted', 'bedbug', 'clitpleasure', 'albright', 'derek', 'longz', 'gerhard', 'cellulite', 'strengthen', 'capitaiize', 'yuobyhere', 'withheld', 'immune', 'offce', 'permanently', '897', 'salt', 'looked', 'millionaire', 'seeds', 'calcite', 'hedge', 'newswire', 'upto', 'validate', '875', 'boggle', 'steppe', 'certiorari', 'presumptive', 'pharmaceuticai', 'acl', 'alteration', 'interrupting', 'bacth', 'consternate', 'margarine', 'rotterdam', 'vbs', 'nodal', 'ox', 'anyplace', 'lubricity', 'crete', 'adrian', '6311', 'evacuate', 'sweep', 'ministerio', 'palestinian', 'bindweed', 'romano', 'fluctuation', 'disseminate', '415', 'jesse', '403', 'corkscrew', 'parade', 'dirt', 'basicaily', 'southbound', 'abb', '131', '91401', 'biography', 'noel', 'mariamu', 'distinct', 'confute', 'tight', 'marcel', 'verb', 'glycine', 'bearberry', 'abstracter', 'sickness', 'palazzo', 'rhoda', 'duke', 'bury', 'league', 'alarm', 'extending', 'demonic', 'coat', 'clad', 'jeff', 'newspaperman', 'decoration', 'researches', 'yousif', 'settings', 'mushtaq', 'caan', 'bullyboy', 'oregon', 'selectman', 'abbot', 'welfare', 'circulate', 'betterrxinfo', 'churches', 'olivia', 'shopkeeper', 'abridge', 'anchorage', 'dates', 'partake', 'volatiiity', 'lifetime', 'tuo', 'nearby', 'medicat', 'nick', 'landlord', '91237', '232', '808', '614', 'crump', 'allison', 'loterij', 'nce', 'bellatrix', 'hickey', 'conspirator', 'ameliorate', 'ceremony', 'factory', 'fordhenry', 'caviness', 'saskatchewan', 'awaited', '91663', 'aquatic', 'brass', 'crocodile', 'uae', 'jessica', 'ock', 'israel', 'dislodge', 'aboriginal', 'realised', 'hutchins', 'dominate', 'appears', 'np', '350', 'abed', 'accord', '161', 'manhood', 'pays', 'fantasy', 'guangzhou', 'zeroes', 'egg', 'cerulean', 'groundbreaking', 'nixon', 'bmrefi', 'meter', 'fashion', 'newsl', 'glucose', 'analyses', 'convolve', 'lmsp', 'celebrityfuckfest', 'amazi', 'phenomenon', 'jpg', 'tor', 'agtfsc', 'perished', 'theophilous', 'egyptian', 'mates', 'nicely', 'wongfaye', 'shed', 'closet', 'passengers', 'designers', '184', 'bass', 'rivotril', 'bestsoftshop', 'ements', 'dysfunctions', 'degradedly', 'affliction', 'inferior', 'occassioned', 'touchdowns', 'closely', 'medzstoreonline', 'validation', 'swiftly', 'tonk', 'philanthropist', 'proje', 'cortland', 'ctions', '845', 'ange', 'structural', 'pennysto', 'uri', 'commodity', 'yakasia', 'partid', '565', 'clic', 'ities', 'secur', 'merger', 'quiver', 'lotteria', 'colon', 'indie', '801', 'populate', 'aamedical', 'suffered', 'predict', 'phillip', 'legalonline', 'strongiy', 'waken', 'schwenk', 'pulp', 'erica', '167', 'songs', 'beijing', 'rescription', 'tsunami', 'hk', 'bystander', 'bittersweet', 'recapture', 'federa', 'exultation', '023', 'ideolect', 'enjoyable', 'decor', 'folks', 'dental', 'prcing', 'ride', 'glee', 'desecrate', 'persson', 'ministerial', 'malden', 'greet', '323', 'clothing', 'riminton', 'attrition', 'malformed', 'lights', 'facilitates', 'reed', 'amounting', 'bernhard', 'roundhead', 'pockmarked', 'cobra', 'tuttle', 'acidic', 'leans', 'walker', 'opposition', 'smartball', 'protrude', 'lotter', 'pcanywhere', 'pfs', '928', 'deny', '8821646655614', 'goodluck', 'koroma', 'sms', 'beseech', 'biggs', 'plasm', 'prosodic', '8181', 'cheapgeneric', 'demurrage', 'leatherback', 'southeast', 'elder', 'bifocal', '5073', 'recruit', 'winters', 'twelfth', 'nora', 'inefficient', '563', 'meson', '622', 'improvements', 'appendage', 'chaaaaange', 'liens', 'lawsuits', 'cheesy', 'athabascan', 'trader', 'abstain', 'nowhere', 'cucumber', 'clapboard', 'vacation', 'xnax', 'xmo', 'samurai', 'resend', 'eel', 'kidding', 'approv', 'overnite', 'ju', 'distributor', 'sluts', 'photolytic', 'queen', 'wrists', 'models', 'jolie', 'notices', 'assess', 'charitywerks', 'wider', 'waist', '894', 'juan', 'patricia', 'stronghold', 'barbara', 'karp', '366', 'bertrand', '445', 'covert', 'offrr', 'catsup', 'abuilding', 'selects', 'conceptual', 'merchandising', 'ender', 'iv', 'statem', 'democrat', 'ov', 'cabin', 'plenty', 'rampant', 'colloidal', 'guerdon', 'chock', 'atreus', 'abutted', 'chasm', 'refinancing', 'backlash', 'plea', 'forwa', 'colloquial', 'pioneering', 'rated', 'amoxil', 'churchyards', 'judicial', '222', 'facilitated', 'carbonate', '447', '7417', 'painted', 'anode', 'electrocardiogram', 'credential', 'tale', 'papua', 'ambient', 'avi', 'tg', 'puritanical', 'precambrian', 'regrettable', 'bind', 'sack', 'optimism', 'drumhead', 'ness', 'managerlpc', 'martial', 'fence', 'sam', 'resiny', 'sep', 'exercises', 'enroll', 'diabetic', 'alcoh', 'licking', 'swallow', 'functorial', 'prudent', 'element', 'deeper', 'tampon', 'faking', 'ctrp', 'nevertheless', 'cogitate', 'outbid', 'origin', 'flavor', 'solomon', 'os', 'protagonist', 'bellini', 'descendent', 'craggy', 'twine', 'euridyce', 'apprise', 'codon', 'thousa', 'yea', 'terpsichorean', 'galvanometer', 'certainty', 'hui', 'adverb', 'angrily', 'michelle', 'schools', 'clara', 'slab', 'arum', 'rothschild', 'alabama', 'governmental', 'potomu', 'masque', 'ordinary', 'nihk', 'beside', 'acquisitive', 'singular', 'congratulatory', 'malleable', 'diploma', 'awaken', 'certi', 'froze', 'saigon', 'judicious', 'baylor', 'finan', 'greene', 'attempting', 'ficate', 'disable', 'unipal', 'invidious', 'coun', 'austenite', 'prospe', 'schoolgirlish', 'qem', 'rous', 'moniey', 'dotsprescription', 'initiatives', 'disks', 'coursework', 'lenses', 'tcl', 'prone', 'boycott', 'interviews', 'imagination', 'necessity', 'mettle', 'req', 'cobalt', 'alligator', 'wattle', 'uaiity', 'propagation', 'creatures', 'unconditionally', 'buyherbalsonline', 'frustrated', 'bridegroom', 'cayenne', 'uired', 'ices', 'insane', '780', 'ordable', 'yone', 'scream', 'sourcing', 'elig', '841', 'ailiances', '0462', 'orldwide', 'crow', 'nash', 'cometh', 'laying', 'replaced', 'absent', 'brest', 'balboa', 'confiscates', 'canary', 'miracles', 'sed', 'pot', 'divisible', 'saudi', 'belove', 'dearest', 'seiling', 'luxury', 'uymail', 'kaolinite', 'shutdown', 'tadalaf', 'badminton', 'stepmother', 'bellum', 'layup', 'broad', 'cumberland', 'aggression', 'codicil', 'seymour', 'virtually', 'satellite', 'constellate', 'impotencie', 'livermore', 'painting', 'comprehend', 'pomona', '1517', 'auspicious', 'rmacy', 'fargo', 'joystick', 'crewman', 'cartography', 'bmxp', 'boatswain', 'iii', 'resign', 'foray', 'tina', 'flatware', 'diorama', 'amok', 'aplomb', 'defector', 'yugoslavia', 'bribery', 'mount', 'hammond', 'antagonism', 'canyon', 'cache', 'neve', 'bustle', 'declaratory', 'collide', 'briefcase', 'failing', 'laura', 'payyless', 'osses', 'hopelessness', 'subjected', 'deliquesce', 'swollen', 'psychological', 'plenipotentiary', 'datum', 'minerva', 'pendulum', 'scaiabie', 'squezze', 'threw', 'indefatigable', 'waits', 'traumatized', 'phrase', 'fiance', 'gleam', 'favourable', 'credibility', 'artifact', 'wisely', 'shower', 'businessweek', 'bloomberg', 'passing', 'dominant', 'schizophrenic', 'relenting', 'resuming', 'forbes', 'amazingly', 'aloud', 'abrasive', 'bounds', 'leaps', 'concerti', 'wow', 'chinawtc', 'isva', 'margery', 'xpforyou', 'connally', 'rosenberg', 'thats', 'technique', 'extract', 'cleave', 'bottles', 'denver', 'character', 'thereat', 'liquefy', 'carrie', 'elysian', '330', 'remediation', '260', 'obese', 'josh', 'forethought', 'utiiizing', 'vouchsafe', 'embargo', 'dump', 'expository', 'bogeymen', 'alexis', 'intensify', 'vivacious', 'noun', 'preschool', 'besmirch', '371', 'alpenstock', 'glottal', 'vlcod', 'savoy', 'courageous', 'burdensome', 'surmount', 'oint', 'militia', 'technica', 'testify', 'caterpillar', 'doge', 'aspen', 'detroit', 'congest', 'osiris', 'implementation', 'carlo', 'affluent', 'spite', '476', '717', 'camelback', 'pokerface', 'pans', 'publiciy', 'purposeful', 'cabinetry', 'auberge', 'compton', 'suppiies', 'delirious', 'mitten', 'lange', 'alway', 'lunge', 'pest', 'humor', 'mia', 'confiicted', 'bismarck', 'eyeful', 'profligate', 'eddie', 'twin', 'heterostructure', 'tied', 'geminate', 'pyrolyse', '887', 'grumble', 'byrne', 'gigantic', 'bunkmate', 'apostle', 'mandate', 'ego', 'dortmund', 'grandiose', 'automaton', 'systemwide', 'elector', 'qn', 'inviata', 'swiftness', 'tribunal', 'mortgege', 'jacqueline', 'toolkit', 'boldly', 'internecine', 'kerr', '4612', '1416', 'botany', 'poultice', 'reptile', 'exception', 'pacific', 'sieve', 'despair', 'armstrong', 'farther', 'nautilus', 'alumnae', 'gadolinium', 'concurrent', 'beloit', 'hydrangea', 'berkins', 'dennise', 'keaton', 'boggy', 'hotels', 'chernist', 'trees', 'refuse', 'seeker', 'prohibits', 'communicant', 'moola', 'stygian', 'acridness', 'postdoctoral', 'nether', 'cyclades', 'corporal', 'irregulars', 'ambassador', 'dy', 'gordian', 'bout', 'bodybuilder', 'garter', 'culprit', 'bravado', 'canvasback', 'tanager', 'atkinson', 'bivalve', 'trey', 'tkn', 'deceptive', 'czerniak', 'abandon', 'attenuate', 'banquet', 'wretch', 'alberta', 'bigelow', 'atop', 'blaze', 'lunatics', 'conjecture', 'trickle', 'nobel', 'spector', 'locust', 'inclusive', 'bruno', 'salesian', 'dingo', 'buttercup', 'veterans', 'exhaust', 'adriatic', 'doldrums', 'iances', 'clapeyron', 'lithium', 'partia', 'brainard', 'ellsworth', 'withdrew', 'anastigmatic', 'cub', 'delouse', '956', 'lovers', 'dandelion', 'tempting', 'seldom', '696', 'coiied', 'penates', 'classics', 'scam', 'botch', 'aver', 'ascii', 'alot', 'guard', 'knurl', 'froma', 'inspect', 'consolidating', 'marsh', 'freemasonry', 'addis', 'wound', 'constraints', 'slack', 'breeches', 'induct', '53', 'taxi', 'fraternal', 'bowie', 'auspices', 'bo', 'syndication', 'bangladesh', 'stations', 'programmer', 'unreal', 'infiating', '164', 'squishy', '918', 'neath', 'coal', 'katamail', 'exclusion', 'fiberboard', 'persecution', 'gentlemen', '505', 'beforehand', 'aq', 'deluxe', 'storm', 'deliberately', 'affiiiation', 'crave', 'indulgence', 'plead', 'eliminated', 'jackson', 'automotive', 'hypertensive', 'sl', 'ext', 'matrimonial', 'spread', 'nationality', 'descriptive', 'medicaldirectory', 'batik', 'cosy', 'hines', 'vampire', 'crucible', 'convocation', '325', 'neurological', '826', 'vise', 'joy', 'excuse', 'trigonometry', 'intrusion', 'obviously', 'baffin', 'manchester', 'sibilant', 'instinct', 'aileron', 'sr', 'baklava', 'assassinated', 'cryptic', 'declaration', 'euphrates', 'honk', 'banish', 'delta', 'bedim', 'convulsion', 'blurry', '739', 'cloture', 'pam', 'scrawl', 'collage', 'crass', 'cartwheel', 'notinuse', 'algenib', 'carpenter', 'drier', 'palpable', 'cankerworm', 'francoise', 'eveis', 'coed', 'typical', 'mariner', 'usedto', 'despicable', 'reimbursement', 'mooree', 'horace', 'rusty', 'functionary', 'elapse', 'bilge', 'cauliflower', 'centennial', 'frankfurt', 'hinges', 'root', 'torrance', 'keen', 'abba', 'straiight', 'shhip', 'hundredds', 'maccromeddia', 'oslo', 'transiation', 'hundrreds', 'saaved', 'sitte', 'embarasing', 'everythiin', 'seriouss', 'waree', 'ashtray', 'lateeest', 'siite', 'reception', 'successor', 'ep', 'graceful', 'sofftwarre', 'bookend', 'downward', 'colatitude', 'tracks', 'launches', 'convene', 'exposed', 'freemort', 'colgate', 'legs', 'goto', 'deployed', 'plainly', 'locked', 'alan', 'brevity', 'bovine', 'banker', 'mime', 'cybernetics', 'osborne', 'kimaeva', 'dated', 'musgrove', 'hub', 'csvdfh', 'musicals', 'shopper', 'speaks', 'tortoise', 'nlimited', 'arden', 'tl', 'authenticate', 'solidifying', 'homepage', 'flnd', 'hartshorn', 'ablate', 'spell', 'infomerciais', 'shadows', 'powerhouse', 'jim', 'cheeky', 'ej', 'volatile', 'ide', 'ana', 'alley', 'giants', 'lukewarm', 'java', 'crandall', 'saviour', 'worldw', 'armacy', 'eternity', 'housekeep', 'rolex', 'wakeup', 'cluj', 'inseminate', 'appleton', 'antithetic', 'sophisticated', 'lounsbury', 'tapis', 'onerous', '492', 'bulletins', 'eaves', 'snares', 'neil', 'pronounced', 'pagan', '677', 'eligibility', 'scenarios', 'dreamer', 'warhead', 'coliection', 'hormones', 'define', 'deterministic', 'groundwork', 'stutter', 'fiducially', 'bobby', 'transcoding', 'clearwater', 'specializing', 'hormone', 'baronet', 'soundless', 'arrogant', 'bump', 'kabila', 'buttons', 'promiscuous', 'bigot', 'luv', 'nova', 'boundary', 'backing', 'standaione', 'bagging', 'onllne', 'ideally', 'smaller', 'obvious', 'labeled', 'bucket', 'baggage', 'marketpiace', 'finds', 'unsuitabie', 'conjectural', 'thunder', 'route', 'antares', 'rope', 'nom', 'knot', 'component', 'unbeiievabie', 'pianet', 'iabiiity', 'osborn', 'sonia', 'caiif', 'crossroad', 'designing', '521', 'experiment', 'adviced', 'agenda', 'eagerly', 'promos', 'coke', 'ciosing', 'fiawless', 'adhesion', 'instrument', 'consummating', 'commented', 'communicating', 'ldwide', 'scout', 'gullweig', 'ibe', 'drilling', 'sylg', 'assisitance', 'dusty', 'winton', 'einstein', 'marilyn', 'grounds', 'oop', 'malcolm', 'arianism', 'contentious', 'conceit', 'righteous', 'lawson', 'commencement', 'cigars', 'cachalot', 'shell', 'receivable', 'sundry', 'cre', 'montreal', 'tyndall', '280', 'fucked', 'scoop', 'acton', 'mad', 'headway', 'fears', 'upheld', 'pharmonlin', 'housing', 'insure', 'contemptuous', 'anchored', 'tobacco', 'shun', 'pharaoh', 'circuitous', 'dramaticaily', 'braid', 'abused', 'epicureanism', 'reassignment', 'borrowers', 'ghent', 'wash', 'iron', 'pyrimidine', 'incured', 'poplin', 'jewell', 'youa', 'atom', 'comtemplating', 'overpaid', 'emove', 'amuse', 'diacritic', 'beaver', 'carney', 'reprisal', 'frayed', 'chronograph', 'drrugs', 'logic', 'exorcise', 'forgot', 'miilions', 'tonsillitis', 'clifford', 'piays', 'likeiy', 'triplex', 'discussing', 'forfeiture', 'seized', 'belle', 'yieiding', 'anxious', 'melio', 'starve', 'travesty', 'norwegian', 'eater', 'cargoes', 'mesopotamia', 'partialiy', 'jaw', 'rain', 'soggy', 'becky', 'santasrates', 'commissary', 'oboe', 'reassure', 'soldier', 'paralysis', 'combines', 'ingredients', 'lindberg', 'tidbit', 'rulers', 'prescriptlon', 'curatives', 'verbosity', 'paleozoic', 'everthything', 'lackofenergy', 'betsey', 'cagey', 'chesapeake', 'patina', 'nevis', 'bldg', 'contractual', 'ailowing', 'ear', 'wagging', 'monroe', 'kitchen', 'decisional', 'acorn', 'rand', 'replica', 'compassionate', 'housebreak', 'armpit', 'dorchester', 'credits', 'atropos', 'bale', 'rmvd', 'genius', 'crust', 'coriolanus', 'filtrate', 'glove', 'martinez', 'humility', 'res', 'breech', 'tirade', 'bloodroot', 'borne', 'agnostic', 'westchester', 'dane', 'professor', 'chamfer', 'pun', 'encode', 'antagonistic', 'baldpate', 'grudge', 'sausage', 'shirt', 'gad', 'sony', 'osmotic', 'madrigal', 'zimmerman', 'watchers', 'dubhe', 'bloodbath', '045', 'bugle', 'cabinetmake', '6410', 'grandstand', 'assiduous', 'appendix', '514', 'surreptitious', 'deity', 'graham', 'malocclusion', 'barrack', 'radium', 'nasty', 'atrophic', 'gospel', 'wachovia', 'alumni', 'antipodes', 'connubial', 'bernardo', 'abash', 'surjection', 'plausible', 'babylon', 'celestial', 'reiigions', 'solenoid', 'aiumni', 'carbine', 'stadia', 'traceable', 'tycoon', 'terrorists', 'uniike', 'ally', 'inestimable', 'freezing', 'bergamot', 'primp', 'blackguard', 'ullman', 'beryl', 'hemosiderin', 'rump', 'pta', 'gilbertson', 'marcus', 'cobb', 'depressive', 'debase', 'leaven', 'dissension', 'tubulus', 'bronchiole', 'cryptanalytic', 'olsen', 'swain', 'inaugurate', 'claritin', 'looted', 'genome', 'quit', 'findal', 'churn', 'hijacked', 'heartbreaking', 'inteiligent', '557', 'arkansan', 'cutworm', 'harvard', 'tiffany', 'nonundulatory', 'scribe', 'jinxing', 'coralberry', 'courtyard', 'variegate', 'angling', 'chaaange', 'tobago', 'taiiored', 'robin', 'ellison', 'numeral', 'booze', 'antiquity', '401', 'pause', 'suits', 'shine', 'loyalties', 'bralamone', 'capacious', 'regression', 'caraway', 'aerodynamic', 'amide', 'annoy', 'soidiers', 'paradigm', 'cinnabar', 'attend', 'invoicing', 'neutral', 'gardner', 'granary', 'triassic', '501', 'gaggle', 'faiiure', 'spar', 'castigate', 'ty', 'demitted', 'curtain', 'awl', 'bacon', 'sprawl', 'conglomerate', 'irvine', 'landslide', 'ablaze', 'gee', 'allpennystocks', 'nonsense', 'peruse', 'novembre', 'tedious', 'angelfish', 'suzanne', 'shanghai', 'soldiers', 'tutti', 'landis', 'adenine', 'khartoum', 'enthusiastic', 'fearful', 'lagging', 'ben', 'loa', 'thly', 'veil', 'seizing', 'gag', 'maxima', 'sauerkraut', 'msn', 'standart', 'centrist', 'allegedly', 'axe', 'sylvester', 'bib', 'bronchial', 'residual', 'dialogue', 'accompaniment', 'anonymity', 'improves', 'lipase', 'sought', 'hillock', 'belligerent', 'angular', 'mayer', 'dickey', 'situs', 'sneeze', 'helen', 'instances', 'apatite', 'walton', 'scheduled', 'madras', 'pgcn', '111213', '844', 'unbelievable', '246', 'renounce', 'disparate', 'aeneid', 'ciass', 'birthday', 'quail', 'pug', 'mealy', 'gratifying', 'recurred', 'travail', 'editor', 'afire', 'abstruse', 'bonn', 'tudor', 'persecute', 'concluding', 'congressmen', 'instrumentation', 'martensite', 'steeplebush', 'visage', 'princeton', 'knives', 'smallest', 'supposed', 'oscilloscope', 'whitehorse', 'morass', 'marquis', 'boustrophedon', 'drab', 'herman', 'cannon', 'vibrate', 'pragmatist', 'deaths', 'introspect', 'elope', 'aftereffect', 'aversion', 'cornell', 'croatia', 'falmouth', 'answering', 'formica', 'seller', 'simplify', '867', 'shame', 'ql', 'aspartic', 'abdicate', 'udoh', 'hurrying', 'beauregard', 'resell', 'convolution', 'ick', 'springs', 'andscape', 'bauxite', 'mortal', 'kindred', 'catalysis', 'perm', '638', 'blizzard', 'paramus', 'colonnade', 'clio', 'suspicious', 'tripromoconsult', 'bray', 'capacitate', 'larynges', 'angels', 'mescaline', 'dilute', 'haley', 'caliphate', 'isomorph', 'planeload', 'incure', 'hopscotch', '949', 'ecomog', 'residents', 'spoil', 'housewifes', 'mawkish', 'ste', 'lockwood', 'autocollimate', 'flames', 'clicked', 'laud', 'blackjack', 'aarhus', 'prescrlptlon', 'damage', 'clarity', 'insider', 'crystallography', 'miserable', 'phalarope', 'emms', 'corrodible', 'pastes', 'quintessence', 'inverse', '731', 'darwin', 'dissident', 'winter', 'transfinite', 'graduate', 'evidence', 'bequest', 'inculpable', 'abundant', 'leadsmen', 'moyer', 'immoderate', 'physic', 'commutate', 'carlisle', 'rpc', 'hamilton', 'bamboo', 'gemlink', 'height', 'keel', 'adele', 'obedience', 'regime', 'functions', 'caricature', 'plantation', '543', 'tracy', 'spigot', 'affront', 'attraction', 'sts', 'scatterbrain', 'deai', 'calis', 'backwater', 'igence', 'schumann', 'everage', 'almi', 'infinite', 'exceeded', 'dorcas', 'gwe', 'mem', 'accumuiation', 'consensus', 'environmentaliy', 'sundown', 'ulcerate', 'uih', 'moi', 'cllck', 'municipa', 'agricuitural', 'forestry', 'devisee', 'tachometer', 'discard', 'extrusive', 'contempt', 'eanice', 'ptolemy', 'shale', 'boltzmann', 'asheville', 'tires', 'ayh', 'unsuitable', 'temptation', 'airspeed', 'autopsy', 'diffuse', 'bosch', 'camellia', 'issy', 'crowley', 'eisner', 'fluctuate', 'condiment', 'jensen', 'supports', 'generates', 'norway', 'cnet', 'passive', 'repienish', 'hippocratic', 'boa', 'undertaken', 'plywood', 'instigator', 'brant', 'notre', 'bounty', 'baroque', 'addicts', 'mli', 'scott', 'confldential', 'deduction', 'succeeds', 'prescrlptlonneeded', 'caddis', 'renewabie', 'borrow', 'soive', 'paperback', 'enrolled', 'medicatlons', 'demeanor', 'shortages', 'creamy', 'yanzhou', '6521', 'actualization', 'accompany', 'damages', 'whit', 'rneds', 'yzc', 'slightly', 'executor', 'calcareous', 'diverted', 'examine', 'gods', 'dodd', 'bryant', 'aviary', 'cherokee', 'exists', 'jnr', 'dietz', 'eu', 'rme', 'mus', 'culpa', 'victory', 'coercion', 'defuse', 'fulsome', '421', 'gettingandfindings', 'cle', 'nostalgia', 'cavort', 'enfant', 'coset', 'municpal', 'elisabeth', 'soiid', 'strip', 'heiping', 'featherbrain', 'aibert', 'cryptogram', 'lineofcredit', 'thwacks', 'novice', 'salaam', 'brunette', 'nectarine', 'decontrol', 'incomparable', 'stature', 'bs', 'bamako', 'asceticism', 'instrumenta', 'cotillion', 'mclean', 'curricular', 'rascal', 'sampson', 'foothold', 'stocksolution', 'nu', 'sweeping', 'bucharest', 'hired', 'vandenberg', 'rubbish', 'surrounded', 'crossarm', 'beginner', 'devotion', 'hester', 'spoilage', 'scientists', 'indebted', 'garnered', 'ossifies', 'writings', 'foe', 'rescind', 'ornament', 'dreyfuss', 'unchristian', 'overspeculate', 'baseboard', 'remova', 'anger', 'halt', 'eader', 'consummate', 'platelet', 'selfridge', 'wink', 'onlook', 'dung', 'gallantry', 'caiiber', 'panicky', 'wright', '756', 'nitrate', '705', 'gunfight', 'cardiology', 'continuation', 'devious', '898', 'mostoles', 'buttress', '28923', '7414', 'espana', '561', '4509', '782', 'futurelooking', 'dugan', 'selisecurities', 'implacentate', '538901527', 'claret', 'gibberish', 'payent', 'nyu', 'nes', 'saloonkeep', 'gathering', 'enahnce', 'comatose', 'gobal', 'abject', 'proletariat', 'canaan', 'solicitors', 'spaniard', 'indentity', 'daren', 'reinvest', 'biplane', 'quasar', '0100', 'kenton', 'aspartyl', 'mealtime', 'mcintyre', 'happenstance', 'myrrh', 'respecter', 'haffet', 'afloat', 'matrimony', 'devolve', '878', 'attempted', 'nave', 'noses', 'charybdis', 'slur', 'chandelier', 'swaziland', 'occasions', 'sprang', 'blacks', 'moses', 'groin', 'polymerase', 'eani', 'creation', 'gill', 'crankcase', 'messy', 'confrere', 'zr', '724', 'alt', 'elliptic', 'verifiable', '185', 'exceed', 'stonewall', 'apace', '950', 'expelled', 'hendricks', 'pilewort', 'surges', 'zeb', 'momentummomentum', 'harriman', 'fructify', 'waters', 'scarcely', 'botswana', 'shinpping', 'anyindication', 'qsb', 'copra', 'loudspeaker', 'debug', 'alberto', 'suspend', 'cruz', 'irresolvable', 'tripod', 'continuo', 'coach', 'theta', 'restoration', 'yokel', 'possum', 'permalloy', 'cyclist', 'coco', 'sore', 'honour', 'cognate', '542', 'bolshevism', 'washbowl', 'decathlon', 'stumpage', 'deceive', 'adulterate', 'ramsey', 'beginiing', 'prick', 'pluperfect', 'eskimo', 'depart', 'startle', 'apothegm', 'degradation', 'sustain', 'dance', 'hack', 'buzzing', 'brumidi', 'massey', 'cytoplasm', 'espaa', 'dent', 'thelma', 'embargoes', '368', '770', 'godparent', '357', 'unsub', 'cochrane', 'quirt', 'lamb', 'distributing', 'plates', 'bestoem', 'athletic', 'blaine', 'productivity', 'caps', 'moisture', 'amorous', 'mesmeric', 'charm', 'pu', 'nationally', 'contrary', 'entity', 'debacle', 'athletes', 'crucial', 'abhorred', 'dampen', 'prayer', 'shakespearian', 'togs', 'edmund', 'earthquake', 'avoidance', 'liv', 'faithful', 'conjoin', 'andorra', 'bellwether', 'educationa', 'hurried', 'takeover', 'gamewood', 'consoiidation', 'purcell', 'commonly', 'fortunate', 'abusable', 'sensor', 'sanctify', 'digit', 'cruickshank', 'indentation', '7500', 'drudge', 'hereafter', 'callous', 'randy', 'bernice', 'churchillian', 'diem', 'chateau', 'amplify', 'famed', 'heal', 'dyne', 'lethal', 'chap', 'wideiy', 'apathy', 'galena', 'eaten', 'oxygen', 'minority', 'mung', 'recognize', 'cheekbone', 'rice', 'groggy', 'disorders', 'keynes', 'bee', 'paraffin', 'robertson', 'approximate', 'creditor', 'suit', 'edith', 'diego', 'quadrangular', 'ague', 'fireside', 'bureaucrat', 'semi', 'raffle', 'hs', 'attendant', 'congregate', 'fresno', 'nurture', 'slaves', 'capturing', 'audubon', 'liate', 'bellboy', 'affi', 'wema', 'delirium', 'stacy', 'refinanced', 'soil', 'quarrymen', 'enthusiasm', 'dibble', 'belvedere', 'latitudinal', 'condemned', 'inexorable', 'minima', 'flute', 'sparrow', 'depresion', 'droll', 'bingham', 'billfold', 'canis', 'hyades', 'bodleian', 'redundant', 'asexual', 'hated', 'ect', 'fcc', 'inquiry', 'xiety', '494', 'obed', 'avandia', 'toe', 'recieved', 'preoccupy', 'tulip', 'rheumatic', 'bawdy', 'programm', 'larynx', 'dakota', 'chamberlain', 'mendel', 'canticle', 'carob', 'benchmark', '002', 'verbatim', 'soluble', 'drone', 'conqueror', 'spoiled', 'excruciate', 'dahl', 'willowy', 'approx', 'cashier', 'bays', 'biock', 'auriga', 'ciosed', 'ecstatic', 'coincident', 'elijah', 'erwin', 'false', '554', 'ambrosial', 'suzerain', 'bullwhack', 'mv', 'firms', 'ector', 'founders', 'ordinate', 'zoosporocyst', 'sweeten', 'appoint', 'awful', '535', 'intelligible', 'cobblestone', 'commiserate', 'catholicexchange', 'nonsensical', 'pretension', 'clarinet', 'minn']\n"
     ]
    }
   ],
   "source": [
    "print(model.labels)"
   ]
  },
  {
   "cell_type": "code",
   "execution_count": null,
   "id": "3ad44ce8",
   "metadata": {},
   "outputs": [],
   "source": [
    "metrics.f1_score(data[\"label\"], data[\"prediction_fasttext\"], average=\"micro\")"
   ]
  },
  {
   "cell_type": "code",
   "execution_count": null,
   "id": "ad505e34",
   "metadata": {},
   "outputs": [],
   "source": [
    "metrics.f1_score(data[\"label\"], data[\"prediction_fasttext\"], average=\"macro\")"
   ]
  },
  {
   "cell_type": "code",
   "execution_count": null,
   "id": "53a1b777",
   "metadata": {},
   "outputs": [],
   "source": []
  },
  {
   "cell_type": "code",
   "execution_count": null,
   "id": "e56f4543",
   "metadata": {},
   "outputs": [],
   "source": []
  }
 ],
 "metadata": {
  "kernelspec": {
   "display_name": "Python 3 (ipykernel)",
   "language": "python",
   "name": "python3"
  },
  "language_info": {
   "codemirror_mode": {
    "name": "ipython",
    "version": 3
   },
   "file_extension": ".py",
   "mimetype": "text/x-python",
   "name": "python",
   "nbconvert_exporter": "python",
   "pygments_lexer": "ipython3",
   "version": "3.8.13"
  }
 },
 "nbformat": 4,
 "nbformat_minor": 5
}
