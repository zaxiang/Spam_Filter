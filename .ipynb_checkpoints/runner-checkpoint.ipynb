{
 "cells": [
  {
   "cell_type": "code",
   "execution_count": 1,
   "id": "bb1becff",
   "metadata": {},
   "outputs": [
    {
     "ename": "ModuleNotFoundError",
     "evalue": "No module named 'models'",
     "output_type": "error",
     "traceback": [
      "\u001b[0;31m---------------------------------------------------------------------------\u001b[0m",
      "\u001b[0;31mModuleNotFoundError\u001b[0m                       Traceback (most recent call last)",
      "\u001b[0;32m/var/folders/wp/3pw7jw9579b3fj4d_kd_cdxc0000gn/T/ipykernel_16215/1729235624.py\u001b[0m in \u001b[0;36m<module>\u001b[0;34m\u001b[0m\n\u001b[0;32m----> 1\u001b[0;31m \u001b[0;32mfrom\u001b[0m \u001b[0msrc\u001b[0m\u001b[0;34m.\u001b[0m\u001b[0mrunner\u001b[0m \u001b[0;32mimport\u001b[0m \u001b[0;34m*\u001b[0m\u001b[0;34m\u001b[0m\u001b[0;34m\u001b[0m\u001b[0m\n\u001b[0m",
      "\u001b[0;32m~/Desktop/DSC180B/Spam_Filter/src/runner.py\u001b[0m in \u001b[0;36m<module>\u001b[0;34m\u001b[0m\n\u001b[1;32m      1\u001b[0m \u001b[0;31m#run tfidf and word2vector file\u001b[0m\u001b[0;34m\u001b[0m\u001b[0;34m\u001b[0m\u001b[0;34m\u001b[0m\u001b[0m\n\u001b[0;32m----> 2\u001b[0;31m \u001b[0;32mfrom\u001b[0m \u001b[0mmodels\u001b[0m\u001b[0;34m.\u001b[0m\u001b[0mTFIDF\u001b[0m \u001b[0;32mimport\u001b[0m \u001b[0;34m*\u001b[0m\u001b[0;34m\u001b[0m\u001b[0;34m\u001b[0m\u001b[0m\n\u001b[0m\u001b[1;32m      3\u001b[0m \u001b[0;32mfrom\u001b[0m \u001b[0mmodels\u001b[0m\u001b[0;34m.\u001b[0m\u001b[0mWord2Vector\u001b[0m \u001b[0;32mimport\u001b[0m \u001b[0;34m*\u001b[0m\u001b[0;34m\u001b[0m\u001b[0;34m\u001b[0m\u001b[0m\n\u001b[1;32m      4\u001b[0m \u001b[0;34m\u001b[0m\u001b[0m\n\u001b[1;32m      5\u001b[0m \u001b[0;34m\u001b[0m\u001b[0m\n",
      "\u001b[0;31mModuleNotFoundError\u001b[0m: No module named 'models'"
     ]
    }
   ],
   "source": [
    "from src.runner import *"
   ]
  },
  {
   "cell_type": "code",
   "execution_count": 64,
   "id": "9404af32",
   "metadata": {},
   "outputs": [
    {
     "data": {
      "text/html": [
       "<style type=\"text/css\">\n",
       "#T_5dac5_row0_col0, #T_5dac5_row0_col1, #T_5dac5_row0_col2, #T_5dac5_row0_col3, #T_5dac5_row0_col4, #T_5dac5_row0_col5, #T_5dac5_row0_col6, #T_5dac5_row0_col7, #T_5dac5_row2_col0, #T_5dac5_row2_col1, #T_5dac5_row2_col2, #T_5dac5_row2_col3, #T_5dac5_row2_col4, #T_5dac5_row2_col5, #T_5dac5_row2_col6, #T_5dac5_row2_col7 {\n",
       "  background: yellow;\n",
       "}\n",
       "</style>\n",
       "<table id=\"T_5dac5\">\n",
       "  <thead>\n",
       "    <tr>\n",
       "      <th class=\"blank level0\" >&nbsp;</th>\n",
       "      <th id=\"T_5dac5_level0_col0\" class=\"col_heading level0 col0\" >NYT_coarse_Micro</th>\n",
       "      <th id=\"T_5dac5_level0_col1\" class=\"col_heading level0 col1\" >NYT_coarse_Macro</th>\n",
       "      <th id=\"T_5dac5_level0_col2\" class=\"col_heading level0 col2\" >20_coarse_Micro</th>\n",
       "      <th id=\"T_5dac5_level0_col3\" class=\"col_heading level0 col3\" >20_coarse_Macro</th>\n",
       "      <th id=\"T_5dac5_level0_col4\" class=\"col_heading level0 col4\" >NYT_fine_Micro</th>\n",
       "      <th id=\"T_5dac5_level0_col5\" class=\"col_heading level0 col5\" >NYT_fine_Macro</th>\n",
       "      <th id=\"T_5dac5_level0_col6\" class=\"col_heading level0 col6\" >20_fine_Micro</th>\n",
       "      <th id=\"T_5dac5_level0_col7\" class=\"col_heading level0 col7\" >20_fine_Macro</th>\n",
       "    </tr>\n",
       "    <tr>\n",
       "      <th class=\"index_name level0\" >Model</th>\n",
       "      <th class=\"blank col0\" >&nbsp;</th>\n",
       "      <th class=\"blank col1\" >&nbsp;</th>\n",
       "      <th class=\"blank col2\" >&nbsp;</th>\n",
       "      <th class=\"blank col3\" >&nbsp;</th>\n",
       "      <th class=\"blank col4\" >&nbsp;</th>\n",
       "      <th class=\"blank col5\" >&nbsp;</th>\n",
       "      <th class=\"blank col6\" >&nbsp;</th>\n",
       "      <th class=\"blank col7\" >&nbsp;</th>\n",
       "    </tr>\n",
       "  </thead>\n",
       "  <tbody>\n",
       "    <tr>\n",
       "      <th id=\"T_5dac5_level0_row0\" class=\"row_heading level0 row0\" >TFIDF</th>\n",
       "      <td id=\"T_5dac5_row0_col0\" class=\"data row0 col0\" >0.620000</td>\n",
       "      <td id=\"T_5dac5_row0_col1\" class=\"data row0 col1\" >0.480000</td>\n",
       "      <td id=\"T_5dac5_row0_col2\" class=\"data row0 col2\" >0.450000</td>\n",
       "      <td id=\"T_5dac5_row0_col3\" class=\"data row0 col3\" >0.500000</td>\n",
       "      <td id=\"T_5dac5_row0_col4\" class=\"data row0 col4\" >0.520000</td>\n",
       "      <td id=\"T_5dac5_row0_col5\" class=\"data row0 col5\" >0.560000</td>\n",
       "      <td id=\"T_5dac5_row0_col6\" class=\"data row0 col6\" >0.490000</td>\n",
       "      <td id=\"T_5dac5_row0_col7\" class=\"data row0 col7\" >0.520000</td>\n",
       "    </tr>\n",
       "    <tr>\n",
       "      <th id=\"T_5dac5_level0_row1\" class=\"row_heading level0 row1\" >TFIDF_given</th>\n",
       "      <td id=\"T_5dac5_row1_col0\" class=\"data row1 col0\" >0.650000</td>\n",
       "      <td id=\"T_5dac5_row1_col1\" class=\"data row1 col1\" >0.580000</td>\n",
       "      <td id=\"T_5dac5_row1_col2\" class=\"data row1 col2\" >0.490000</td>\n",
       "      <td id=\"T_5dac5_row1_col3\" class=\"data row1 col3\" >0.480000</td>\n",
       "      <td id=\"T_5dac5_row1_col4\" class=\"data row1 col4\" >0.560000</td>\n",
       "      <td id=\"T_5dac5_row1_col5\" class=\"data row1 col5\" >0.540000</td>\n",
       "      <td id=\"T_5dac5_row1_col6\" class=\"data row1 col6\" >0.530000</td>\n",
       "      <td id=\"T_5dac5_row1_col7\" class=\"data row1 col7\" >0.520000</td>\n",
       "    </tr>\n",
       "    <tr>\n",
       "      <th id=\"T_5dac5_level0_row2\" class=\"row_heading level0 row2\" >Word2Vec</th>\n",
       "      <td id=\"T_5dac5_row2_col0\" class=\"data row2 col0\" >0.930000</td>\n",
       "      <td id=\"T_5dac5_row2_col1\" class=\"data row2 col1\" >0.700000</td>\n",
       "      <td id=\"T_5dac5_row2_col2\" class=\"data row2 col2\" >0.620000</td>\n",
       "      <td id=\"T_5dac5_row2_col3\" class=\"data row2 col3\" >0.480000</td>\n",
       "      <td id=\"T_5dac5_row2_col4\" class=\"data row2 col4\" >0.180000</td>\n",
       "      <td id=\"T_5dac5_row2_col5\" class=\"data row2 col5\" >0.120000</td>\n",
       "      <td id=\"T_5dac5_row2_col6\" class=\"data row2 col6\" >0.260000</td>\n",
       "      <td id=\"T_5dac5_row2_col7\" class=\"data row2 col7\" >0.160000</td>\n",
       "    </tr>\n",
       "    <tr>\n",
       "      <th id=\"T_5dac5_level0_row3\" class=\"row_heading level0 row3\" >Word2Vec_given</th>\n",
       "      <td id=\"T_5dac5_row3_col0\" class=\"data row3 col0\" >0.920000</td>\n",
       "      <td id=\"T_5dac5_row3_col1\" class=\"data row3 col1\" >0.830000</td>\n",
       "      <td id=\"T_5dac5_row3_col2\" class=\"data row3 col2\" >0.510000</td>\n",
       "      <td id=\"T_5dac5_row3_col3\" class=\"data row3 col3\" >0.450000</td>\n",
       "      <td id=\"T_5dac5_row3_col4\" class=\"data row3 col4\" >0.690000</td>\n",
       "      <td id=\"T_5dac5_row3_col5\" class=\"data row3 col5\" >0.470000</td>\n",
       "      <td id=\"T_5dac5_row3_col6\" class=\"data row3 col6\" >0.330000</td>\n",
       "      <td id=\"T_5dac5_row3_col7\" class=\"data row3 col7\" >0.330000</td>\n",
       "    </tr>\n",
       "  </tbody>\n",
       "</table>\n"
      ],
      "text/plain": [
       "<pandas.io.formats.style.Styler at 0x7ff180caba60>"
      ]
     },
     "execution_count": 64,
     "metadata": {},
     "output_type": "execute_result"
    }
   ],
   "source": [
    "#Table of the F1 scores resultes (compared to the given results)\n",
    "data = [['TFIDF', 0.62, 0.48, 0.45, 0.50, 0.52, 0.56, 0.49, 0.52], \n",
    "        ['TFIDF_given',0.65,0.58, 0.49, 0.48, 0.56,0.54, 0.53, 0.52],\n",
    "        ['Word2Vec', 0.93, 0.70,  0.62, 0.48, 0.18, 0.12,0.26, 0.16],\n",
    "        ['Word2Vec_given', 0.92, 0.83, 0.51, 0.45, 0.69, 0.47, 0.33, 0.33]\n",
    "       ]\n",
    "\n",
    "df_result = pd.DataFrame(data, columns = ['Model','NYT_coarse_Micro','NYT_coarse_Macro',\n",
    "                                          '20_coarse_Micro','20_coarse_Macro',\n",
    "                                          'NYT_fine_Micro','NYT_fine_Macro', \n",
    "                                          '20_fine_Micro','20_fine_Macro']).set_index('Model')\n",
    "\n",
    "df_result.style.apply(lambda x: [\"background: yellow\" if x.name in ['TFIDF', 'Word2Vec'] else \"\" for i in x], axis = 1)\n",
    "\n"
   ]
  },
  {
   "cell_type": "code",
   "execution_count": 63,
   "id": "eb64e451",
   "metadata": {},
   "outputs": [
    {
     "data": {
      "text/html": [
       "<style type=\"text/css\">\n",
       "#T_b968f_row0_col3, #T_b968f_row0_col5, #T_b968f_row1_col0, #T_b968f_row1_col2, #T_b968f_row1_col3 {\n",
       "  color: green;\n",
       "}\n",
       "#T_b968f_row1_col4, #T_b968f_row1_col5 {\n",
       "  color: #ff33aa;\n",
       "}\n",
       "</style>\n",
       "<table id=\"T_b968f\">\n",
       "  <thead>\n",
       "    <tr>\n",
       "      <th class=\"blank level0\" >&nbsp;</th>\n",
       "      <th id=\"T_b968f_level0_col0\" class=\"col_heading level0 col0\" >NYT_coarse_Micro</th>\n",
       "      <th id=\"T_b968f_level0_col1\" class=\"col_heading level0 col1\" >NYT_coarse_Macro</th>\n",
       "      <th id=\"T_b968f_level0_col2\" class=\"col_heading level0 col2\" >20_coarse_Micro</th>\n",
       "      <th id=\"T_b968f_level0_col3\" class=\"col_heading level0 col3\" >20_coarse_Macro</th>\n",
       "      <th id=\"T_b968f_level0_col4\" class=\"col_heading level0 col4\" >NYT_fine_Micro</th>\n",
       "      <th id=\"T_b968f_level0_col5\" class=\"col_heading level0 col5\" >NYT_fine_Macro</th>\n",
       "      <th id=\"T_b968f_level0_col6\" class=\"col_heading level0 col6\" >20_fine_Micro</th>\n",
       "      <th id=\"T_b968f_level0_col7\" class=\"col_heading level0 col7\" >20_fine_Macro</th>\n",
       "    </tr>\n",
       "    <tr>\n",
       "      <th class=\"index_name level0\" >Model</th>\n",
       "      <th class=\"blank col0\" >&nbsp;</th>\n",
       "      <th class=\"blank col1\" >&nbsp;</th>\n",
       "      <th class=\"blank col2\" >&nbsp;</th>\n",
       "      <th class=\"blank col3\" >&nbsp;</th>\n",
       "      <th class=\"blank col4\" >&nbsp;</th>\n",
       "      <th class=\"blank col5\" >&nbsp;</th>\n",
       "      <th class=\"blank col6\" >&nbsp;</th>\n",
       "      <th class=\"blank col7\" >&nbsp;</th>\n",
       "    </tr>\n",
       "  </thead>\n",
       "  <tbody>\n",
       "    <tr>\n",
       "      <th id=\"T_b968f_level0_row0\" class=\"row_heading level0 row0\" >TFIDF</th>\n",
       "      <td id=\"T_b968f_row0_col0\" class=\"data row0 col0\" >-0.028503</td>\n",
       "      <td id=\"T_b968f_row0_col1\" class=\"data row0 col1\" >-0.099519</td>\n",
       "      <td id=\"T_b968f_row0_col2\" class=\"data row0 col2\" >-0.044904</td>\n",
       "      <td id=\"T_b968f_row0_col3\" class=\"data row0 col3\" >0.015203</td>\n",
       "      <td id=\"T_b968f_row0_col4\" class=\"data row0 col4\" >-0.035839</td>\n",
       "      <td id=\"T_b968f_row0_col5\" class=\"data row0 col5\" >0.017696</td>\n",
       "      <td id=\"T_b968f_row0_col6\" class=\"data row0 col6\" >-0.044267</td>\n",
       "      <td id=\"T_b968f_row0_col7\" class=\"data row0 col7\" >-0.002707</td>\n",
       "    </tr>\n",
       "    <tr>\n",
       "      <th id=\"T_b968f_level0_row1\" class=\"row_heading level0 row1\" >Word2Vec</th>\n",
       "      <td id=\"T_b968f_row1_col0\" class=\"data row1 col0\" >0.013027</td>\n",
       "      <td id=\"T_b968f_row1_col1\" class=\"data row1 col1\" >-0.125841</td>\n",
       "      <td id=\"T_b968f_row1_col2\" class=\"data row1 col2\" >0.112871</td>\n",
       "      <td id=\"T_b968f_row1_col3\" class=\"data row1 col3\" >0.032504</td>\n",
       "      <td id=\"T_b968f_row1_col4\" class=\"data row1 col4\" >-0.510508</td>\n",
       "      <td id=\"T_b968f_row1_col5\" class=\"data row1 col5\" >-0.352818</td>\n",
       "      <td id=\"T_b968f_row1_col6\" class=\"data row1 col6\" >-0.066787</td>\n",
       "      <td id=\"T_b968f_row1_col7\" class=\"data row1 col7\" >-0.169441</td>\n",
       "    </tr>\n",
       "  </tbody>\n",
       "</table>\n"
      ],
      "text/plain": [
       "<pandas.io.formats.style.Styler at 0x7ff1c4dc5190>"
      ]
     },
     "execution_count": 63,
     "metadata": {},
     "output_type": "execute_result"
    }
   ],
   "source": [
    "#Table of the difference between F1 scores with the given scores\n",
    "data_difference = [ ['TFIDF', 0.6214973540383447-0.65, 0.48048124610816956-0.58, \n",
    "                    0.4450955693082863-0.49, 0.49520294329382036-0.48,\n",
    "                    0.5241606662618201-0.56, 0.5576955603925752-0.54,\n",
    "                    0.48573306314694126-0.53, 0.5172928697291572-0.52],\n",
    "                    ['Word2Vec', 0.933026806627917-0.92, 0.7041593244355895-0.83,\n",
    "                    0.6228709129744235-0.51, 0.48250388205407535-0.45, \n",
    "                    0.1794916283508285-0.69, 0.11718246329492527-0.47, \n",
    "                    0.26321266224875406-0.33, 0.16055863406622267-0.33]]\n",
    "\n",
    "df_difference = pd.DataFrame(data_difference, columns = \n",
    "                             ['Model', 'NYT_coarse_Micro','NYT_coarse_Macro',\n",
    "                              '20_coarse_Micro','20_coarse_Macro',\n",
    "                              'NYT_fine_Micro','NYT_fine_Macro',\n",
    "                              '20_fine_Micro','20_fine_Macro']).set_index('Model')\n",
    "\n",
    "\n",
    "df_difference.style.apply(lambda x: [\"color: green\" if v > 0 else \"\" for v in x], axis = 1).apply(lambda x: [\"color: #ff33aa\" if v < -0.2 else \"\" for v in x], axis = 1)\n",
    "\n"
   ]
  },
  {
   "cell_type": "markdown",
   "id": "8c4302ed",
   "metadata": {},
   "source": [
    "# Coarse"
   ]
  },
  {
   "cell_type": "code",
   "execution_count": 2,
   "id": "f24a21e0",
   "metadata": {},
   "outputs": [
    {
     "name": "stdout",
     "output_type": "stream",
     "text": [
      "tokenizing documents...\n",
      "get_idf\n",
      "getting predictions\n",
      "calculating accuracy\n",
      "micro and macro f1 scores for nyt are (0.6214973540383447, 0.48048124610816956)\n"
     ]
    }
   ],
   "source": [
    "tfidf_runner_nyt = TFIDF_runner('nyt', 'coarse')"
   ]
  },
  {
   "cell_type": "code",
   "execution_count": 3,
   "id": "7d2d415b",
   "metadata": {},
   "outputs": [
    {
     "name": "stdout",
     "output_type": "stream",
     "text": [
      "tokenizing documents...\n",
      "get_idf\n",
      "getting predictions\n",
      "calculating accuracy\n",
      "micro and macro f1 scores for 20news are (0.4450955693082863, 0.49520294329382036)\n"
     ]
    }
   ],
   "source": [
    "tfidf_runner_nyt = TFIDF_runner('20news', 'coarse')"
   ]
  },
  {
   "cell_type": "code",
   "execution_count": 2,
   "id": "d57b44a2",
   "metadata": {},
   "outputs": [
    {
     "name": "stdout",
     "output_type": "stream",
     "text": [
      "tokenizing documents...\n",
      "getting the vector for each word...\n",
      "getting the vector for each document...\n",
      "getting the prediction...\n",
      "calculating accuracy\n",
      "micro and macro f1 scores for nyt are (0.933026806627917, 0.7041593244355895)\n"
     ]
    }
   ],
   "source": [
    "w2v_runner_nyt = W2V_Runner('nyt', 'coarse')"
   ]
  },
  {
   "cell_type": "code",
   "execution_count": 3,
   "id": "4f849a82",
   "metadata": {},
   "outputs": [
    {
     "name": "stdout",
     "output_type": "stream",
     "text": [
      "tokenizing documents...\n",
      "getting the vector for each word...\n",
      "getting the vector for each document...\n",
      "getting the prediction...\n",
      "calculating accuracy\n",
      "micro and macro f1 scores for 20news are (0.6228709129744235, 0.48250388205407535)\n"
     ]
    }
   ],
   "source": [
    "w2v_runner_nyt = W2V_Runner('20news', 'coarse')"
   ]
  },
  {
   "cell_type": "markdown",
   "id": "7a046dfc",
   "metadata": {},
   "source": [
    "### F1 scores before updating the tokenization func\n",
    "- TFIDF nyt coarse: (0.6056215841068795, 0.4616727216619872)\n",
    "- TFIDF 20news coarse:  (0.4335396242948683, 0.4724983248391604)\n",
    "\n",
    "- Word2Vec nyt coarse: (0.8374251756745034, 0.4204646418824273)\n",
    "- Word2Vec 20news coarse: (0.4076345911605236, 0.2902743588340004)"
   ]
  },
  {
   "cell_type": "markdown",
   "id": "6cba4cd2",
   "metadata": {},
   "source": [
    "### TFiDF: updated tokenization func:\n",
    "- nyt coarse: (0.6214973540383447, 0.48048124610816956) / （0.65 0.58): -0.03，-0.1\n",
    "- 20news coarse: (0.4450955693082863, 0.49520294329382036) / （0.49， 0.48）: -0.05, +0.01\n",
    "\n",
    "### Word2Vec: updated tokenization func:\n",
    "- nyt coarse: (0.933026806627917, 0.7041593244355895) / (0.92 0.83): +0.01, -0.13\n",
    "- 20news coarse: (0.6228709129744235, 0.48250388205407535) / (0.51, 0.45): +0.12, +0.03"
   ]
  },
  {
   "cell_type": "markdown",
   "id": "7f6614ea",
   "metadata": {},
   "source": [
    "# Fine"
   ]
  },
  {
   "cell_type": "code",
   "execution_count": 4,
   "id": "740ffd09",
   "metadata": {},
   "outputs": [
    {
     "name": "stdout",
     "output_type": "stream",
     "text": [
      "tokenizing documents...\n",
      "get_idf\n",
      "getting predictions\n",
      "calculating accuracy\n",
      "micro and macro f1 scores for nyt are (0.5241606662618201, 0.5576955603925752)\n"
     ]
    }
   ],
   "source": [
    "tfidf_runner_nyt = TFIDF_runner('nyt', 'fine')"
   ]
  },
  {
   "cell_type": "code",
   "execution_count": 5,
   "id": "77b071c5",
   "metadata": {},
   "outputs": [
    {
     "name": "stdout",
     "output_type": "stream",
     "text": [
      "tokenizing documents...\n",
      "get_idf\n",
      "getting predictions\n",
      "calculating accuracy\n",
      "micro and macro f1 scores for 20news are (0.48573306314694126, 0.5172928697291572)\n"
     ]
    }
   ],
   "source": [
    "tfidf_runner_nyt = TFIDF_runner('20news', 'fine')"
   ]
  },
  {
   "cell_type": "code",
   "execution_count": 2,
   "id": "6594fc8d",
   "metadata": {},
   "outputs": [
    {
     "name": "stdout",
     "output_type": "stream",
     "text": [
      "tokenizing documents...\n",
      "getting the vector for each word...\n",
      "getting the vector for each document...\n",
      "getting the prediction...\n",
      "calculating accuracy\n",
      "micro and macro f1 scores for nyt are (0.1794916283508285, 0.11718246329492527)\n"
     ]
    }
   ],
   "source": [
    "w2v_runner_nyt = W2V_Runner('nyt', 'fine')"
   ]
  },
  {
   "cell_type": "code",
   "execution_count": 3,
   "id": "07a511d8",
   "metadata": {},
   "outputs": [
    {
     "name": "stdout",
     "output_type": "stream",
     "text": [
      "tokenizing documents...\n",
      "getting the vector for each word...\n",
      "getting the vector for each document...\n",
      "getting the prediction...\n",
      "calculating accuracy\n",
      "micro and macro f1 scores for 20news are (0.26321266224875406, 0.16055863406622267)\n"
     ]
    }
   ],
   "source": [
    "w2v_runner_nyt = W2V_Runner('20news', 'fine')"
   ]
  },
  {
   "cell_type": "markdown",
   "id": "0ee5b403",
   "metadata": {},
   "source": [
    "### F1 scores before updating the tokenization func\n",
    "\n",
    "- TFiDF nyt fine: (0.523467, 0.584642)\n",
    "- TFiDF 20news fine:  (0.475163, 0.522269)\n",
    "- Word2Vec nyt fine: (0.297562,\t0.124704)\n",
    "- Word2Vec 20news fine: (0.162660, 0.096024)"
   ]
  },
  {
   "cell_type": "markdown",
   "id": "76a83dee",
   "metadata": {},
   "source": [
    "### TFiDF: updated tokenization func:\n",
    "- nyt fine: (0.5241606662618201, 0.5576955603925752) / （0.56 0.54): -0.04, -0.01\n",
    "- 20news fine: (0.48573306314694126, 0.5172928697291572) / （0.53， 0.52）: -0.05, -0.003\n",
    "\n",
    "### Word2Vec: updated tokenization func (without stemmer)\n",
    "- nyt fine: (0.1794916283508285, 0.11718246329492527) / (0.69 0.47):\n",
    "- 20news fine: (0.26321266224875406, 0.16055863406622267) / (0.33, 0.33):"
   ]
  },
  {
   "cell_type": "code",
   "execution_count": null,
   "id": "0a5736dd",
   "metadata": {},
   "outputs": [],
   "source": []
  }
 ],
 "metadata": {
  "kernelspec": {
   "display_name": "Python 3 (ipykernel)",
   "language": "python",
   "name": "python3"
  },
  "language_info": {
   "codemirror_mode": {
    "name": "ipython",
    "version": 3
   },
   "file_extension": ".py",
   "mimetype": "text/x-python",
   "name": "python",
   "nbconvert_exporter": "python",
   "pygments_lexer": "ipython3",
   "version": "3.8.13"
  }
 },
 "nbformat": 4,
 "nbformat_minor": 5
}
