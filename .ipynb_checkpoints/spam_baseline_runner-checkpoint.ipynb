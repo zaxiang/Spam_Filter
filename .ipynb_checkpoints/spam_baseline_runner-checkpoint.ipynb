{
 "cells": [
  {
   "cell_type": "code",
   "execution_count": 17,
   "id": "22d621ef",
   "metadata": {},
   "outputs": [
    {
     "name": "stderr",
     "output_type": "stream",
     "text": [
      "[nltk_data] Downloading package stopwords to\n",
      "[nltk_data]     /Users/xiangzairan/nltk_data...\n",
      "[nltk_data]   Package stopwords is already up-to-date!\n",
      "[nltk_data] Downloading package wordnet to\n",
      "[nltk_data]     /Users/xiangzairan/nltk_data...\n",
      "[nltk_data]   Package wordnet is already up-to-date!\n",
      "[nltk_data] Downloading package omw-1.4 to\n",
      "[nltk_data]     /Users/xiangzairan/nltk_data...\n",
      "[nltk_data]   Package omw-1.4 is already up-to-date!\n",
      "[nltk_data] Downloading package stopwords to\n",
      "[nltk_data]     /Users/xiangzairan/nltk_data...\n",
      "[nltk_data]   Package stopwords is already up-to-date!\n",
      "[nltk_data] Downloading package wordnet to\n",
      "[nltk_data]     /Users/xiangzairan/nltk_data...\n",
      "[nltk_data]   Package wordnet is already up-to-date!\n",
      "[nltk_data] Downloading package omw-1.4 to\n",
      "[nltk_data]     /Users/xiangzairan/nltk_data...\n",
      "[nltk_data]   Package omw-1.4 is already up-to-date!\n"
     ]
    }
   ],
   "source": [
    "from src.TFIDF import *\n",
    "from src.Word2Vector import *"
   ]
  },
  {
   "cell_type": "code",
   "execution_count": null,
   "id": "92b4e415",
   "metadata": {},
   "outputs": [],
   "source": [
    "{'':  Mortgage, rate, loan, refinance, insurance}\n",
    "\n",
    "{\n",
    "    \"insurance-etc\": ['Mortgage', 'rate', 'loan', 'refinance', 'insurance'],\n",
    "    \"investment\" : [\"Stock\", 'market', 'profit', 'earn', 'money', 'price', 'invest']\n",
    "}"
   ]
  },
  {
   "cell_type": "code",
   "execution_count": 14,
   "id": "5effd2dd",
   "metadata": {},
   "outputs": [],
   "source": [
    "#read spam email\n",
    "\n",
    "import os\n",
    "def read_text_file(file_path):\n",
    "    with open(file_path, 'r') as f:\n",
    "        investment_list.append(f.read())\n",
    "        \n",
    "def get_spam(cla):\n",
    "   \n",
    "    all_files = os.listdir(\"annotated/\" + cla)\n",
    "    lis = []\n",
    "\n",
    "    # iterate through all file\n",
    "    for file in all_files:\n",
    "        if file.endswith(\".txt\"):\n",
    "            file_path = \"annotated/\" + cla + \"/\" + file\n",
    "            with open(file_path, 'rb') as f:\n",
    "                lis.append(f.read())\n",
    "    return lis"
   ]
  },
  {
   "cell_type": "code",
   "execution_count": 15,
   "id": "9bac9234",
   "metadata": {},
   "outputs": [],
   "source": [
    "insurance = get_spam('insurance-etc')"
   ]
  },
  {
   "cell_type": "code",
   "execution_count": null,
   "id": "7a1bf853",
   "metadata": {},
   "outputs": [],
   "source": [
    "\n",
    "class TFIDF_runner:\n",
    "\n",
    "    def __init__(self, dataset, cla):\n",
    "\n",
    "        self.dataset = dataset\n",
    "\n",
    "        object_token = tfidf_Tokenization('./data/raw/{}/{}'.format(dataset, cla))\n",
    "\n",
    "        token = object_token.token_X()\n",
    "        seeds = object_token.modify_seeds()\n",
    "\n",
    "        self.object_tfidf = tfidf('./data/raw/{}/{}'.format(dataset, cla), token, seeds)\n",
    "\n",
    "        print (\"micro and macro f1 scores for \" + self.dataset + \" are \" + str(self.object_tfidf.get_accuracy())) \n",
    "\n",
    "class W2V_Runner:\n",
    "\n",
    "    def __init__(self, dataset, cla):\n",
    "\n",
    "        self.dataset = dataset\n",
    "\n",
    "        object_token = w2v_Tokenization('./raw/data/{}/{}'.format(dataset, cla), 100, 5, 1, 4)\n",
    "\n",
    "        token, word_dic = object_token.get_token_wordDic()\n",
    "        seeds = object_token.modify_seeds()\n",
    "\n",
    "        self.object_w2v = Word2vector('./raw/data/{}/{}'.format(dataset, cla), token, word_dic, seeds)\n",
    "\n",
    "        print ( \"micro and macro f1 scores for \" + self.dataset + \" are \" + str(self.object_w2v.get_accuracy()))\n"
   ]
  }
 ],
 "metadata": {
  "kernelspec": {
   "display_name": "Python 3 (ipykernel)",
   "language": "python",
   "name": "python3"
  },
  "language_info": {
   "codemirror_mode": {
    "name": "ipython",
    "version": 3
   },
   "file_extension": ".py",
   "mimetype": "text/x-python",
   "name": "python",
   "nbconvert_exporter": "python",
   "pygments_lexer": "ipython3",
   "version": "3.8.13"
  }
 },
 "nbformat": 4,
 "nbformat_minor": 5
}
