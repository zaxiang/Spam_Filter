{
 "cells": [
  {
   "cell_type": "code",
   "execution_count": 1,
   "id": "adbbc2c7",
   "metadata": {},
   "outputs": [
    {
     "name": "stderr",
     "output_type": "stream",
     "text": [
      "[nltk_data] Downloading package stopwords to\n",
      "[nltk_data]     /Users/xiangzairan/nltk_data...\n",
      "[nltk_data]   Package stopwords is already up-to-date!\n",
      "[nltk_data] Downloading package wordnet to\n",
      "[nltk_data]     /Users/xiangzairan/nltk_data...\n",
      "[nltk_data]   Package wordnet is already up-to-date!\n",
      "[nltk_data] Downloading package punkt to\n",
      "[nltk_data]     /Users/xiangzairan/nltk_data...\n",
      "[nltk_data]   Package punkt is already up-to-date!\n"
     ]
    },
    {
     "data": {
      "text/html": [
       "<div>\n",
       "<style scoped>\n",
       "    .dataframe tbody tr th:only-of-type {\n",
       "        vertical-align: middle;\n",
       "    }\n",
       "\n",
       "    .dataframe tbody tr th {\n",
       "        vertical-align: top;\n",
       "    }\n",
       "\n",
       "    .dataframe thead th {\n",
       "        text-align: right;\n",
       "    }\n",
       "</style>\n",
       "<table border=\"1\" class=\"dataframe\">\n",
       "  <thead>\n",
       "    <tr style=\"text-align: right;\">\n",
       "      <th></th>\n",
       "      <th>sentence</th>\n",
       "      <th>label</th>\n",
       "    </tr>\n",
       "  </thead>\n",
       "  <tbody>\n",
       "    <tr>\n",
       "      <th>0</th>\n",
       "      <td>bsubject take advantage low interest  rates nn...</td>\n",
       "      <td>insurance-etc</td>\n",
       "    </tr>\n",
       "    <tr>\n",
       "      <th>1</th>\n",
       "      <td>bsubject lowest rate us history sound nlet 600...</td>\n",
       "      <td>insurance-etc</td>\n",
       "    </tr>\n",
       "    <tr>\n",
       "      <th>2</th>\n",
       "      <td>bsubject application pre  approved monday oct ...</td>\n",
       "      <td>insurance-etc</td>\n",
       "    </tr>\n",
       "    <tr>\n",
       "      <th>3</th>\n",
       "      <td>bsubject final offerrnwed  29 sep 2004 19  16 ...</td>\n",
       "      <td>insurance-etc</td>\n",
       "    </tr>\n",
       "    <tr>\n",
       "      <th>4</th>\n",
       "      <td>bsubject application confirmation sun  14 nov ...</td>\n",
       "      <td>insurance-etc</td>\n",
       "    </tr>\n",
       "    <tr>\n",
       "      <th>...</th>\n",
       "      <td>...</td>\n",
       "      <td>...</td>\n",
       "    </tr>\n",
       "    <tr>\n",
       "      <th>13429</th>\n",
       "      <td>bsubject popular software low low prices  bury...</td>\n",
       "      <td>software-sales</td>\n",
       "    </tr>\n",
       "    <tr>\n",
       "      <th>13430</th>\n",
       "      <td>bsubject clean ur computer 3 eyrnthere 85  cha...</td>\n",
       "      <td>software-sales</td>\n",
       "    </tr>\n",
       "    <tr>\n",
       "      <th>13431</th>\n",
       "      <td>bsubject software incredibly low prices  73  l...</td>\n",
       "      <td>software-sales</td>\n",
       "    </tr>\n",
       "    <tr>\n",
       "      <th>13432</th>\n",
       "      <td>bsubject latest qem software available  low pr...</td>\n",
       "      <td>software-sales</td>\n",
       "    </tr>\n",
       "    <tr>\n",
       "      <th>13433</th>\n",
       "      <td>bsubject cnet reviews  resultsnwe favorite pro...</td>\n",
       "      <td>software-sales</td>\n",
       "    </tr>\n",
       "  </tbody>\n",
       "</table>\n",
       "<p>13434 rows × 2 columns</p>\n",
       "</div>"
      ],
      "text/plain": [
       "                                                sentence           label\n",
       "0      bsubject take advantage low interest  rates nn...   insurance-etc\n",
       "1      bsubject lowest rate us history sound nlet 600...   insurance-etc\n",
       "2      bsubject application pre  approved monday oct ...   insurance-etc\n",
       "3      bsubject final offerrnwed  29 sep 2004 19  16 ...   insurance-etc\n",
       "4      bsubject application confirmation sun  14 nov ...   insurance-etc\n",
       "...                                                  ...             ...\n",
       "13429  bsubject popular software low low prices  bury...  software-sales\n",
       "13430  bsubject clean ur computer 3 eyrnthere 85  cha...  software-sales\n",
       "13431  bsubject software incredibly low prices  73  l...  software-sales\n",
       "13432  bsubject latest qem software available  low pr...  software-sales\n",
       "13433  bsubject cnet reviews  resultsnwe favorite pro...  software-sales\n",
       "\n",
       "[13434 rows x 2 columns]"
      ]
     },
     "execution_count": 1,
     "metadata": {},
     "output_type": "execute_result"
    }
   ],
   "source": [
    "import pickle\n",
    "import pandas as pd\n",
    "import numpy as np\n",
    "import os\n",
    "import nltk\n",
    "nltk.download('stopwords')\n",
    "nltk.download('wordnet')\n",
    "nltk.download('punkt')\n",
    "from nltk.corpus import stopwords\n",
    "from nltk.stem import WordNetLemmatizer\n",
    "  \n",
    "lemmatizer = WordNetLemmatizer()\n",
    "import re\n",
    "def cleaning(sentence):\n",
    "    stop_words = set(stopwords.words('english'))\n",
    "    tokens = re.sub(r'[^\\w\\s]', '', sentence.lower()).replace(\"\\n\", \" \").split(\" \")\n",
    "    cleaned = [token for token in tokens if token not in stop_words]\n",
    "    return \" \".join(cleaned)\n",
    "labels = [\"insurance-etc\",\"investment\", \"medical-sales\", \"phising\", \"sexual\", \"software-sales\"]\n",
    "text = []\n",
    "classes = []\n",
    "for label in labels:\n",
    "#     path = 'Spam_Filter/annotated/'+label\n",
    "#     os.chdir(path)\n",
    "    \n",
    "    for cla in labels:\n",
    "        all_files = os.listdir(\"annotated/\" + cla)\n",
    "        for fil in all_files:\n",
    "            if fil.endswith(\".txt\"):\n",
    "                classes.append(cla)\n",
    "                file_path = \"annotated/\" + cla + \"/\" + fil\n",
    "                with open(file_path, 'rb') as f:\n",
    "                    text.append(cleaning(str(f.read())))\n",
    "    \n",
    "    \n",
    "#     def read_text_file(file_path):\n",
    "#         with open(file_path, 'rb') as f:\n",
    "#             return f.read()\n",
    "      \n",
    "#     for file in os.listdir():\n",
    "    \n",
    "#         if file.endswith(\".txt\"):\n",
    "#             file_path = f\"{path}/{file}\"\n",
    "#             text.append(cleaning(str(read_text_file(file_path))))\n",
    "#             classes.append(label)\n",
    "\n",
    "data = pd.DataFrame({'sentence':text, 'label':classes})\n",
    "data"
   ]
  },
  {
   "cell_type": "code",
   "execution_count": 2,
   "id": "932b7945",
   "metadata": {},
   "outputs": [],
   "source": [
    "def tfidf(word):\n",
    "    sentence = data['sentence']\n",
    "    idf = np.log(len(sentence)/sentence.str.contains(word).sum())\n",
    "    result = []\n",
    "    for i in range(len(sentence)):\n",
    "        tf = sentence.iloc[i].count(word)/(len(sentence.iloc[i]))\n",
    "        result.append(tf*idf)\n",
    "    return result\n"
   ]
  },
  {
   "cell_type": "code",
   "execution_count": 4,
   "id": "a7bf0907",
   "metadata": {},
   "outputs": [
    {
     "data": {
      "text/html": [
       "<div>\n",
       "<style scoped>\n",
       "    .dataframe tbody tr th:only-of-type {\n",
       "        vertical-align: middle;\n",
       "    }\n",
       "\n",
       "    .dataframe tbody tr th {\n",
       "        vertical-align: top;\n",
       "    }\n",
       "\n",
       "    .dataframe thead th {\n",
       "        text-align: right;\n",
       "    }\n",
       "</style>\n",
       "<table border=\"1\" class=\"dataframe\">\n",
       "  <thead>\n",
       "    <tr style=\"text-align: right;\">\n",
       "      <th></th>\n",
       "      <th>insurance-etc</th>\n",
       "      <th>investment</th>\n",
       "      <th>medical-sales</th>\n",
       "      <th>phising</th>\n",
       "      <th>sexual</th>\n",
       "      <th>software-sales</th>\n",
       "    </tr>\n",
       "  </thead>\n",
       "  <tbody>\n",
       "    <tr>\n",
       "      <th>0</th>\n",
       "      <td>0.031085</td>\n",
       "      <td>0.011590</td>\n",
       "      <td>0.000000</td>\n",
       "      <td>0.000000</td>\n",
       "      <td>0.006926</td>\n",
       "      <td>0.000000</td>\n",
       "    </tr>\n",
       "    <tr>\n",
       "      <th>1</th>\n",
       "      <td>0.055654</td>\n",
       "      <td>0.003698</td>\n",
       "      <td>0.000000</td>\n",
       "      <td>0.000000</td>\n",
       "      <td>0.000000</td>\n",
       "      <td>0.000000</td>\n",
       "    </tr>\n",
       "    <tr>\n",
       "      <th>2</th>\n",
       "      <td>0.015109</td>\n",
       "      <td>0.000000</td>\n",
       "      <td>0.001291</td>\n",
       "      <td>0.000000</td>\n",
       "      <td>0.000000</td>\n",
       "      <td>0.000000</td>\n",
       "    </tr>\n",
       "    <tr>\n",
       "      <th>3</th>\n",
       "      <td>0.011722</td>\n",
       "      <td>0.005640</td>\n",
       "      <td>0.000000</td>\n",
       "      <td>0.003313</td>\n",
       "      <td>0.000000</td>\n",
       "      <td>0.020501</td>\n",
       "    </tr>\n",
       "    <tr>\n",
       "      <th>4</th>\n",
       "      <td>0.016580</td>\n",
       "      <td>0.000000</td>\n",
       "      <td>0.002559</td>\n",
       "      <td>0.000000</td>\n",
       "      <td>0.001874</td>\n",
       "      <td>0.000000</td>\n",
       "    </tr>\n",
       "    <tr>\n",
       "      <th>...</th>\n",
       "      <td>...</td>\n",
       "      <td>...</td>\n",
       "      <td>...</td>\n",
       "      <td>...</td>\n",
       "      <td>...</td>\n",
       "      <td>...</td>\n",
       "    </tr>\n",
       "    <tr>\n",
       "      <th>13429</th>\n",
       "      <td>0.000000</td>\n",
       "      <td>0.003468</td>\n",
       "      <td>0.000000</td>\n",
       "      <td>0.000000</td>\n",
       "      <td>0.000000</td>\n",
       "      <td>0.008446</td>\n",
       "    </tr>\n",
       "    <tr>\n",
       "      <th>13430</th>\n",
       "      <td>0.000000</td>\n",
       "      <td>0.000000</td>\n",
       "      <td>0.002923</td>\n",
       "      <td>0.000000</td>\n",
       "      <td>0.000000</td>\n",
       "      <td>0.000000</td>\n",
       "    </tr>\n",
       "    <tr>\n",
       "      <th>13431</th>\n",
       "      <td>0.000000</td>\n",
       "      <td>0.003703</td>\n",
       "      <td>0.002107</td>\n",
       "      <td>0.000000</td>\n",
       "      <td>0.000000</td>\n",
       "      <td>0.009018</td>\n",
       "    </tr>\n",
       "    <tr>\n",
       "      <th>13432</th>\n",
       "      <td>0.000000</td>\n",
       "      <td>0.002296</td>\n",
       "      <td>0.000000</td>\n",
       "      <td>0.009932</td>\n",
       "      <td>0.000000</td>\n",
       "      <td>0.072341</td>\n",
       "    </tr>\n",
       "    <tr>\n",
       "      <th>13433</th>\n",
       "      <td>0.000000</td>\n",
       "      <td>0.003608</td>\n",
       "      <td>0.000000</td>\n",
       "      <td>0.006338</td>\n",
       "      <td>0.000000</td>\n",
       "      <td>0.013735</td>\n",
       "    </tr>\n",
       "  </tbody>\n",
       "</table>\n",
       "<p>13434 rows × 6 columns</p>\n",
       "</div>"
      ],
      "text/plain": [
       "       insurance-etc  investment  medical-sales   phising    sexual  \\\n",
       "0           0.031085    0.011590       0.000000  0.000000  0.006926   \n",
       "1           0.055654    0.003698       0.000000  0.000000  0.000000   \n",
       "2           0.015109    0.000000       0.001291  0.000000  0.000000   \n",
       "3           0.011722    0.005640       0.000000  0.003313  0.000000   \n",
       "4           0.016580    0.000000       0.002559  0.000000  0.001874   \n",
       "...              ...         ...            ...       ...       ...   \n",
       "13429       0.000000    0.003468       0.000000  0.000000  0.000000   \n",
       "13430       0.000000    0.000000       0.002923  0.000000  0.000000   \n",
       "13431       0.000000    0.003703       0.002107  0.000000  0.000000   \n",
       "13432       0.000000    0.002296       0.000000  0.009932  0.000000   \n",
       "13433       0.000000    0.003608       0.000000  0.006338  0.000000   \n",
       "\n",
       "       software-sales  \n",
       "0            0.000000  \n",
       "1            0.000000  \n",
       "2            0.000000  \n",
       "3            0.020501  \n",
       "4            0.000000  \n",
       "...               ...  \n",
       "13429        0.008446  \n",
       "13430        0.000000  \n",
       "13431        0.009018  \n",
       "13432        0.072341  \n",
       "13433        0.013735  \n",
       "\n",
       "[13434 rows x 6 columns]"
      ]
     },
     "execution_count": 4,
     "metadata": {},
     "output_type": "execute_result"
    }
   ],
   "source": [
    "import json\n",
    "# f = open('E:/School/DSC180/Spam-Filter/Spam_Filter/seedwords.json')\n",
    "f = open(\"seedwords.json\")\n",
    "seeds = json.load(f)\n",
    "result = pd.DataFrame()\n",
    "for key, value in seeds.items():\n",
    "    df = pd.DataFrame()\n",
    "    for w in value:\n",
    "        df[w] = tfidf(w)\n",
    "    result[key] = df.sum(axis = 1)\n",
    "result\n"
   ]
  },
  {
   "cell_type": "code",
   "execution_count": 5,
   "id": "80c53b1f",
   "metadata": {},
   "outputs": [
    {
     "data": {
      "text/html": [
       "<div>\n",
       "<style scoped>\n",
       "    .dataframe tbody tr th:only-of-type {\n",
       "        vertical-align: middle;\n",
       "    }\n",
       "\n",
       "    .dataframe tbody tr th {\n",
       "        vertical-align: top;\n",
       "    }\n",
       "\n",
       "    .dataframe thead th {\n",
       "        text-align: right;\n",
       "    }\n",
       "</style>\n",
       "<table border=\"1\" class=\"dataframe\">\n",
       "  <thead>\n",
       "    <tr style=\"text-align: right;\">\n",
       "      <th></th>\n",
       "      <th>sentence</th>\n",
       "      <th>label</th>\n",
       "      <th>prediction</th>\n",
       "    </tr>\n",
       "  </thead>\n",
       "  <tbody>\n",
       "    <tr>\n",
       "      <th>0</th>\n",
       "      <td>bsubject take advantage low interest  rates nn...</td>\n",
       "      <td>insurance-etc</td>\n",
       "      <td>insurance-etc</td>\n",
       "    </tr>\n",
       "    <tr>\n",
       "      <th>1</th>\n",
       "      <td>bsubject lowest rate us history sound nlet 600...</td>\n",
       "      <td>insurance-etc</td>\n",
       "      <td>insurance-etc</td>\n",
       "    </tr>\n",
       "    <tr>\n",
       "      <th>2</th>\n",
       "      <td>bsubject application pre  approved monday oct ...</td>\n",
       "      <td>insurance-etc</td>\n",
       "      <td>insurance-etc</td>\n",
       "    </tr>\n",
       "    <tr>\n",
       "      <th>3</th>\n",
       "      <td>bsubject final offerrnwed  29 sep 2004 19  16 ...</td>\n",
       "      <td>insurance-etc</td>\n",
       "      <td>software-sales</td>\n",
       "    </tr>\n",
       "    <tr>\n",
       "      <th>4</th>\n",
       "      <td>bsubject application confirmation sun  14 nov ...</td>\n",
       "      <td>insurance-etc</td>\n",
       "      <td>insurance-etc</td>\n",
       "    </tr>\n",
       "    <tr>\n",
       "      <th>...</th>\n",
       "      <td>...</td>\n",
       "      <td>...</td>\n",
       "      <td>...</td>\n",
       "    </tr>\n",
       "    <tr>\n",
       "      <th>13429</th>\n",
       "      <td>bsubject popular software low low prices  bury...</td>\n",
       "      <td>software-sales</td>\n",
       "      <td>software-sales</td>\n",
       "    </tr>\n",
       "    <tr>\n",
       "      <th>13430</th>\n",
       "      <td>bsubject clean ur computer 3 eyrnthere 85  cha...</td>\n",
       "      <td>software-sales</td>\n",
       "      <td>medical-sales</td>\n",
       "    </tr>\n",
       "    <tr>\n",
       "      <th>13431</th>\n",
       "      <td>bsubject software incredibly low prices  73  l...</td>\n",
       "      <td>software-sales</td>\n",
       "      <td>software-sales</td>\n",
       "    </tr>\n",
       "    <tr>\n",
       "      <th>13432</th>\n",
       "      <td>bsubject latest qem software available  low pr...</td>\n",
       "      <td>software-sales</td>\n",
       "      <td>software-sales</td>\n",
       "    </tr>\n",
       "    <tr>\n",
       "      <th>13433</th>\n",
       "      <td>bsubject cnet reviews  resultsnwe favorite pro...</td>\n",
       "      <td>software-sales</td>\n",
       "      <td>software-sales</td>\n",
       "    </tr>\n",
       "  </tbody>\n",
       "</table>\n",
       "<p>13434 rows × 3 columns</p>\n",
       "</div>"
      ],
      "text/plain": [
       "                                                sentence           label  \\\n",
       "0      bsubject take advantage low interest  rates nn...   insurance-etc   \n",
       "1      bsubject lowest rate us history sound nlet 600...   insurance-etc   \n",
       "2      bsubject application pre  approved monday oct ...   insurance-etc   \n",
       "3      bsubject final offerrnwed  29 sep 2004 19  16 ...   insurance-etc   \n",
       "4      bsubject application confirmation sun  14 nov ...   insurance-etc   \n",
       "...                                                  ...             ...   \n",
       "13429  bsubject popular software low low prices  bury...  software-sales   \n",
       "13430  bsubject clean ur computer 3 eyrnthere 85  cha...  software-sales   \n",
       "13431  bsubject software incredibly low prices  73  l...  software-sales   \n",
       "13432  bsubject latest qem software available  low pr...  software-sales   \n",
       "13433  bsubject cnet reviews  resultsnwe favorite pro...  software-sales   \n",
       "\n",
       "           prediction  \n",
       "0       insurance-etc  \n",
       "1       insurance-etc  \n",
       "2       insurance-etc  \n",
       "3      software-sales  \n",
       "4       insurance-etc  \n",
       "...               ...  \n",
       "13429  software-sales  \n",
       "13430   medical-sales  \n",
       "13431  software-sales  \n",
       "13432  software-sales  \n",
       "13433  software-sales  \n",
       "\n",
       "[13434 rows x 3 columns]"
      ]
     },
     "execution_count": 5,
     "metadata": {},
     "output_type": "execute_result"
    }
   ],
   "source": [
    "data[\"prediction\"] = result.idxmax(1)\n",
    "data"
   ]
  },
  {
   "cell_type": "code",
   "execution_count": 6,
   "id": "6ba42050",
   "metadata": {},
   "outputs": [],
   "source": [
    "# micro and macro F1 using tf-idf\n",
    "from sklearn import metrics"
   ]
  },
  {
   "cell_type": "code",
   "execution_count": 7,
   "id": "b013429c",
   "metadata": {
    "scrolled": true
   },
   "outputs": [
    {
     "data": {
      "text/plain": [
       "0.6904868244752121"
      ]
     },
     "execution_count": 7,
     "metadata": {},
     "output_type": "execute_result"
    }
   ],
   "source": [
    "metrics.f1_score(data[\"label\"], data[\"prediction\"], average=\"micro\")"
   ]
  },
  {
   "cell_type": "code",
   "execution_count": 8,
   "id": "1f00df97",
   "metadata": {},
   "outputs": [
    {
     "data": {
      "text/plain": [
       "0.6652942691853004"
      ]
     },
     "execution_count": 8,
     "metadata": {},
     "output_type": "execute_result"
    }
   ],
   "source": [
    "metrics.f1_score(data[\"label\"], data[\"prediction\"], average=\"macro\")"
   ]
  },
  {
   "cell_type": "code",
   "execution_count": null,
   "id": "8bb39d4c",
   "metadata": {},
   "outputs": [],
   "source": []
  },
  {
   "cell_type": "code",
   "execution_count": 9,
   "id": "4ef2f1fd",
   "metadata": {},
   "outputs": [],
   "source": [
    "import gensim\n",
    "from gensim.test.utils import common_texts\n",
    "from gensim.models import Word2Vec\n",
    "def preprocessing(sentence):\n",
    "    tokens = sentence.split(\" \")\n",
    "    return [token for token in tokens if token!=\"\" and token != \" \"]\n",
    "features = data[\"sentence\"].apply(preprocessing)\n",
    "model = Word2Vec(sentences=features, vector_size=100, window=5, min_count=1, workers=4)\n",
    "#features"
   ]
  },
  {
   "cell_type": "code",
   "execution_count": 10,
   "id": "600ed801",
   "metadata": {},
   "outputs": [
    {
     "data": {
      "text/plain": [
       "(37971108, 38374920)"
      ]
     },
     "execution_count": 10,
     "metadata": {},
     "output_type": "execute_result"
    }
   ],
   "source": [
    "model.save(\"word2vec.model\")\n",
    "model = Word2Vec.load(\"word2vec.model\")\n",
    "model.train(features, total_examples=len(data), epochs=20)\n",
    "#vector = model.wv[\"atheism\"]\n",
    "#vector"
   ]
  },
  {
   "cell_type": "code",
   "execution_count": 10,
   "id": "3dd44e34",
   "metadata": {},
   "outputs": [],
   "source": [
    "def get_vectors_per_label(filename):\n",
    "    f = open(filename)\n",
    "    seeds = json.load(f)\n",
    "    vector_per_label = []\n",
    "    for key, value in seeds.items():\n",
    "        lst = []\n",
    "        for w in value:\n",
    "            lst.append(model.wv[w])\n",
    "        arr = np.asarray(lst)\n",
    "        total = np.average(arr, axis=0)\n",
    "        vector_per_label.append(total)\n",
    "    return vector_per_label\n",
    "vector_per_label = get_vectors_per_label('E:/School/DSC180/Spam-Filter/Spam_Filter/seedwords.json')"
   ]
  },
  {
   "cell_type": "code",
   "execution_count": null,
   "id": "2f18640f",
   "metadata": {},
   "outputs": [],
   "source": []
  },
  {
   "cell_type": "code",
   "execution_count": 11,
   "id": "2e7bcc16",
   "metadata": {},
   "outputs": [],
   "source": [
    "def get_vector_per_doc(feature):\n",
    "    vector_per_doc = []\n",
    "    for feat in feature:\n",
    "        lst = []\n",
    "        for w in feat:\n",
    "            lst.append(model.wv[w])\n",
    "        arr = np.asarray(lst)\n",
    "        total = np.average(arr, axis=0)\n",
    "        vector_per_doc.append(total)\n",
    "    return vector_per_doc\n",
    "vector_per_doc = get_vector_per_doc(features)"
   ]
  },
  {
   "cell_type": "code",
   "execution_count": 12,
   "id": "988a06a3",
   "metadata": {},
   "outputs": [
    {
     "data": {
      "text/plain": [
       "2240"
      ]
     },
     "execution_count": 12,
     "metadata": {},
     "output_type": "execute_result"
    }
   ],
   "source": [
    "len(vector_per_doc)"
   ]
  },
  {
   "cell_type": "code",
   "execution_count": null,
   "id": "8a89c5b7",
   "metadata": {},
   "outputs": [],
   "source": []
  },
  {
   "cell_type": "code",
   "execution_count": 13,
   "id": "d97daeb5",
   "metadata": {},
   "outputs": [],
   "source": [
    "f = open('E:/School/DSC180/Spam-Filter/Spam_Filter/seedwords.json')\n",
    "seeds = json.load(f)\n",
    "from numpy.linalg import norm\n",
    "def predict_word2vec(vector_per_doc, vector_per_label):\n",
    "    predictions = []\n",
    "    labels = list(seeds.keys())\n",
    "    for doc in vector_per_doc:\n",
    "        cosine = []\n",
    "        for label in vector_per_label:\n",
    "            cosine.append(np.dot(doc,label)/(norm(doc)*norm(label)))\n",
    "        max_value = max(cosine)\n",
    "        max_index = cosine.index(max_value)\n",
    "        predictions.append(labels[max_index])\n",
    "    return predictions   \n",
    "prediction_word2vec = predict_word2vec(vector_per_doc, vector_per_label)"
   ]
  },
  {
   "cell_type": "code",
   "execution_count": 14,
   "id": "9e804645",
   "metadata": {},
   "outputs": [
    {
     "data": {
      "text/html": [
       "<div>\n",
       "<style scoped>\n",
       "    .dataframe tbody tr th:only-of-type {\n",
       "        vertical-align: middle;\n",
       "    }\n",
       "\n",
       "    .dataframe tbody tr th {\n",
       "        vertical-align: top;\n",
       "    }\n",
       "\n",
       "    .dataframe thead th {\n",
       "        text-align: right;\n",
       "    }\n",
       "</style>\n",
       "<table border=\"1\" class=\"dataframe\">\n",
       "  <thead>\n",
       "    <tr style=\"text-align: right;\">\n",
       "      <th></th>\n",
       "      <th>sentence</th>\n",
       "      <th>label</th>\n",
       "      <th>prediction</th>\n",
       "      <th>prediction_word2vec</th>\n",
       "    </tr>\n",
       "  </thead>\n",
       "  <tbody>\n",
       "    <tr>\n",
       "      <th>0</th>\n",
       "      <td>subject  h  ello dea 54 r home owner  beetcn n...</td>\n",
       "      <td>insurance-etc</td>\n",
       "      <td>insurance-etc</td>\n",
       "      <td>insurance-etc</td>\n",
       "    </tr>\n",
       "    <tr>\n",
       "      <th>1</th>\n",
       "      <td>subject make  171 hello  sent email ago  quali...</td>\n",
       "      <td>insurance-etc</td>\n",
       "      <td>insurance-etc</td>\n",
       "      <td>insurance-etc</td>\n",
       "    </tr>\n",
       "    <tr>\n",
       "      <th>2</th>\n",
       "      <td>subject 96  refinance 2  9  hi would reflnance...</td>\n",
       "      <td>insurance-etc</td>\n",
       "      <td>insurance-etc</td>\n",
       "      <td>sexual</td>\n",
       "    </tr>\n",
       "    <tr>\n",
       "      <th>3</th>\n",
       "      <td>subject 82  refinance today  low 2  9  hey wou...</td>\n",
       "      <td>insurance-etc</td>\n",
       "      <td>insurance-etc</td>\n",
       "      <td>sexual</td>\n",
       "    </tr>\n",
       "    <tr>\n",
       "      <th>4</th>\n",
       "      <td>subject 6  refinance today premium low rate he...</td>\n",
       "      <td>insurance-etc</td>\n",
       "      <td>insurance-etc</td>\n",
       "      <td>sexual</td>\n",
       "    </tr>\n",
       "    <tr>\n",
       "      <th>...</th>\n",
       "      <td>...</td>\n",
       "      <td>...</td>\n",
       "      <td>...</td>\n",
       "      <td>...</td>\n",
       "    </tr>\n",
       "    <tr>\n",
       "      <th>2235</th>\n",
       "      <td>subject  2   question soft mult gua msof  ilan...</td>\n",
       "      <td>software-sales</td>\n",
       "      <td>insurance-etc</td>\n",
       "      <td>software-sales</td>\n",
       "    </tr>\n",
       "    <tr>\n",
       "      <th>2236</th>\n",
       "      <td>subject  5   question progs mult gua msof  ila...</td>\n",
       "      <td>software-sales</td>\n",
       "      <td>insurance-etc</td>\n",
       "      <td>software-sales</td>\n",
       "    </tr>\n",
       "    <tr>\n",
       "      <th>2237</th>\n",
       "      <td>subject  7   talks soft mult gua msof  ilan ge...</td>\n",
       "      <td>software-sales</td>\n",
       "      <td>insurance-etc</td>\n",
       "      <td>software-sales</td>\n",
       "    </tr>\n",
       "    <tr>\n",
       "      <th>2238</th>\n",
       "      <td>subject dear sir  interested hi   need softwar...</td>\n",
       "      <td>software-sales</td>\n",
       "      <td>software-sales</td>\n",
       "      <td>software-sales</td>\n",
       "    </tr>\n",
       "    <tr>\n",
       "      <th>2239</th>\n",
       "      <td>__label__insuranceetc subject  h  ello dea 54 ...</td>\n",
       "      <td>software-sales</td>\n",
       "      <td>investment</td>\n",
       "      <td>investment</td>\n",
       "    </tr>\n",
       "  </tbody>\n",
       "</table>\n",
       "<p>2240 rows × 4 columns</p>\n",
       "</div>"
      ],
      "text/plain": [
       "                                               sentence           label  \\\n",
       "0     subject  h  ello dea 54 r home owner  beetcn n...   insurance-etc   \n",
       "1     subject make  171 hello  sent email ago  quali...   insurance-etc   \n",
       "2     subject 96  refinance 2  9  hi would reflnance...   insurance-etc   \n",
       "3     subject 82  refinance today  low 2  9  hey wou...   insurance-etc   \n",
       "4     subject 6  refinance today premium low rate he...   insurance-etc   \n",
       "...                                                 ...             ...   \n",
       "2235  subject  2   question soft mult gua msof  ilan...  software-sales   \n",
       "2236  subject  5   question progs mult gua msof  ila...  software-sales   \n",
       "2237  subject  7   talks soft mult gua msof  ilan ge...  software-sales   \n",
       "2238  subject dear sir  interested hi   need softwar...  software-sales   \n",
       "2239  __label__insuranceetc subject  h  ello dea 54 ...  software-sales   \n",
       "\n",
       "          prediction prediction_word2vec  \n",
       "0      insurance-etc       insurance-etc  \n",
       "1      insurance-etc       insurance-etc  \n",
       "2      insurance-etc              sexual  \n",
       "3      insurance-etc              sexual  \n",
       "4      insurance-etc              sexual  \n",
       "...              ...                 ...  \n",
       "2235   insurance-etc      software-sales  \n",
       "2236   insurance-etc      software-sales  \n",
       "2237   insurance-etc      software-sales  \n",
       "2238  software-sales      software-sales  \n",
       "2239      investment          investment  \n",
       "\n",
       "[2240 rows x 4 columns]"
      ]
     },
     "execution_count": 14,
     "metadata": {},
     "output_type": "execute_result"
    }
   ],
   "source": [
    "data[\"prediction_word2vec\"] = prediction_word2vec\n",
    "data"
   ]
  },
  {
   "cell_type": "code",
   "execution_count": 15,
   "id": "2f8b4d40",
   "metadata": {},
   "outputs": [
    {
     "data": {
      "text/plain": [
       "0.5955357142857143"
      ]
     },
     "execution_count": 15,
     "metadata": {},
     "output_type": "execute_result"
    }
   ],
   "source": [
    "# micro and macro F1 using word2vec\n",
    "metrics.f1_score(data[\"label\"], data[\"prediction_word2vec\"], average=\"micro\")"
   ]
  },
  {
   "cell_type": "code",
   "execution_count": 16,
   "id": "96cbe228",
   "metadata": {},
   "outputs": [
    {
     "data": {
      "text/plain": [
       "0.5948597080581206"
      ]
     },
     "execution_count": 16,
     "metadata": {},
     "output_type": "execute_result"
    }
   ],
   "source": [
    "metrics.f1_score(data[\"label\"], data[\"prediction_word2vec\"], average=\"macro\")"
   ]
  },
  {
   "cell_type": "code",
   "execution_count": 17,
   "id": "163c1c5c",
   "metadata": {},
   "outputs": [
    {
     "data": {
      "text/plain": [
       "0.5955357142857143"
      ]
     },
     "execution_count": 17,
     "metadata": {},
     "output_type": "execute_result"
    }
   ],
   "source": [
    "sum(data[\"prediction_word2vec\"] == data[\"label\"])/len(data)"
   ]
  },
  {
   "cell_type": "code",
   "execution_count": null,
   "id": "a7559151",
   "metadata": {},
   "outputs": [],
   "source": []
  },
  {
   "cell_type": "markdown",
   "id": "04323e16-586b-44cd-83f7-07a9133c4b49",
   "metadata": {},
   "source": [
    "## Explore New Data Preprocessing techniques (still in progress)"
   ]
  },
  {
   "cell_type": "code",
   "execution_count": 18,
   "id": "1ff78362-bc1d-4bd9-8841-b4aee7693f18",
   "metadata": {},
   "outputs": [
    {
     "data": {
      "text/html": [
       "<div>\n",
       "<style scoped>\n",
       "    .dataframe tbody tr th:only-of-type {\n",
       "        vertical-align: middle;\n",
       "    }\n",
       "\n",
       "    .dataframe tbody tr th {\n",
       "        vertical-align: top;\n",
       "    }\n",
       "\n",
       "    .dataframe thead th {\n",
       "        text-align: right;\n",
       "    }\n",
       "</style>\n",
       "<table border=\"1\" class=\"dataframe\">\n",
       "  <thead>\n",
       "    <tr style=\"text-align: right;\">\n",
       "      <th></th>\n",
       "      <th>sentence</th>\n",
       "      <th>label</th>\n",
       "    </tr>\n",
       "  </thead>\n",
       "  <tbody>\n",
       "    <tr>\n",
       "      <th>0</th>\n",
       "      <td>subject  h  ello dea 54 r home owner  beetcn n...</td>\n",
       "      <td>insurance-etc</td>\n",
       "    </tr>\n",
       "    <tr>\n",
       "      <th>1</th>\n",
       "      <td>subject make  171 hello  sent email ago  quali...</td>\n",
       "      <td>insurance-etc</td>\n",
       "    </tr>\n",
       "    <tr>\n",
       "      <th>2</th>\n",
       "      <td>subject 96  refinance 2  9  hi would reflnance...</td>\n",
       "      <td>insurance-etc</td>\n",
       "    </tr>\n",
       "    <tr>\n",
       "      <th>3</th>\n",
       "      <td>subject 82  refinance today  low 2  9  hey wou...</td>\n",
       "      <td>insurance-etc</td>\n",
       "    </tr>\n",
       "    <tr>\n",
       "      <th>4</th>\n",
       "      <td>subject 6  refinance today premium low rate he...</td>\n",
       "      <td>insurance-etc</td>\n",
       "    </tr>\n",
       "    <tr>\n",
       "      <th>...</th>\n",
       "      <td>...</td>\n",
       "      <td>...</td>\n",
       "    </tr>\n",
       "    <tr>\n",
       "      <th>2235</th>\n",
       "      <td>subject  2   question soft mult gua msof  ilan...</td>\n",
       "      <td>software-sales</td>\n",
       "    </tr>\n",
       "    <tr>\n",
       "      <th>2236</th>\n",
       "      <td>subject  5   question progs mult gua msof  ila...</td>\n",
       "      <td>software-sales</td>\n",
       "    </tr>\n",
       "    <tr>\n",
       "      <th>2237</th>\n",
       "      <td>subject  7   talks soft mult gua msof  ilan ge...</td>\n",
       "      <td>software-sales</td>\n",
       "    </tr>\n",
       "    <tr>\n",
       "      <th>2238</th>\n",
       "      <td>subject dear sir  interested hi   need softwar...</td>\n",
       "      <td>software-sales</td>\n",
       "    </tr>\n",
       "    <tr>\n",
       "      <th>2239</th>\n",
       "      <td>__label__insuranceetc subject  h  ello dea 54 ...</td>\n",
       "      <td>software-sales</td>\n",
       "    </tr>\n",
       "  </tbody>\n",
       "</table>\n",
       "<p>2240 rows × 2 columns</p>\n",
       "</div>"
      ],
      "text/plain": [
       "                                               sentence           label\n",
       "0     subject  h  ello dea 54 r home owner  beetcn n...   insurance-etc\n",
       "1     subject make  171 hello  sent email ago  quali...   insurance-etc\n",
       "2     subject 96  refinance 2  9  hi would reflnance...   insurance-etc\n",
       "3     subject 82  refinance today  low 2  9  hey wou...   insurance-etc\n",
       "4     subject 6  refinance today premium low rate he...   insurance-etc\n",
       "...                                                 ...             ...\n",
       "2235  subject  2   question soft mult gua msof  ilan...  software-sales\n",
       "2236  subject  5   question progs mult gua msof  ila...  software-sales\n",
       "2237  subject  7   talks soft mult gua msof  ilan ge...  software-sales\n",
       "2238  subject dear sir  interested hi   need softwar...  software-sales\n",
       "2239  __label__insuranceetc subject  h  ello dea 54 ...  software-sales\n",
       "\n",
       "[2240 rows x 2 columns]"
      ]
     },
     "execution_count": 18,
     "metadata": {},
     "output_type": "execute_result"
    }
   ],
   "source": [
    "lemmatizer = WordNetLemmatizer()\n",
    "import re\n",
    "def cleaning(sentence):\n",
    "    stop_words = set(stopwords.words('english'))\n",
    "    tokens = re.sub(r'[^\\w\\s]', '', sentence.lower()).replace(\"\\n\", \" \").split(\" \")\n",
    "    cleaned = [token for token in tokens if token not in stop_words]\n",
    "    joined = \" \".join(cleaned)\n",
    "    return joined\n",
    "labels = [\"insurance-etc\",\"investment\", \"medical-sales\", \"phising\", \"sexual\", \"software-sales\"]\n",
    "text = []\n",
    "classes = []\n",
    "for label in labels:\n",
    "    path = 'E:/School/DSC180/Spam-Filter/Spam_Filter/Annotated/'+label\n",
    "    os.chdir(path)\n",
    "  \n",
    "    def read_text_file(file_path):\n",
    "        with open(file_path, 'r', encoding='ISO-8859-1') as f:\n",
    "            return f.read()\n",
    "      \n",
    "    for file in os.listdir():\n",
    "    \n",
    "        if file.endswith(\".txt\"):\n",
    "            file_path = f\"{path}/{file}\"\n",
    "            text.append(cleaning(str(read_text_file(file_path))))\n",
    "            classes.append(label)\n",
    "\n",
    "data = pd.DataFrame({'sentence':text, 'label':classes})\n",
    "data"
   ]
  },
  {
   "cell_type": "code",
   "execution_count": 23,
   "id": "127fc87c-9db3-43a8-a274-51704f1efab8",
   "metadata": {},
   "outputs": [
    {
     "name": "stdout",
     "output_type": "stream",
     "text": [
      "0       [subject, h, ello, dea, 54, r, home, owner, be...\n",
      "1       [subject, make, 171, hello, sent, email, ago, ...\n",
      "2       [subject, 96, refinance, 2, 9, hi, would, refl...\n",
      "3       [subject, 82, refinance, today, low, 2, 9, hey...\n",
      "4       [subject, 6, refinance, today, premium, low, r...\n",
      "                              ...                        \n",
      "2235    [subject, 2, question, soft, mult, gua, msof, ...\n",
      "2236    [subject, 5, question, progs, mult, gua, msof,...\n",
      "2237    [subject, 7, talks, soft, mult, gua, msof, ila...\n",
      "2238    [subject, dear, sir, interested, hi, need, sof...\n",
      "2239    [__label__insuranceetc, subject, h, ello, dea,...\n",
      "Name: sentence, Length: 2240, dtype: object\n",
      "['subject', 'h', 'ello', 'dea', '54', 'r', 'home', 'owner', 'beetcn', 'notiffiyved', 'morayt', 'goage', 'r', 'ate', 'fixed', 'verbry', 'h', 'igh', 'teosrest', 'rate', 'theqgrefor', '5', 'e', 'yjoou', 'currently', 'overpaying', 'suzms', 'thousainds', 'dol', 'lagars', 'annuallouy', 'luo', '5', 'ckily', 'fe', '_', 'tx', '3', 'hje', 'u', '3', 'r', '3', '39', 'hurry', 'beca', 'use', 'rat', 'e', 'forp', '8', 'ecarmst', '9', 'looking', 'good', 'oblibgat', 'ion', 'frqee', 'loczk', '3', '39', 'evelon', 'bazzd', 'cre', 'dcoit', 'click', 'h', 'ere', 'fooxr', 'dextails', 'r', 'emove', 'r', 'e']\n"
     ]
    }
   ],
   "source": [
    "import gensim\n",
    "from gensim.test.utils import common_texts\n",
    "from gensim.models import Word2Vec\n",
    "def preprocessing(sentence):\n",
    "    tokens = sentence.lower().split(\" \")\n",
    "    return [token for token in tokens if token!=\"\" and token != \" \"]\n",
    "features = data[\"sentence\"].apply(preprocessing)\n",
    "print(features)\n",
    "print(features.iloc[0])\n",
    "model = Word2Vec(sentences=features, vector_size=100, window=5, min_count=1, workers=4)\n",
    "#features"
   ]
  },
  {
   "cell_type": "code",
   "execution_count": 24,
   "id": "ed40ebac-7201-4d88-acb2-d1025f788f8d",
   "metadata": {},
   "outputs": [
    {
     "data": {
      "text/plain": [
       "(6665197, 13156120)"
      ]
     },
     "execution_count": 24,
     "metadata": {},
     "output_type": "execute_result"
    }
   ],
   "source": [
    "model.save(\"word2vec.model\")\n",
    "model = Word2Vec.load(\"word2vec.model\")\n",
    "model.train(features, total_examples=len(data), epochs=20)"
   ]
  },
  {
   "cell_type": "code",
   "execution_count": 25,
   "id": "39e566de-c697-4679-b1d6-731b16d66fa6",
   "metadata": {},
   "outputs": [],
   "source": [
    "def get_vectors_per_label(filename):\n",
    "    f = open(filename)\n",
    "    seeds = json.load(f)\n",
    "    vector_per_label = []\n",
    "    for key, value in seeds.items():\n",
    "        lst = []\n",
    "        for w in value:\n",
    "            lst.append(model.wv[w])\n",
    "        arr = np.asarray(lst)\n",
    "        total = np.average(arr, axis=0)\n",
    "        vector_per_label.append(total)\n",
    "    return vector_per_label\n",
    "vector_per_label = get_vectors_per_label('E:/School/DSC180/Spam-Filter/Spam_Filter/seedwords.json')"
   ]
  },
  {
   "cell_type": "code",
   "execution_count": 26,
   "id": "ce0d3291-70ca-4a88-91eb-61988829786c",
   "metadata": {},
   "outputs": [],
   "source": [
    "def get_vector_per_doc(feature):\n",
    "    vector_per_doc = []\n",
    "    for feat in feature:\n",
    "        lst = []\n",
    "        for w in feat:\n",
    "            lst.append(model.wv[w])\n",
    "        arr = np.asarray(lst)\n",
    "        total = np.average(arr, axis=0)\n",
    "        vector_per_doc.append(total)\n",
    "    return vector_per_doc\n",
    "vector_per_doc = get_vector_per_doc(features)"
   ]
  },
  {
   "cell_type": "code",
   "execution_count": 27,
   "id": "aeb7784e-68df-4710-91d0-10400f9e9dbc",
   "metadata": {},
   "outputs": [],
   "source": [
    "f = open('E:/School/DSC180/Spam-Filter/Spam_Filter/seedwords.json')\n",
    "seeds = json.load(f)\n",
    "from numpy.linalg import norm\n",
    "def predict_word2vec(vector_per_doc, vector_per_label):\n",
    "    predictions = []\n",
    "    labels = list(seeds.keys())\n",
    "    for doc in vector_per_doc:\n",
    "        cosine = []\n",
    "        for label in vector_per_label:\n",
    "            cosine.append(np.dot(doc,label)/(norm(doc)*norm(label)))\n",
    "        max_value = max(cosine)\n",
    "        max_index = cosine.index(max_value)\n",
    "        predictions.append(labels[max_index])\n",
    "    return predictions   \n",
    "prediction_word2vec = predict_word2vec(vector_per_doc, vector_per_label)"
   ]
  },
  {
   "cell_type": "code",
   "execution_count": 28,
   "id": "ea4f5e78-7c1c-4c03-972d-cd624650e9b4",
   "metadata": {},
   "outputs": [
    {
     "data": {
      "text/plain": [
       "'subject 96  refinance 2  9  hi would reflnance knew  save thousands   get lnterest low 2  98    believe  fill small online questionaire  show  get house  car always wanted  takes 2 minutes time  http    www  bralamone  com '"
      ]
     },
     "execution_count": 28,
     "metadata": {},
     "output_type": "execute_result"
    }
   ],
   "source": [
    "data.iloc[2].sentence"
   ]
  },
  {
   "cell_type": "code",
   "execution_count": 29,
   "id": "2ac19630-3c5e-4d7b-9c9d-d2fd0abc8502",
   "metadata": {},
   "outputs": [
    {
     "data": {
      "text/html": [
       "<div>\n",
       "<style scoped>\n",
       "    .dataframe tbody tr th:only-of-type {\n",
       "        vertical-align: middle;\n",
       "    }\n",
       "\n",
       "    .dataframe tbody tr th {\n",
       "        vertical-align: top;\n",
       "    }\n",
       "\n",
       "    .dataframe thead th {\n",
       "        text-align: right;\n",
       "    }\n",
       "</style>\n",
       "<table border=\"1\" class=\"dataframe\">\n",
       "  <thead>\n",
       "    <tr style=\"text-align: right;\">\n",
       "      <th></th>\n",
       "      <th>sentence</th>\n",
       "      <th>label</th>\n",
       "      <th>prediction_word2vec</th>\n",
       "    </tr>\n",
       "  </thead>\n",
       "  <tbody>\n",
       "    <tr>\n",
       "      <th>0</th>\n",
       "      <td>subject  h  ello dea 54 r home owner  beetcn n...</td>\n",
       "      <td>insurance-etc</td>\n",
       "      <td>insurance-etc</td>\n",
       "    </tr>\n",
       "    <tr>\n",
       "      <th>1</th>\n",
       "      <td>subject make  171 hello  sent email ago  quali...</td>\n",
       "      <td>insurance-etc</td>\n",
       "      <td>insurance-etc</td>\n",
       "    </tr>\n",
       "    <tr>\n",
       "      <th>2</th>\n",
       "      <td>subject 96  refinance 2  9  hi would reflnance...</td>\n",
       "      <td>insurance-etc</td>\n",
       "      <td>sexual</td>\n",
       "    </tr>\n",
       "    <tr>\n",
       "      <th>3</th>\n",
       "      <td>subject 82  refinance today  low 2  9  hey wou...</td>\n",
       "      <td>insurance-etc</td>\n",
       "      <td>sexual</td>\n",
       "    </tr>\n",
       "    <tr>\n",
       "      <th>4</th>\n",
       "      <td>subject 6  refinance today premium low rate he...</td>\n",
       "      <td>insurance-etc</td>\n",
       "      <td>sexual</td>\n",
       "    </tr>\n",
       "    <tr>\n",
       "      <th>...</th>\n",
       "      <td>...</td>\n",
       "      <td>...</td>\n",
       "      <td>...</td>\n",
       "    </tr>\n",
       "    <tr>\n",
       "      <th>2235</th>\n",
       "      <td>subject  2   question soft mult gua msof  ilan...</td>\n",
       "      <td>software-sales</td>\n",
       "      <td>software-sales</td>\n",
       "    </tr>\n",
       "    <tr>\n",
       "      <th>2236</th>\n",
       "      <td>subject  5   question progs mult gua msof  ila...</td>\n",
       "      <td>software-sales</td>\n",
       "      <td>software-sales</td>\n",
       "    </tr>\n",
       "    <tr>\n",
       "      <th>2237</th>\n",
       "      <td>subject  7   talks soft mult gua msof  ilan ge...</td>\n",
       "      <td>software-sales</td>\n",
       "      <td>software-sales</td>\n",
       "    </tr>\n",
       "    <tr>\n",
       "      <th>2238</th>\n",
       "      <td>subject dear sir  interested hi   need softwar...</td>\n",
       "      <td>software-sales</td>\n",
       "      <td>software-sales</td>\n",
       "    </tr>\n",
       "    <tr>\n",
       "      <th>2239</th>\n",
       "      <td>__label__insuranceetc subject  h  ello dea 54 ...</td>\n",
       "      <td>software-sales</td>\n",
       "      <td>investment</td>\n",
       "    </tr>\n",
       "  </tbody>\n",
       "</table>\n",
       "<p>2240 rows × 3 columns</p>\n",
       "</div>"
      ],
      "text/plain": [
       "                                               sentence           label  \\\n",
       "0     subject  h  ello dea 54 r home owner  beetcn n...   insurance-etc   \n",
       "1     subject make  171 hello  sent email ago  quali...   insurance-etc   \n",
       "2     subject 96  refinance 2  9  hi would reflnance...   insurance-etc   \n",
       "3     subject 82  refinance today  low 2  9  hey wou...   insurance-etc   \n",
       "4     subject 6  refinance today premium low rate he...   insurance-etc   \n",
       "...                                                 ...             ...   \n",
       "2235  subject  2   question soft mult gua msof  ilan...  software-sales   \n",
       "2236  subject  5   question progs mult gua msof  ila...  software-sales   \n",
       "2237  subject  7   talks soft mult gua msof  ilan ge...  software-sales   \n",
       "2238  subject dear sir  interested hi   need softwar...  software-sales   \n",
       "2239  __label__insuranceetc subject  h  ello dea 54 ...  software-sales   \n",
       "\n",
       "     prediction_word2vec  \n",
       "0          insurance-etc  \n",
       "1          insurance-etc  \n",
       "2                 sexual  \n",
       "3                 sexual  \n",
       "4                 sexual  \n",
       "...                  ...  \n",
       "2235      software-sales  \n",
       "2236      software-sales  \n",
       "2237      software-sales  \n",
       "2238      software-sales  \n",
       "2239          investment  \n",
       "\n",
       "[2240 rows x 3 columns]"
      ]
     },
     "execution_count": 29,
     "metadata": {},
     "output_type": "execute_result"
    }
   ],
   "source": [
    "data[\"prediction_word2vec\"] = prediction_word2vec\n",
    "data"
   ]
  },
  {
   "cell_type": "code",
   "execution_count": 30,
   "id": "859d44a2-c80f-4a52-b53a-ee2d35d3d381",
   "metadata": {},
   "outputs": [
    {
     "data": {
      "text/plain": [
       "0.60625"
      ]
     },
     "execution_count": 30,
     "metadata": {},
     "output_type": "execute_result"
    }
   ],
   "source": [
    "# micro and macro F1 using word2vec\n",
    "metrics.f1_score(data[\"label\"], data[\"prediction_word2vec\"], average=\"micro\")"
   ]
  },
  {
   "cell_type": "code",
   "execution_count": 31,
   "id": "846d87b8-26b9-40e0-af8f-331ddc80f714",
   "metadata": {},
   "outputs": [
    {
     "data": {
      "text/plain": [
       "0.5982628173027044"
      ]
     },
     "execution_count": 31,
     "metadata": {},
     "output_type": "execute_result"
    }
   ],
   "source": [
    "# micro and macro F1 using word2vec\n",
    "metrics.f1_score(data[\"label\"], data[\"prediction_word2vec\"], average=\"macro\")"
   ]
  },
  {
   "cell_type": "markdown",
   "id": "ed9c3316-e4cf-4d01-b348-c0a21cae1e57",
   "metadata": {},
   "source": [
    "## Try FastText"
   ]
  },
  {
   "cell_type": "code",
   "execution_count": 116,
   "id": "14d95c17-bbd2-40d4-8ba1-83a9602e4ae2",
   "metadata": {},
   "outputs": [],
   "source": [
    "import fasttext"
   ]
  },
  {
   "cell_type": "code",
   "execution_count": 120,
   "id": "0f9f3113-1f1a-4f11-a2a0-95731772ddc3",
   "metadata": {},
   "outputs": [],
   "source": [
    "# Change to whatever directory you want\n",
    "#os.chdir(\"E:\\School\\DSC180\\Spam-Filter\\Spam_Filter/\")"
   ]
  },
  {
   "cell_type": "code",
   "execution_count": 121,
   "id": "32626a10-7803-4f3a-8aa4-0e3b297110c9",
   "metadata": {},
   "outputs": [],
   "source": [
    "with open('spam-train.txt', 'w') as f:\n",
    "    f.write('test')"
   ]
  },
  {
   "cell_type": "code",
   "execution_count": 122,
   "id": "2529dcad-2288-4cd1-a65e-bfb28f13749d",
   "metadata": {},
   "outputs": [],
   "source": [
    "with open('spam-train.txt', 'w', encoding=\"utf-8\") as f:\n",
    "    for idx, row in data.iterrows():\n",
    "        f.write(\"__label__\" + row.label + \" \" + row.sentence)"
   ]
  },
  {
   "cell_type": "code",
   "execution_count": 123,
   "id": "16f279f1-9609-40d2-ac7f-509b567714a3",
   "metadata": {},
   "outputs": [],
   "source": [
    "model = fasttext.train_supervised(input='spam-train.txt', epoch=500, lr=0.5, wordNgrams=2, loss='hs', dim=50)"
   ]
  },
  {
   "cell_type": "code",
   "execution_count": 124,
   "id": "d17574ce-4c16-4ce6-bcaa-c40a0f1143b3",
   "metadata": {},
   "outputs": [],
   "source": [
    "fastText_df = pd.DataFrame(data.sentence)\n",
    "fastText_df['label'] = data.label\n",
    "preds = []\n",
    "for sentence in fastText_df.sentence:\n",
    "    pred = model.predict(sentence)\n",
    "    try:\n",
    "        label = pred[0][0].replace(\"__label__\", \"\")\n",
    "        preds.append(label)\n",
    "    except:\n",
    "        # cant predict? Predict most common label \n",
    "        preds.append('medical-sales')"
   ]
  },
  {
   "cell_type": "code",
   "execution_count": 125,
   "id": "811d4e11-5527-4d7d-8f2d-0c65de4e6422",
   "metadata": {},
   "outputs": [
    {
     "data": {
      "text/html": [
       "<div>\n",
       "<style scoped>\n",
       "    .dataframe tbody tr th:only-of-type {\n",
       "        vertical-align: middle;\n",
       "    }\n",
       "\n",
       "    .dataframe tbody tr th {\n",
       "        vertical-align: top;\n",
       "    }\n",
       "\n",
       "    .dataframe thead th {\n",
       "        text-align: right;\n",
       "    }\n",
       "</style>\n",
       "<table border=\"1\" class=\"dataframe\">\n",
       "  <thead>\n",
       "    <tr style=\"text-align: right;\">\n",
       "      <th></th>\n",
       "      <th>sentence</th>\n",
       "      <th>label</th>\n",
       "      <th>pred</th>\n",
       "    </tr>\n",
       "  </thead>\n",
       "  <tbody>\n",
       "    <tr>\n",
       "      <th>0</th>\n",
       "      <td>subject  h  ello dea 54 r home owner  beetcn n...</td>\n",
       "      <td>insurance-etc</td>\n",
       "      <td>medical-sales</td>\n",
       "    </tr>\n",
       "    <tr>\n",
       "      <th>1</th>\n",
       "      <td>subject make  171 hello  sent email ago  quali...</td>\n",
       "      <td>insurance-etc</td>\n",
       "      <td>medical-sales</td>\n",
       "    </tr>\n",
       "    <tr>\n",
       "      <th>2</th>\n",
       "      <td>subject 96  refinance 2  9  hi would reflnance...</td>\n",
       "      <td>insurance-etc</td>\n",
       "      <td>medical-sales</td>\n",
       "    </tr>\n",
       "    <tr>\n",
       "      <th>3</th>\n",
       "      <td>subject 82  refinance today  low 2  9  hey wou...</td>\n",
       "      <td>insurance-etc</td>\n",
       "      <td>medical-sales</td>\n",
       "    </tr>\n",
       "    <tr>\n",
       "      <th>4</th>\n",
       "      <td>subject 6  refinance today premium low rate he...</td>\n",
       "      <td>insurance-etc</td>\n",
       "      <td>medical-sales</td>\n",
       "    </tr>\n",
       "    <tr>\n",
       "      <th>...</th>\n",
       "      <td>...</td>\n",
       "      <td>...</td>\n",
       "      <td>...</td>\n",
       "    </tr>\n",
       "    <tr>\n",
       "      <th>2235</th>\n",
       "      <td>subject  2   question soft mult gua msof  ilan...</td>\n",
       "      <td>software-sales</td>\n",
       "      <td>medical-sales</td>\n",
       "    </tr>\n",
       "    <tr>\n",
       "      <th>2236</th>\n",
       "      <td>subject  5   question progs mult gua msof  ila...</td>\n",
       "      <td>software-sales</td>\n",
       "      <td>medical-sales</td>\n",
       "    </tr>\n",
       "    <tr>\n",
       "      <th>2237</th>\n",
       "      <td>subject  7   talks soft mult gua msof  ilan ge...</td>\n",
       "      <td>software-sales</td>\n",
       "      <td>medical-sales</td>\n",
       "    </tr>\n",
       "    <tr>\n",
       "      <th>2238</th>\n",
       "      <td>subject dear sir  interested hi   need softwar...</td>\n",
       "      <td>software-sales</td>\n",
       "      <td>medical-sales</td>\n",
       "    </tr>\n",
       "    <tr>\n",
       "      <th>2239</th>\n",
       "      <td>__label__insuranceetc subject  h  ello dea 54 ...</td>\n",
       "      <td>software-sales</td>\n",
       "      <td>medical-sales</td>\n",
       "    </tr>\n",
       "  </tbody>\n",
       "</table>\n",
       "<p>2240 rows × 3 columns</p>\n",
       "</div>"
      ],
      "text/plain": [
       "                                               sentence           label  \\\n",
       "0     subject  h  ello dea 54 r home owner  beetcn n...   insurance-etc   \n",
       "1     subject make  171 hello  sent email ago  quali...   insurance-etc   \n",
       "2     subject 96  refinance 2  9  hi would reflnance...   insurance-etc   \n",
       "3     subject 82  refinance today  low 2  9  hey wou...   insurance-etc   \n",
       "4     subject 6  refinance today premium low rate he...   insurance-etc   \n",
       "...                                                 ...             ...   \n",
       "2235  subject  2   question soft mult gua msof  ilan...  software-sales   \n",
       "2236  subject  5   question progs mult gua msof  ila...  software-sales   \n",
       "2237  subject  7   talks soft mult gua msof  ilan ge...  software-sales   \n",
       "2238  subject dear sir  interested hi   need softwar...  software-sales   \n",
       "2239  __label__insuranceetc subject  h  ello dea 54 ...  software-sales   \n",
       "\n",
       "               pred  \n",
       "0     medical-sales  \n",
       "1     medical-sales  \n",
       "2     medical-sales  \n",
       "3     medical-sales  \n",
       "4     medical-sales  \n",
       "...             ...  \n",
       "2235  medical-sales  \n",
       "2236  medical-sales  \n",
       "2237  medical-sales  \n",
       "2238  medical-sales  \n",
       "2239  medical-sales  \n",
       "\n",
       "[2240 rows x 3 columns]"
      ]
     },
     "execution_count": 125,
     "metadata": {},
     "output_type": "execute_result"
    }
   ],
   "source": [
    "fastText_df['pred'] = preds\n",
    "fastText_df"
   ]
  },
  {
   "cell_type": "code",
   "execution_count": 126,
   "id": "2c653ef7-a0d3-4341-9c47-ee5088d2faf1",
   "metadata": {},
   "outputs": [
    {
     "data": {
      "text/plain": [
       "0.3732142857142857"
      ]
     },
     "execution_count": 126,
     "metadata": {},
     "output_type": "execute_result"
    }
   ],
   "source": [
    "# micro and macro F1 using word2vec\n",
    "metrics.f1_score(fastText_df[\"label\"], fastText_df[\"pred\"], average=\"micro\")"
   ]
  },
  {
   "cell_type": "code",
   "execution_count": 127,
   "id": "aedf2ce5-8c1c-4a0d-89ab-87ea4e72c02c",
   "metadata": {},
   "outputs": [
    {
     "data": {
      "text/plain": [
       "0.08129923174170961"
      ]
     },
     "execution_count": 127,
     "metadata": {},
     "output_type": "execute_result"
    }
   ],
   "source": [
    "metrics.f1_score(fastText_df[\"label\"], fastText_df[\"pred\"], average=\"macro\")"
   ]
  }
 ],
 "metadata": {
  "kernelspec": {
   "display_name": "Python 3 (ipykernel)",
   "language": "python",
   "name": "python3"
  },
  "language_info": {
   "codemirror_mode": {
    "name": "ipython",
    "version": 3
   },
   "file_extension": ".py",
   "mimetype": "text/x-python",
   "name": "python",
   "nbconvert_exporter": "python",
   "pygments_lexer": "ipython3",
   "version": "3.8.13"
  }
 },
 "nbformat": 4,
 "nbformat_minor": 5
}
