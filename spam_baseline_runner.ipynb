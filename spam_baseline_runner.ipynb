{
 "cells": [
  {
   "cell_type": "code",
   "execution_count": 1,
   "id": "22d621ef",
   "metadata": {},
   "outputs": [
    {
     "name": "stderr",
     "output_type": "stream",
     "text": [
      "[nltk_data] Downloading package stopwords to\n",
      "[nltk_data]     /Users/xiangzairan/nltk_data...\n",
      "[nltk_data]   Package stopwords is already up-to-date!\n",
      "[nltk_data] Downloading package wordnet to\n",
      "[nltk_data]     /Users/xiangzairan/nltk_data...\n",
      "[nltk_data]   Package wordnet is already up-to-date!\n",
      "[nltk_data] Downloading package omw-1.4 to\n",
      "[nltk_data]     /Users/xiangzairan/nltk_data...\n",
      "[nltk_data]   Package omw-1.4 is already up-to-date!\n",
      "[nltk_data] Downloading package stopwords to\n",
      "[nltk_data]     /Users/xiangzairan/nltk_data...\n",
      "[nltk_data]   Package stopwords is already up-to-date!\n",
      "[nltk_data] Downloading package wordnet to\n",
      "[nltk_data]     /Users/xiangzairan/nltk_data...\n",
      "[nltk_data]   Package wordnet is already up-to-date!\n",
      "[nltk_data] Downloading package omw-1.4 to\n",
      "[nltk_data]     /Users/xiangzairan/nltk_data...\n",
      "[nltk_data]   Package omw-1.4 is already up-to-date!\n"
     ]
    }
   ],
   "source": [
    "from src.TFIDF import *\n",
    "from src.Word2Vector import *"
   ]
  },
  {
   "cell_type": "markdown",
   "id": "eacfc619",
   "metadata": {},
   "source": [
    "## Baseline of Baseline model \n",
    "- (TFIDF with the initial seed words): accuracy about 0.5\n",
    "- (TFIDF with updated seed words): accuracy 0.67\n",
    "\n",
    "not looking good for baseline model..."
   ]
  },
  {
   "cell_type": "code",
   "execution_count": 2,
   "id": "2549d109",
   "metadata": {},
   "outputs": [
    {
     "name": "stdout",
     "output_type": "stream",
     "text": [
      "tokenizing documents...\n"
     ]
    }
   ],
   "source": [
    "class_lis = ['insurance-etc', 'investment', 'medical-sales', 'phising', 'sexual', 'software-sales']\n",
    "\n",
    "object_token = tfidf_Tokenization(class_lis)\n",
    "token = object_token.token_X()\n",
    "seeds = object_token.modify_seeds()"
   ]
  },
  {
   "cell_type": "code",
   "execution_count": 3,
   "id": "9549d207",
   "metadata": {},
   "outputs": [
    {
     "name": "stdout",
     "output_type": "stream",
     "text": [
      "currently have 2119 of spam email data\n"
     ]
    }
   ],
   "source": [
    "print(\"currently have\", len(token), \"of spam email data\" )"
   ]
  },
  {
   "cell_type": "code",
   "execution_count": 4,
   "id": "c96e229b",
   "metadata": {},
   "outputs": [
    {
     "name": "stdout",
     "output_type": "stream",
     "text": [
      "get_idf\n",
      "getting predictions\n",
      "calculating accuracy\n"
     ]
    },
    {
     "data": {
      "text/plain": [
       "(0.6715431807456347, 0.6587230004781627)"
      ]
     },
     "execution_count": 4,
     "metadata": {},
     "output_type": "execute_result"
    }
   ],
   "source": [
    "object_tfidf = tfidf(token, seeds, class_lis)\n",
    "\n",
    "#get the tfidf model accuracy based on the initial seed words set (based on some common sense)\n",
    "object_tfidf.get_accuracy()"
   ]
  },
  {
   "cell_type": "markdown",
   "id": "8b7822ed",
   "metadata": {},
   "source": [
    "- With initial seed words: The accuracy scores (0.5441245870693724, 0.5430148863392392) doesn't looks so good for a baseline model, especially for tfidf\n",
    "\n",
    "- with updated seed words: (0.6715431807456347, 0.6587230004781627)"
   ]
  },
  {
   "cell_type": "markdown",
   "id": "4180af47",
   "metadata": {},
   "source": [
    "### Find the common words in each class and update the seed word sets"
   ]
  },
  {
   "cell_type": "code",
   "execution_count": 5,
   "id": "6173de5b",
   "metadata": {},
   "outputs": [],
   "source": [
    "from collections import defaultdict\n",
    "\n",
    "def get_common_word(seeds, cla): #input as a list with a single value in it\n",
    "    \n",
    "    object_token = tfidf_Tokenization(cla)\n",
    "    token = object_token.token_X()\n",
    "    seeds = object_token.modify_seeds()\n",
    "\n",
    "    object_tfidf = tfidf(token, seeds, cla)\n",
    "    idf = object_tfidf.get_idf()\n",
    "    \n",
    "    #get the frequency ranking for the exsiting seed words: (might remove if its above 100)\n",
    "    seeds_words = seeds[cla[0]]\n",
    "    rank = {key: rank for rank, key in enumerate(sorted(idf, key=idf.get, reverse=True), 1)}\n",
    "    \n",
    "    seeds_rank_dict = defaultdict(int)\n",
    "    for s in seeds_words:\n",
    "        if s in rank:\n",
    "            seeds_rank_dict[s] = rank[s]\n",
    "        else:\n",
    "            seeds_rank_dict[s] = 1000000\n",
    "    \n",
    "    #getthe frequency of all the words in this class:\n",
    "    sort_list = sorted(idf.items(), key=lambda x:x[1], reverse=True)\n",
    "    \n",
    "    print(\"the class\", cla, \"has \", len(sort_list), \"data in it.\")\n",
    "    \n",
    "    return seeds_rank_dict, sort_list[:100] #return ranking of exsiting seed and the most 100 common words in that class\n",
    "   \n",
    "    "
   ]
  },
  {
   "cell_type": "code",
   "execution_count": 6,
   "id": "e9cd14a2",
   "metadata": {},
   "outputs": [
    {
     "name": "stdout",
     "output_type": "stream",
     "text": [
      "tokenizing documents...\n",
      "get_idf\n",
      "the class ['insurance-etc'] has  6272 data in it.\n",
      "defaultdict(<class 'int'>, {'credit': 16, 'cash': 40, 'home': 45, 'mortgag': 5, 'rate': 2, 'loan': 19, 'refin': 17})\n",
      "tokenizing documents...\n",
      "get_idf\n",
      "the class ['investment'] has  8351 data in it.\n",
      "defaultdict(<class 'int'>, {'stock': 14, 'market': 73, 'price': 15, 'invest': 4, 'interest': 39, 'statement': 10, 'secur': 6, 'base': 24, 'risk': 23, 'trade': 22, 'uncertainti': 68})\n",
      "tokenizing documents...\n",
      "get_idf\n",
      "the class ['medical-sales'] has  22355 data in it.\n",
      "defaultdict(<class 'int'>, {'pill': 13, 'buy': 41, 'medic': 9, 'drug': 11, 'prescript': 8, 'med': 19, 'doctor': 35, 'viagra': 37, 'pain': 52, 'effect': 61})\n",
      "tokenizing documents...\n",
      "get_idf\n",
      "the class ['phising'] has  15046 data in it.\n",
      "defaultdict(<class 'int'>, {'lotteri': 58, 'win': 68, 'bank': 24, 'award': 84, 'money': 2, 'confidenti': 25, 'agent': 54, 'winner': 78, 'prize': 86, 'unclaim': 93})\n",
      "tokenizing documents...\n",
      "get_idf\n",
      "the class ['sexual'] has  3364 data in it.\n",
      "defaultdict(<class 'int'>, {'sex': 20, 'horni': 56, 'date': 17, 'free': 23, 'woman': 9, 'girl': 10, 'sexual': 14, 'video': 15, 'porn': 29, 'adult': 35, 'cheat': 45, 'hottest': 60, 'teen': 63, 'cum': 91})\n",
      "tokenizing documents...\n",
      "get_idf\n",
      "the class ['software-sales'] has  8282 data in it.\n",
      "defaultdict(<class 'int'>, {'softwar': 2, 'price': 5, 'microsoft': 14, 'adob': 9, 'offic': 4, 'system': 6, 'photoshop': 13, 'window': 21, 'offer': 15, 'download': 83, 'server': 85})\n"
     ]
    }
   ],
   "source": [
    "print(get_common_word(seeds, ['insurance-etc'])[0])\n",
    "print(get_common_word(seeds, ['investment'])[0])\n",
    "print(get_common_word(seeds, ['medical-sales'])[0])\n",
    "print(get_common_word(seeds, ['phising'])[0])\n",
    "print(get_common_word(seeds, ['sexual'])[0])\n",
    "print(get_common_word(seeds, ['software-sales'])[0])\n",
    "\n",
    "#show ranking (not frequency, larger number means worse)"
   ]
  },
  {
   "cell_type": "markdown",
   "id": "fd1a231f",
   "metadata": {},
   "source": [
    "#### Delete\n",
    "- insurance_top: insur\n",
    "- investment_top: profit, earn, money, \n",
    "- medical_top: sale, pharmaci, health, enhanc\n",
    "- phising_top: director, congrat, \n",
    "- sexual_top: webcam, fuck\n",
    "- software_top: sale, buy, order, "
   ]
  },
  {
   "cell_type": "code",
   "execution_count": 7,
   "id": "27b746de",
   "metadata": {},
   "outputs": [
    {
     "name": "stdout",
     "output_type": "stream",
     "text": [
      "tokenizing documents...\n",
      "get_idf\n",
      "the class ['insurance-etc'] has  6272 data in it.\n",
      "tokenizing documents...\n",
      "get_idf\n",
      "the class ['investment'] has  8351 data in it.\n",
      "tokenizing documents...\n",
      "get_idf\n",
      "the class ['medical-sales'] has  22355 data in it.\n",
      "tokenizing documents...\n",
      "get_idf\n",
      "the class ['phising'] has  15046 data in it.\n",
      "tokenizing documents...\n",
      "get_idf\n",
      "the class ['sexual'] has  3364 data in it.\n",
      "tokenizing documents...\n",
      "get_idf\n",
      "the class ['software-sales'] has  8282 data in it.\n"
     ]
    }
   ],
   "source": [
    "insurance_top = get_common_word(seeds, ['insurance-etc'])[1]\n",
    "investment_top = get_common_word(seeds, ['investment'])[1]\n",
    "medical_top = get_common_word(seeds, ['medical-sales'])[1]\n",
    "phising_top = get_common_word(seeds, ['phising'])[1]\n",
    "sexual_top = get_common_word(seeds, ['sexual'])[1]\n",
    "software_top = get_common_word(seeds, ['software-sales'])[1]"
   ]
  },
  {
   "cell_type": "markdown",
   "id": "50ad597c",
   "metadata": {},
   "source": [
    "#### Add: frequency in()\n",
    "\n",
    "- insurance_top: credit (44), cash(30), home(28), \n",
    "- investment_top: statement(120), secur(122), base(114), risk(114), trade(114), uncertainti(100)\n",
    "- medical_top: med(128), doctor(96), viagra(92), pain(79), effect(77), \n",
    "- phising_top: money(219), confidenti(138), agent(108), winner(96), prize(92), unclaim(89)\n",
    "- sexual_top: girl(23), sexual(22), video(20), porn(14), adult(13), cheat(11), hottest(10), teen(10), cum(9) (we have a few data in this category, thats why the even top words' frequency is so low compared to other classes, but the wording is actually very different from the rest of the classes, so we are expecting the model to perform very well for this class)\n",
    "- software_top: offic(126), system(101), photoshop(82), window(66), offer(77), download(37), server(37)\n"
   ]
  },
  {
   "cell_type": "markdown",
   "id": "db073ec1",
   "metadata": {},
   "source": [
    "#### Now (updated seed words)\n",
    "\n",
    "  \"insurance-etc\": \n",
    "    \"credit\", \"cash\", \"home\", \"Mortgage\", \"rate\", \"loan\", \"refinance\"\n",
    "  \n",
    "  \n",
    "  \"investment\": \n",
    "    \"Stock\", \"market\", \"price\", \"invest\", \"interest\", \"statement\", \"secur\", \"base\", \"risk\", \"trade\", \"uncertainti\"\n",
    "  \n",
    "  \n",
    "  \"medical-sales\": \n",
    "    \"Pill\", \"buy\", \"medication\", \"drug\", \"prescription\", \"med\", \"doctor\", \"viagra\", \"pain\", \"effect\"\n",
    "  \n",
    "  \n",
    "  \"phising\": \n",
    "    \"Lottery\", \"win\", \"bank\", \"award\", \"money\", \"confidenti\", \"agent\", \"winner\", \"prize\", \"unclaim\"\n",
    "  \n",
    "  \n",
    "  \"sexual\": \n",
    "    \"sex\", \"horny\", \"date\", \"free\", \"sex\", \"woman\", \"girl\", \"sexual\", \"video\", \"porn\", \"adult\", \"cheat\", \"hottest\", \"teen\", \"cum\" \n",
    "  \n",
    "  \n",
    "  \"software-sales\": \n",
    "    \"Software\", \"price\", \"microsoft\", \"Adobe\", \"offic\", \"system\", \"photoshop\", \"window\", \"offer\", \"download\", \"server\"\n",
    "  "
   ]
  },
  {
   "cell_type": "markdown",
   "id": "0b1826c5",
   "metadata": {},
   "source": [
    "\n",
    "#### Previous: \n",
    "- 'insurance-etc': 'mortgag', 'rate', 'loan', 'refin', 'insur'\n",
    "- 'investment': 'stock', 'market', 'profit', 'earn', 'money', 'price','invest'\n",
    "- 'medical-sales': 'pill','sale','buy','pharmaci','health','medic','drug','prescript', 'enhanc'\n",
    "- 'phising': 'lotteri', 'win', 'director', 'bank', 'award', 'congrat'\n",
    "- 'sexual': 'webcam', 'sex', 'horni', 'date', 'free', 'sex', 'woman', 'fuck'\n",
    "- 'software-sales': 'softwar','sale','buy','order','price','microsoft','adob'\n"
   ]
  },
  {
   "cell_type": "markdown",
   "id": "610471c6",
   "metadata": {},
   "source": [
    "Previous seed words frequency ranking in each class:\n",
    "\n",
    "<img src=\"./images/previous_seeds_ranking.png\" width=900/>"
   ]
  },
  {
   "cell_type": "markdown",
   "id": "5bb6fb90",
   "metadata": {},
   "source": [
    "questions:\n",
    "- does the numbers of seed matters (same for each class? or more seed word for class with less data in it)\n",
    "- anyway to combine with other model (using the length, subject of the email as well)\n"
   ]
  },
  {
   "cell_type": "markdown",
   "id": "10103527",
   "metadata": {},
   "source": [
    "TODO:\n",
    "\n",
    "- try W2V"
   ]
  },
  {
   "cell_type": "code",
   "execution_count": 8,
   "id": "ca5458d6",
   "metadata": {},
   "outputs": [],
   "source": [
    "# dic_scores = defaultdict(int)\n",
    "\n",
    "# for doc in token:\n",
    "#     for c in list(seeds.keys()):\n",
    "#         tfidf = object_tfidf.get_tfidf_stat(doc, seeds[c])\n",
    "#         dic_scores[c] = tfidf\n",
    "   "
   ]
  }
 ],
 "metadata": {
  "kernelspec": {
   "display_name": "Python 3 (ipykernel)",
   "language": "python",
   "name": "python3"
  },
  "language_info": {
   "codemirror_mode": {
    "name": "ipython",
    "version": 3
   },
   "file_extension": ".py",
   "mimetype": "text/x-python",
   "name": "python",
   "nbconvert_exporter": "python",
   "pygments_lexer": "ipython3",
   "version": "3.8.13"
  }
 },
 "nbformat": 4,
 "nbformat_minor": 5
}
